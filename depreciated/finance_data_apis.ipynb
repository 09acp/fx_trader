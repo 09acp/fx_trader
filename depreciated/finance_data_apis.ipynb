{
 "cells": [
  {
   "cell_type": "markdown",
   "metadata": {},
   "source": [
    "# Data for financial ML Projects\n",
    "\n",
    "## [Quantopian Data](https://www.quantopian.com/docs/data-reference/factset_fundamentals)\n",
    "- scripts aims to explore different datasets offered for free via api\n",
    "- **DATA ONLY AVAILABLE THROUGH THEIR BROWSER - CANNOT INSTALL PIP**\n",
    "- Only equities\n",
    "\n",
    "## [Quandl datasets](https://www.quandl.com/search?filters=%5B%22Free%22%5D)\n"
   ]
  },
  {
   "cell_type": "code",
   "execution_count": null,
   "metadata": {},
   "outputs": [],
   "source": []
  },
  {
   "cell_type": "markdown",
   "metadata": {},
   "source": [
    "https://lionbridge.ai/datasets/top-10-stock-market-datasets-for-machine-learning/\n"
   ]
  },
  {
   "cell_type": "code",
   "execution_count": null,
   "metadata": {},
   "outputs": [],
   "source": []
  },
  {
   "cell_type": "code",
   "execution_count": null,
   "metadata": {},
   "outputs": [],
   "source": []
  },
  {
   "cell_type": "code",
   "execution_count": null,
   "metadata": {},
   "outputs": [],
   "source": []
  }
 ],
 "metadata": {
  "kernelspec": {
   "display_name": "Python 3",
   "language": "python",
   "name": "python3"
  },
  "language_info": {
   "codemirror_mode": {
    "name": "ipython",
    "version": 3
   },
   "file_extension": ".py",
   "mimetype": "text/x-python",
   "name": "python",
   "nbconvert_exporter": "python",
   "pygments_lexer": "ipython3",
   "version": "3.7.4"
  }
 },
 "nbformat": 4,
 "nbformat_minor": 2
}
