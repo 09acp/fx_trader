{
 "cells": [
  {
   "cell_type": "code",
   "execution_count": 1,
   "metadata": {},
   "outputs": [
    {
     "data": {
      "text/html": [
       "<div>\n",
       "<style scoped>\n",
       "    .dataframe tbody tr th:only-of-type {\n",
       "        vertical-align: middle;\n",
       "    }\n",
       "\n",
       "    .dataframe tbody tr th {\n",
       "        vertical-align: top;\n",
       "    }\n",
       "\n",
       "    .dataframe thead th {\n",
       "        text-align: right;\n",
       "    }\n",
       "</style>\n",
       "<table border=\"1\" class=\"dataframe\">\n",
       "  <thead>\n",
       "    <tr style=\"text-align: right;\">\n",
       "      <th></th>\n",
       "      <th>Target</th>\n",
       "      <th>Prediction</th>\n",
       "      <th>Correct</th>\n",
       "      <th>% Buy</th>\n",
       "      <th>% Sell</th>\n",
       "      <th>Price</th>\n",
       "      <th>Open</th>\n",
       "      <th>High</th>\n",
       "      <th>Low</th>\n",
       "      <th>Close</th>\n",
       "      <th>Prob Buy</th>\n",
       "      <th>Prob Sell</th>\n",
       "      <th>Balance</th>\n",
       "      <th>Profit</th>\n",
       "      <th>comp_0</th>\n",
       "      <th>comp_1</th>\n",
       "      <th>t-SNE_1</th>\n",
       "      <th>t-SNE_2</th>\n",
       "      <th>Cluster</th>\n",
       "      <th>Confidence %</th>\n",
       "    </tr>\n",
       "    <tr>\n",
       "      <th>Date</th>\n",
       "      <th></th>\n",
       "      <th></th>\n",
       "      <th></th>\n",
       "      <th></th>\n",
       "      <th></th>\n",
       "      <th></th>\n",
       "      <th></th>\n",
       "      <th></th>\n",
       "      <th></th>\n",
       "      <th></th>\n",
       "      <th></th>\n",
       "      <th></th>\n",
       "      <th></th>\n",
       "      <th></th>\n",
       "      <th></th>\n",
       "      <th></th>\n",
       "      <th></th>\n",
       "      <th></th>\n",
       "      <th></th>\n",
       "      <th></th>\n",
       "    </tr>\n",
       "  </thead>\n",
       "  <tbody>\n",
       "    <tr>\n",
       "      <td>2004-03-01</td>\n",
       "      <td>0</td>\n",
       "      <td>1</td>\n",
       "      <td>0</td>\n",
       "      <td>37.25</td>\n",
       "      <td>62.75</td>\n",
       "      <td>0.8034</td>\n",
       "      <td>0.755824</td>\n",
       "      <td>0.762779</td>\n",
       "      <td>0.758515</td>\n",
       "      <td>0.76933</td>\n",
       "      <td>0.364423</td>\n",
       "      <td>0.635577</td>\n",
       "      <td>9903.846154</td>\n",
       "      <td>-96.153846</td>\n",
       "      <td>-0.019401</td>\n",
       "      <td>0.017532</td>\n",
       "      <td>22.393435</td>\n",
       "      <td>-12.548299</td>\n",
       "      <td>5</td>\n",
       "      <td>62.75</td>\n",
       "    </tr>\n",
       "  </tbody>\n",
       "</table>\n",
       "</div>"
      ],
      "text/plain": [
       "            Target  Prediction  Correct  % Buy  % Sell   Price      Open  \\\n",
       "Date                                                                       \n",
       "2004-03-01       0           1        0  37.25   62.75  0.8034  0.755824   \n",
       "\n",
       "                High       Low    Close  Prob Buy  Prob Sell      Balance  \\\n",
       "Date                                                                        \n",
       "2004-03-01  0.762779  0.758515  0.76933  0.364423   0.635577  9903.846154   \n",
       "\n",
       "               Profit    comp_0    comp_1    t-SNE_1    t-SNE_2  Cluster  \\\n",
       "Date                                                                       \n",
       "2004-03-01 -96.153846 -0.019401  0.017532  22.393435 -12.548299        5   \n",
       "\n",
       "            Confidence %  \n",
       "Date                      \n",
       "2004-03-01         62.75  "
      ]
     },
     "execution_count": 1,
     "metadata": {},
     "output_type": "execute_result"
    }
   ],
   "source": [
    "import pandas as pd \n",
    "import numpy as np \n",
    "import sqlite3 as sql\n",
    "# import pickle\n",
    "# import dateutil.parser # to parse ISO date\n",
    "from datetime import datetime, timedelta\n",
    "\n",
    "# Plotly\n",
    "import plotly.graph_objects as go\n",
    "\n",
    "# Web app\n",
    "import dash\n",
    "import dash_core_components as dcc\n",
    "import dash_html_components as html\n",
    "from dash.dependencies import Input, Output, State\n",
    "import dash_table\n",
    "\n",
    "database_name = \"FX_data/database.db\"\n",
    "\n",
    "conn = sql.connect('FX_data/database.db')\n",
    "cur = conn.cursor()\n",
    "df = pd.read_sql_query(\"SELECT * FROM eda_data_LR \",conn)\n",
    "df['Date'] = pd.to_datetime(df['Date'])\n",
    "df.set_index(['Date'],inplace=True)\n",
    "conn.close()\n",
    "\n",
    "# FOR DASH APP\n",
    "cluster_options = [{'label': i, 'value': i} for i in list(df[\"Cluster\"].unique())]\n",
    "year_options = pd.DatetimeIndex(df.reset_index()['Date']).year #.year\n",
    "action_options = [{'label': k, 'value': v} for k,v in {('Sell Signal',0),('Buy Signal',1)}]#[{'label': i, 'value': i} for i in list(df[\"Prediction\"].unique())]\n",
    "forecast_options = [{'label': k, 'value': v} for k,v in {('Forecasted Wrongly',0),('Forecasted Correctly',1)}]#[{'label': i, 'value': i} for i in list(df[\"Correct\"].unique())]\n",
    "dataset_options = [{'label':'All Trades','value':'eda_data_LR'}, {'label':'Profitable Subgroups','value':'profitable_subgroups'}]\n",
    "model_options = [{'label': k, 'value': v} for k,v in {('Logistic Regression',0),('Random Forest',1)}],\n",
    "\n",
    "#df = pd.read_sql_query(\"SELECT * FROM profitable_subgroups\", conn)\n",
    "df.head(1)"
   ]
  },
  {
   "cell_type": "code",
   "execution_count": 67,
   "metadata": {},
   "outputs": [
    {
     "data": {
      "text/plain": [
       "[{'label': Timestamp('2004-03-01 00:00:00'),\n",
       "  'value': Timestamp('2004-03-01 00:00:00')},\n",
       " {'label': Timestamp('2004-03-02 00:00:00'),\n",
       "  'value': Timestamp('2004-03-02 00:00:00')},\n",
       " {'label': Timestamp('2004-03-03 00:00:00'),\n",
       "  'value': Timestamp('2004-03-03 00:00:00')},\n",
       " {'label': Timestamp('2004-03-04 00:00:00'),\n",
       "  'value': Timestamp('2004-03-04 00:00:00')},\n",
       " {'label': Timestamp('2004-03-05 00:00:00'),\n",
       "  'value': Timestamp('2004-03-05 00:00:00')}]"
      ]
     },
     "execution_count": 67,
     "metadata": {},
     "output_type": "execute_result"
    }
   ],
   "source": [
    "# days_options = pd.DatetimeIndex(df.reset_index()['Date'])\n",
    "\n",
    "days_options = [{'label': i, 'value': i} for i in pd.DatetimeIndex(df.reset_index()['Date'])]\n",
    "#str(i)[:-9]\n",
    "days_options[:5]\n",
    "\n",
    "\n",
    "\n",
    "# {'points': [{'customdata': '2005-10-10 00:00:00'}]}"
   ]
  },
  {
   "cell_type": "markdown",
   "metadata": {},
   "source": [
    "### Layout\n",
    "- [Learn More link](https://github.com/plotly/dash-sample-apps/blob/master/apps/dash-oil-and-gas/app.py)\n",
    "- [features Medium example](https://medium.com/@leclercqz.acacio/build-a-dashboard-from-scratch-using-dash-python-framework-7bd0ea986f6)\n",
    "- [Price charts](https://plot.ly/python/time-series/)\n",
    "- [Candle sticks](https://plot.ly/python/candlestick-charts/)\n",
    "##### ISSUES \n",
    "- ~~<font color=red> Setting the heigh/width on scatterplot callback interferes with layout </font>~~\n",
    "    - added __ in left box to increase height "
   ]
  },
  {
   "cell_type": "code",
   "execution_count": 109,
   "metadata": {},
   "outputs": [],
   "source": [
    "# DEFINE HTML TEMPLATE\n",
    "external_stylesheets = ['https://codepen.io/chriddyp/pen/bWLwgP.css']\n",
    "app = dash.Dash(__name__, external_stylesheets=external_stylesheets)\n",
    "\n",
    "\n",
    "app.layout = html.Div(\n",
    "    [\n",
    "        dcc.Store(\n",
    "            id=\"aggregate_data\", \n",
    "        ),\n",
    "        # TITLE BANNER\n",
    "        html.Div(\n",
    "            [\n",
    "                html.Div(\n",
    "                    [\n",
    "                        html.H1(\n",
    "                        \" USD/EUR TRADES \",\n",
    "                        style={\"margin-bottom\": \"0px\"},\n",
    "                        ),\n",
    "                        html.H3(\n",
    "                        \"Identifying under/over performing trades for improved profitability\",\n",
    "                        #\" Model Performance Evaluation \",\n",
    "                        style={\"margin-top\": \"0px\"},\n",
    "                        #style = {\"line-height\": \"60px\"},\n",
    "                        ),\n",
    "                    html.Hr(),\n",
    "                    ],\n",
    "                    className=\"ten columns\",\n",
    "                ),\n",
    "                html.Div(\n",
    "                    [\n",
    "                        html.Img(\n",
    "                            src=\"https://media-exp1.licdn.com/dms/image/C4D03AQEcxZXx15lL-w/profile-displayphoto-shrink_100_100/0?e=1586995200&v=beta&t=dO0XD0N3rBbGGhCBO2Ds-OZJjAvEPzpwlXZz2ps2LJI\",\n",
    "                            #\"https://s3-us-west-1.amazonaws.com/plotly-tutorials/logo/new-branding/dash-logo-by-plotly-stripe.png\",\n",
    "#                             style={\n",
    "#                                 \"height\": \"60px\",\n",
    "#                                 \"width\": \"auto\",\n",
    "#                                 \"margin-bottom\": \"25px\",\n",
    "#                             },\n",
    "                        ),\n",
    "                    #html.Hr(),\n",
    "                    ],className=\"two columns\",                       \n",
    "                ),           \n",
    "                #\n",
    "            ],\n",
    "            id=\"header\",\n",
    "            className = \"row flex-display\",\n",
    "            style={\"margin-bottom\": \"25px\"},\n",
    "        ),       \n",
    "        # USER OPTION PANNEL SEPARATE\n",
    "        html.Div(       \n",
    "            [\n",
    "                html.Div(\n",
    "                    [\n",
    "                        html.B(\n",
    "                            \"User Option Panel\",\n",
    "                            #style={\"textAlign\":\"centered\"},           # <-------------------  3doesnt work\n",
    "                            #align=\"center\",\n",
    "                        ), # name for section (Card)\n",
    "                        \n",
    "                        html.Hr(),  # underline for section \n",
    "                        #0 Model ( All trades / Profitable Subgroup)   <------------------ NOT MEANT TO WORK\n",
    "                        html.P(\n",
    "                            \"Select Forecasting Model:\",\n",
    "                            className=\"control_label\",\n",
    "                        ),\n",
    "                        dcc.Dropdown(\n",
    "                            id='model_1',\n",
    "                            options= model_options,\n",
    "                            value= 0,\n",
    "                            #style={\"display\": \"block\",\"margin-left\": \"0\",\"width\": \"40%\"},\n",
    "                            placeholder= \"Logistic Regression\", \n",
    "                            searchable=False,\n",
    "                            clearable=False,\n",
    "                            className=\"dcc_control\",\n",
    "                        ),  \n",
    "                        html.Hr(),                        \n",
    "                        #1 Dataset ( All trades / Profitable Subgroup)\n",
    "                        html.P(\n",
    "                            \"Select All Clusters / Profitable Clusters:\",\n",
    "                            className=\"control_label\",\n",
    "                        ),\n",
    "                        dcc.Dropdown(\n",
    "                            id='dataset_1',\n",
    "                            options= dataset_options,\n",
    "                            value= 'eda_data_LR',\n",
    "                            #style={\"display\": \"block\",\"margin-left\": \"0\",\"width\": \"40%\"},\n",
    "                            placeholder= \"Select a dataset\", \n",
    "                            searchable=False,\n",
    "                            clearable=False,\n",
    "                            className=\"dcc_control\",\n",
    "                        ),  \n",
    "                        html.Hr(),\n",
    "                        #2 Cluster Dropdown \n",
    "                        html.P(\n",
    "                            \"Cluster Dropdown:\",\n",
    "                            className=\"control_panel\",\n",
    "                        ), \n",
    "                        dcc.Dropdown(\n",
    "                            id='cluster_1',\n",
    "                            options=cluster_options, \n",
    "                            multi=True,\n",
    "                            value= list(range(0,10)), #list(df[\"Cluster\"].unique().sort_values()),\n",
    "                            #style={\"display\": \"block\",\"margin-left\": \"0\",\"width\": \"70%\"},\n",
    "                            className=\"dcc_control\",                      \n",
    "                        ),  \n",
    "                        html.Hr(),\n",
    "                        #3 Trade Actions - Buy/Sell\n",
    "                        html.P(\n",
    "                            \"Select Trade Type:\",\n",
    "                            className=\"control_panel\",\n",
    "                        ), \n",
    "                        dcc.Checklist(\n",
    "                            id='action_1',\n",
    "                            options=action_options,\n",
    "                            value= [0,1],                            \n",
    "                            style={\"display\": \"block\",\"margin-left\": \"0\",\"width\": \"30%\"},     \n",
    "                            className=\"dcc_control\",  \n",
    "                        ),\n",
    "                        html.Hr(),\n",
    "                        # Forecasts - Correct/Wrong\n",
    "                        html.P(\n",
    "                            \"Filter Correct/False Forecasts:\",\n",
    "                            className=\"control_panel\",\n",
    "                        ), \n",
    "                        dcc.Checklist(\n",
    "                            id='forecast_1',\n",
    "                            options=forecast_options,\n",
    "                            value= [0,1],                            \n",
    "                            #style={\"display\": \"block\",\"margin-left\": \"0\",\"width\": \"30%\"},     \n",
    "                            className=\"dcc_control\",  \n",
    "                        ),                        \n",
    "                        html.Hr(),\n",
    "                        #4 Data range slider - Years\n",
    "                        html.P(\"Select Year:\",\n",
    "                            className=\"control_panel\",\n",
    "                        ),                     \n",
    "                        dcc.RangeSlider( \n",
    "                            id = \"date_1\",\n",
    "                            updatemode = \"drag\", \n",
    "                            min = year_options.min(),\n",
    "                            max = year_options.max(),\n",
    "                            marks = {i: '{}'.format(i) for i in year_options.unique().tolist()},\n",
    "                            value= [2005,2006],        \n",
    "                            className=\"dcc_control\", \n",
    "                        ), \n",
    "                        html.Hr(),\n",
    "                        html.Div(\n",
    "                            id='slider_selection',\n",
    "#                             style={\"display\": \"block\",\"margin-left\": \"auto\",\"width\": \"30%\"},\n",
    "                        ), \n",
    "                        \n",
    "                    ],\n",
    "                    id= \"cross-filter-options\",     #'slider_selection',\n",
    "                    #style={'height': '100%', 'display': 'inline-block'},\n",
    "                    className=\"pretty_container four columns\",\n",
    "                    #className=\"four columns\",\n",
    "\n",
    "                ),\n",
    "                # SCATTERPLOT SEPARATE\n",
    "                html.Div(\n",
    "                    [    \n",
    "                        html.Div(\n",
    "                            [\n",
    "                                html.B(\"Analyze Trader Subgroups\"),\n",
    "                                html.Hr(),\n",
    "                                dcc.Graph(\n",
    "                                    id = \"scatter_trader\",  \n",
    "                                    clickData = '2005-10-10', #  #df.index[100], \n",
    "                                    style={\n",
    "#                                            \"display\": \"block\",\n",
    "#                                            \"margin-right\": \"0\",\n",
    "#                                            \"width\": \"70%\",\n",
    "#                                             \"height\":\"700\",  <-- -DONT WORK\n",
    "#                                             \"width\":\"700\",\n",
    "                                          },\n",
    "                                        ),\n",
    "                            ],\n",
    "                            id = \"countGraphContainer\",\n",
    "                            #className=\"pretty_container\",\n",
    "                        ),\n",
    "                    ],\n",
    "                    id=\"rightCol\",\n",
    "                    #style={'width': '70%', 'display': 'inline-block'},\n",
    "                    className=\"pretty_container eight columns\",\n",
    "                ),    \n",
    "            ],\n",
    "            #className=\"row\",\n",
    "            className = \"row flex-display\",\n",
    "            #style={\"margin-bottom\": \"25px\"},\n",
    "        ),\n",
    "        \n",
    "        # PLACE HOLDER FOR 2nd GRAPH\n",
    "        html.Div(\n",
    "            [\n",
    "                # Header\n",
    "                html.Div(\n",
    "                    [\n",
    "                        html.H3(\n",
    "                        \" PRICE CHART \",\n",
    "                        style = { \"margin-bottom\": \"25px\"},\n",
    "                        #style={\"max-width\": \"100%\", \"font-size\": \"1.5rem\", \"padding\": \"1px 1px\"},\n",
    "                        ), \n",
    "                        \n",
    "                    ],\n",
    "                ),\n",
    "                \n",
    "                # Graph\n",
    "                html.Div(\n",
    "                    [\n",
    "                        dcc.Graph(\n",
    "                            id='price_chart',    \n",
    "                        ), \n",
    "                    ],\n",
    "                ),\n",
    "                \n",
    "            ],\n",
    "            className=\"row\",\n",
    "        ),\n",
    "    ],\n",
    "    style={'backgroundColor':'rgb(240, 240, 240)'},\n",
    ")   # END \n"
   ]
  },
  {
   "cell_type": "markdown",
   "metadata": {},
   "source": [
    "### Callbacks\n",
    "- <font color=red> The price chart does not update dynamically, received None data from scatter_trader plot </font>\n",
    "\n",
    "\n",
    "- [Custom Hover Data](https://community.plot.ly/t/how-to-access-customdata-with-hover-action/26324/6)\n",
    "- Example 2"
   ]
  },
  {
   "cell_type": "code",
   "execution_count": 110,
   "metadata": {},
   "outputs": [
    {
     "name": "stdout",
     "output_type": "stream",
     "text": [
      " * Serving Flask app \"__main__\" (lazy loading)\n",
      " * Environment: production\n",
      "   WARNING: This is a development server. Do not use it in a production deployment.\n",
      "   Use a production WSGI server instead.\n",
      " * Debug mode: off\n"
     ]
    },
    {
     "name": "stderr",
     "output_type": "stream",
     "text": [
      " * Running on http://127.0.0.1:8050/ (Press CTRL+C to quit)\n",
      "127.0.0.1 - - [18/Feb/2020 12:28:49] \"\u001b[37mGET / HTTP/1.1\u001b[0m\" 200 -\n",
      "127.0.0.1 - - [18/Feb/2020 12:28:50] \"\u001b[37mGET /_dash-layout HTTP/1.1\u001b[0m\" 200 -\n",
      "127.0.0.1 - - [18/Feb/2020 12:28:50] \"\u001b[37mGET /_dash-dependencies HTTP/1.1\u001b[0m\" 200 -\n",
      "127.0.0.1 - - [18/Feb/2020 12:28:51] \"\u001b[37mPOST /_dash-update-component HTTP/1.1\u001b[0m\" 200 -\n",
      "127.0.0.1 - - [18/Feb/2020 12:28:56] \"\u001b[37mPOST /_dash-update-component HTTP/1.1\u001b[0m\" 200 -\n"
     ]
    },
    {
     "name": "stdout",
     "output_type": "stream",
     "text": [
      "2005-07-02 00:00:00 2005-10-10 00:00:00\n",
      "2005-07-02 00:00:00 2005-10-10 00:00:00\n"
     ]
    },
    {
     "name": "stderr",
     "output_type": "stream",
     "text": [
      "127.0.0.1 - - [18/Feb/2020 12:28:56] \"\u001b[37mPOST /_dash-update-component HTTP/1.1\u001b[0m\" 200 -\n"
     ]
    }
   ],
   "source": [
    "@app.callback(\n",
    "                [\n",
    "                    Output('scatter_trader', 'figure'),\n",
    "                    Output('slider_selection', 'children'), \n",
    "                    #Output('price_chart', 'figure'),\n",
    "                  ],\n",
    "               #Output('table_1', 'data'),  ], # Dynamic data table \n",
    "                [\n",
    "                    Input ('model_1','value'),\n",
    "                    Input ('dataset_1','value'),\n",
    "                    Input('cluster_1','value'),\n",
    "                    Input('action_1','value'), \n",
    "                    Input('forecast_1','value'),\n",
    "                    Input('date_1','value'),           \n",
    "                ]   \n",
    "            ) \n",
    "\n",
    "def plots (modelD,datasetD, clusterD, actionD, forecastD, rangeD ):  # just my names (According to order in callback)\n",
    "    \n",
    "    # Call data from SQL db\n",
    "    conn = sql.connect(database_name)\n",
    "    cur = conn.cursor()\n",
    "    df = pd.read_sql_query(\"SELECT * FROM {} \".format(datasetD), conn)  #FROM eda_data_LR\n",
    "    #df[\"Date_Day\"] = str(df['Date']) #pd.to_datetime(df['Date'])\n",
    "    df[\"Date_Y\"] = pd.DatetimeIndex(df[\"Date\"]).year\n",
    "       # Just for price chart \n",
    "    conn.close()    \n",
    "    \n",
    "    #dates = pd.to_datetime(df.Date, format = '%Y%m%d')\n",
    "    #day_dates = dates.apply(lambda x: x.strftime('%Y-%m-%d'))\n",
    "    \n",
    "    dataset = df[(df[\"Date_Y\"] >= rangeD[0]) &  # Slice data according to lower year range \n",
    "                   (df[\"Date_Y\"] <= rangeD[1]) & # Slice data according to upper year range\n",
    "                   (df[\"Cluster\"].isin(clusterD)) & # Slice data according to quarter                       \n",
    "                   (df[\"Prediction\"].isin(actionD)) &\n",
    "                   (df[\"Correct\"].isin(forecastD))# Slice data according to sector    \n",
    "                  ]  \n",
    "    \n",
    "    # ============================= 3D Scatterplot =============================== #\n",
    "    trace1 = go.Scatter3d(x = dataset[\"t-SNE_1\"],  \n",
    "                          y = dataset[\"t-SNE_2\"],\n",
    "                          z = dataset[\"Profit\"], \n",
    "                          #customdata = dataset[\"Date_Day\"],  # hover data ???\n",
    "                          mode = \"markers+text\",\n",
    "                          #hovertext =  round(dataset[[\"Profit\",\"Confidence %\"]],2).values.tolist(), #dataset[[\"Profit\"]].values.tolist(),  #,\"Confidence %\"\n",
    "                          \n",
    "                          #customdata = dataset[\"Date\"] ,\n",
    "                          hovertext = dataset[\"Date\"] , #day_dates , #[\"Date_Day\"], #day_dates,\n",
    "         \n",
    "                          #hovertext = [ (str(x)) for x in df['Date']],\n",
    "                          \n",
    "                          #dataset['Date_Day'], # Just for price chart\n",
    "                          \n",
    "                          \n",
    "                          hoverinfo= \"text\",\n",
    "                          marker = dict(size= df[\"Confidence %\"]/4, \n",
    "                                        sizemin = 1.5,  # min size\n",
    "                                        color= dataset[\"Cluster\"],  # THIS CAN BE DIFFERENT\n",
    "                                        colorscale = \"Portland\",\n",
    "                                        colorbar = {\"thickness\": 10, \"len\": 0.5, \"x\": 0.8, \"y\": 0.6, },\n",
    "                                        symbol = list(np.where(dataset['Correct'] == 1, 'diamond', 'cross')), #square #-open\n",
    "                                        showscale = False,\n",
    "                                       ),  \n",
    "                         )\n",
    "    data_1 = [ trace1 ]    \n",
    "    layout_1 = go.Layout( \n",
    "             title = \"<b>Scatterplot Trades</b>\",\n",
    "             #clickmode = 'event+select',\n",
    "             # UX\n",
    "             height = 850,  #1500,\n",
    "             #width = 850,  #1500,    <----- Screws with layout \n",
    "             paper_bgcolor = \"rgb(230, 230, 230)\", # background colour \"rgb(220, 235, 247)\"\n",
    "             # paper_bgcolor = \"rgb(158, 194, 217)\", # background colour \n",
    "             scene = dict( # UI\n",
    "                          aspectmode = \"cube\",  \n",
    "                          hovermode = \"closest\",\n",
    "                          dragmode = \"turntable\", #  \"orbit\" | \"turntable\" | \"zoom\" | \"pan\" | False\n",
    "                          xaxis = dict(title =\"t-SNE_1\" ),\n",
    "                          yaxis = dict(title =\"t-SNE_2\" ),\n",
    "                          zaxis = dict(title =\"Profit\"),  \n",
    "             )\n",
    "    )   \n",
    "\n",
    "    fig1 =( \n",
    "                    {\"data\":data_1,\n",
    "                     \"layout\":layout_1}\n",
    "                   )\n",
    "    # print (dataset[\"Date\"])\n",
    "    return fig1 , \"Date Range {} - {}.\".format(str(rangeD[0]),str(rangeD[1])) #, price_chart\n",
    "\n",
    "\n",
    "\n",
    "    # ============================= Price Chart =============================== #\n",
    "    \n",
    "@app.callback(\n",
    "                    Output('price_chart', 'figure'),\n",
    "\n",
    "                [\n",
    "\n",
    "                    Input('scatter_trader','figure'), # Input('scatter_trader','hoverData'),   \n",
    "                    Input('scatter_trader','clickData'),   \n",
    "                ],\n",
    "            ) \n",
    "\n",
    "def plots_2 (figure,clickData):  # just my names (According to order in callback)\n",
    "    \n",
    "    conn = sql.connect(database_name)\n",
    "    cur = conn.cursor()\n",
    "    datasetD =  \"eda_data_LR\"\n",
    "    \n",
    "    conn = sql.connect('FX_data/database.db')\n",
    "    df = pd.read_sql_query(\"SELECT * FROM {} \".format(datasetD), conn)\n",
    "    df['Date'] = pd.to_datetime(df['Date'])\n",
    "    \n",
    "    \"\"\"\n",
    "    -- GET HOVER DATA --\n",
    "    dcc.Graph has four attributes --> https://dash.plot.ly/interactive-graphing\n",
    "    \"\"\"\n",
    "\n",
    "    #trade_date_end = pd.to_datetime(app.layout['scatter_trader'].clickData)\n",
    "    trade_date_end = pd.to_datetime(clickData)\n",
    "    history_days = 100 # 100 days of previous price data\n",
    "    trade_date_start = trade_date_end - timedelta(days=history_days) \n",
    "    print (trade_date_start, trade_date_end )\n",
    "    \n",
    "    \"\"\"\n",
    "    https://community.plot.ly/t/get-trace-name-from-hoverdata/7574\n",
    "    trade_date = app.layout['scatter_trader'].fig1['points'][hoverData]['customdata']\n",
    "    \"\"\"\n",
    "\n",
    "    \n",
    "    raw_p = pd.read_sql_query(\"SELECT * FROM raw_prices WHERE Date >= '{}' AND Date <= '{}' \".format(trade_date_start,trade_date_end), conn)  #FROM eda_data_LR\n",
    "    raw_p['Date']=pd.to_datetime(raw_p['Date'])\n",
    "    #raw_p.set_index(['Date'],inplace=True)\n",
    "    conn.close()   \n",
    "    \n",
    "    raw_p = raw_p[-100:]\n",
    "    trace2 = go.Candlestick(x= raw_p['Date'],\n",
    "                            open=raw_p['Open'].to_list(),\n",
    "                            high=raw_p['High'].to_list(),\n",
    "                            low=raw_p['Low'].to_list(),\n",
    "                            close=raw_p['Price'].to_list(),\n",
    "                            )\n",
    "    data_2 = [ trace2 ] \n",
    "    \n",
    "    layout_2 = go.Layout( \n",
    "                         title = \"<b>Price Chart</b>\",\n",
    "                         xaxis_rangeslider_visible=False,\n",
    "                         # UX\n",
    "                         #height = 850,  #1500,\n",
    "                         #width = 850,  #1500,    <----- Screws with layout \n",
    "                         paper_bgcolor = \"rgb(230, 230, 230)\", # background colour \"rgb(220, 235, 247)\"\n",
    "                         # paper_bgcolor = \"rgb(158, 194, 217)\", # background colour \n",
    "#                              scene = dict( # UI\n",
    "#                                           aspectmode = \"cube\",  \n",
    "#                                           hovermode = \"closest\",\n",
    "#                                           dragmode = \"turntable\", #  \"orbit\" | \"turntable\" | \"zoom\" | \"pan\" | False\n",
    "#                                           xaxis = dict(title =\"t-SNE_1\" ),\n",
    "#                                           yaxis = dict(title =\"t-SNE_2\" ),\n",
    "#                                           zaxis = dict(title =\"t-SNE_3\"),  \n",
    "#                              )\n",
    "    )   \n",
    "    \n",
    "    fig2 =( {\"data\":data_2,\n",
    "             \"layout\":layout_2}\n",
    "          )\n",
    "    \n",
    "    return fig2\n",
    "    \n",
    "\n",
    "if __name__ == '__main__':\n",
    "    app.run_server()"
   ]
  },
  {
   "cell_type": "raw",
   "metadata": {},
   "source": [
    "2004-07-19 00:00:00 2004-04-10 00:00:00\n",
    "\n",
    "2004-07-19 00:00:00 2004-04-10 00:00:00\n",
    "\n"
   ]
  },
  {
   "cell_type": "code",
   "execution_count": null,
   "metadata": {},
   "outputs": [],
   "source": []
  },
  {
   "cell_type": "raw",
   "metadata": {},
   "source": []
  },
  {
   "cell_type": "markdown",
   "metadata": {},
   "source": [
    "### Example Candle plot\n",
    "The dcc.Graph component has four attributes that can change through user-interaction: hoverData, clickData, selectedData, relayoutData"
   ]
  },
  {
   "cell_type": "code",
   "execution_count": 97,
   "metadata": {},
   "outputs": [
    {
     "data": {
      "text/html": [
       "<div>\n",
       "<style scoped>\n",
       "    .dataframe tbody tr th:only-of-type {\n",
       "        vertical-align: middle;\n",
       "    }\n",
       "\n",
       "    .dataframe tbody tr th {\n",
       "        vertical-align: top;\n",
       "    }\n",
       "\n",
       "    .dataframe thead th {\n",
       "        text-align: right;\n",
       "    }\n",
       "</style>\n",
       "<table border=\"1\" class=\"dataframe\">\n",
       "  <thead>\n",
       "    <tr style=\"text-align: right;\">\n",
       "      <th></th>\n",
       "      <th>Date</th>\n",
       "      <th>Price</th>\n",
       "      <th>Open</th>\n",
       "      <th>High</th>\n",
       "      <th>Low</th>\n",
       "    </tr>\n",
       "  </thead>\n",
       "  <tbody>\n",
       "    <tr>\n",
       "      <td>0</td>\n",
       "      <td>2004-03-02</td>\n",
       "      <td>0.8184</td>\n",
       "      <td>0.8021</td>\n",
       "      <td>0.8201</td>\n",
       "      <td>0.8017</td>\n",
       "    </tr>\n",
       "  </tbody>\n",
       "</table>\n",
       "</div>"
      ],
      "text/plain": [
       "        Date   Price    Open    High     Low\n",
       "0 2004-03-02  0.8184  0.8021  0.8201  0.8017"
      ]
     },
     "execution_count": 97,
     "metadata": {},
     "output_type": "execute_result"
    }
   ],
   "source": [
    "conn = sql.connect(database_name)\n",
    "cur = conn.cursor()\n",
    "trade_date_start = str(df.index[1]) # start date not same as raw dataset \n",
    "trade_date = str(df.index[100])  #str(df.index[1])[:-4]  #  '2004-03-02 00'\n",
    "raw_p = pd.read_sql_query(\"SELECT * FROM raw_prices WHERE Date >= '{}' AND Date <= '{}' \".format(trade_date_start,trade_date), conn)  #FROM eda_data_LR\n",
    "raw_p['Date']=pd.to_datetime(raw_p['Date'])\n",
    "#raw_p.set_index(['Date'],inplace=True)\n",
    "conn.close() \n",
    "\n",
    "raw_p.head(1)"
   ]
  },
  {
   "cell_type": "code",
   "execution_count": 98,
   "metadata": {},
   "outputs": [
    {
     "data": {
      "text/html": [
       "<div>\n",
       "<style scoped>\n",
       "    .dataframe tbody tr th:only-of-type {\n",
       "        vertical-align: middle;\n",
       "    }\n",
       "\n",
       "    .dataframe tbody tr th {\n",
       "        vertical-align: top;\n",
       "    }\n",
       "\n",
       "    .dataframe thead th {\n",
       "        text-align: right;\n",
       "    }\n",
       "</style>\n",
       "<table border=\"1\" class=\"dataframe\">\n",
       "  <thead>\n",
       "    <tr style=\"text-align: right;\">\n",
       "      <th></th>\n",
       "      <th>Date</th>\n",
       "      <th>Price</th>\n",
       "      <th>Open</th>\n",
       "      <th>High</th>\n",
       "      <th>Low</th>\n",
       "    </tr>\n",
       "  </thead>\n",
       "  <tbody>\n",
       "    <tr>\n",
       "      <td>0</td>\n",
       "      <td>2004-03-02</td>\n",
       "      <td>0.8184</td>\n",
       "      <td>0.8021</td>\n",
       "      <td>0.8201</td>\n",
       "      <td>0.8017</td>\n",
       "    </tr>\n",
       "    <tr>\n",
       "      <td>1</td>\n",
       "      <td>2004-03-03</td>\n",
       "      <td>0.8190</td>\n",
       "      <td>0.8183</td>\n",
       "      <td>0.8294</td>\n",
       "      <td>0.8178</td>\n",
       "    </tr>\n",
       "    <tr>\n",
       "      <td>2</td>\n",
       "      <td>2004-03-04</td>\n",
       "      <td>0.8200</td>\n",
       "      <td>0.8191</td>\n",
       "      <td>0.8240</td>\n",
       "      <td>0.8165</td>\n",
       "    </tr>\n",
       "    <tr>\n",
       "      <td>3</td>\n",
       "      <td>2004-03-05</td>\n",
       "      <td>0.8079</td>\n",
       "      <td>0.8195</td>\n",
       "      <td>0.8214</td>\n",
       "      <td>0.8041</td>\n",
       "    </tr>\n",
       "    <tr>\n",
       "      <td>4</td>\n",
       "      <td>2004-03-08</td>\n",
       "      <td>0.8063</td>\n",
       "      <td>0.8070</td>\n",
       "      <td>0.8105</td>\n",
       "      <td>0.8052</td>\n",
       "    </tr>\n",
       "    <tr>\n",
       "      <td>...</td>\n",
       "      <td>...</td>\n",
       "      <td>...</td>\n",
       "      <td>...</td>\n",
       "      <td>...</td>\n",
       "      <td>...</td>\n",
       "    </tr>\n",
       "    <tr>\n",
       "      <td>95</td>\n",
       "      <td>2004-07-13</td>\n",
       "      <td>0.8107</td>\n",
       "      <td>0.8055</td>\n",
       "      <td>0.8130</td>\n",
       "      <td>0.8052</td>\n",
       "    </tr>\n",
       "    <tr>\n",
       "      <td>96</td>\n",
       "      <td>2004-07-14</td>\n",
       "      <td>0.8075</td>\n",
       "      <td>0.8104</td>\n",
       "      <td>0.8117</td>\n",
       "      <td>0.8047</td>\n",
       "    </tr>\n",
       "    <tr>\n",
       "      <td>97</td>\n",
       "      <td>2004-07-15</td>\n",
       "      <td>0.8092</td>\n",
       "      <td>0.8072</td>\n",
       "      <td>0.8114</td>\n",
       "      <td>0.8067</td>\n",
       "    </tr>\n",
       "    <tr>\n",
       "      <td>98</td>\n",
       "      <td>2004-07-16</td>\n",
       "      <td>0.8030</td>\n",
       "      <td>0.8093</td>\n",
       "      <td>0.8113</td>\n",
       "      <td>0.8023</td>\n",
       "    </tr>\n",
       "    <tr>\n",
       "      <td>99</td>\n",
       "      <td>2004-07-19</td>\n",
       "      <td>0.8038</td>\n",
       "      <td>0.8036</td>\n",
       "      <td>0.8066</td>\n",
       "      <td>0.8022</td>\n",
       "    </tr>\n",
       "  </tbody>\n",
       "</table>\n",
       "<p>100 rows × 5 columns</p>\n",
       "</div>"
      ],
      "text/plain": [
       "         Date   Price    Open    High     Low\n",
       "0  2004-03-02  0.8184  0.8021  0.8201  0.8017\n",
       "1  2004-03-03  0.8190  0.8183  0.8294  0.8178\n",
       "2  2004-03-04  0.8200  0.8191  0.8240  0.8165\n",
       "3  2004-03-05  0.8079  0.8195  0.8214  0.8041\n",
       "4  2004-03-08  0.8063  0.8070  0.8105  0.8052\n",
       "..        ...     ...     ...     ...     ...\n",
       "95 2004-07-13  0.8107  0.8055  0.8130  0.8052\n",
       "96 2004-07-14  0.8075  0.8104  0.8117  0.8047\n",
       "97 2004-07-15  0.8092  0.8072  0.8114  0.8067\n",
       "98 2004-07-16  0.8030  0.8093  0.8113  0.8023\n",
       "99 2004-07-19  0.8038  0.8036  0.8066  0.8022\n",
       "\n",
       "[100 rows x 5 columns]"
      ]
     },
     "execution_count": 98,
     "metadata": {},
     "output_type": "execute_result"
    }
   ],
   "source": [
    "raw_p"
   ]
  },
  {
   "cell_type": "code",
   "execution_count": 99,
   "metadata": {},
   "outputs": [
    {
     "data": {
      "application/vnd.plotly.v1+json": {
       "config": {
        "plotlyServerURL": "https://plot.ly"
       },
       "data": [
        {
         "close": [
          0.8184,
          0.819,
          0.82,
          0.8079,
          0.8063,
          0.8119,
          0.817,
          0.8098,
          0.8185,
          0.8151,
          0.8154,
          0.8172,
          0.8072,
          0.8148,
          0.8106,
          0.8112,
          0.8246,
          0.8244,
          0.8242,
          0.8224,
          0.822,
          0.8123,
          0.8088,
          0.8237,
          0.832,
          0.8256,
          0.8215,
          0.8275,
          0.8274,
          0.8279,
          0.8369,
          0.8357,
          0.8346,
          0.8333,
          0.8323,
          0.8433,
          0.8443,
          0.8396,
          0.8441,
          0.8433,
          0.8383,
          0.8445,
          0.8356,
          0.8344,
          0.8383,
          0.8255,
          0.8221,
          0.828,
          0.8414,
          0.845,
          0.842,
          0.8403,
          0.8459,
          0.8417,
          0.8321,
          0.8365,
          0.8321,
          0.836,
          0.8314,
          0.8331,
          0.8259,
          0.8255,
          0.8151,
          0.8187,
          0.8206,
          0.8165,
          0.8188,
          0.8185,
          0.8153,
          0.8119,
          0.8155,
          0.8304,
          0.8259,
          0.8327,
          0.8297,
          0.8223,
          0.8329,
          0.8305,
          0.8237,
          0.8258,
          0.8256,
          0.8271,
          0.8213,
          0.8217,
          0.8206,
          0.8277,
          0.8206,
          0.8225,
          0.8113,
          0.814,
          0.8141,
          0.8083,
          0.8071,
          0.8054,
          0.8055,
          0.8107,
          0.8075,
          0.8092,
          0.803,
          0.8038
         ],
         "high": [
          0.8201,
          0.8294,
          0.824,
          0.8214,
          0.8105,
          0.8146,
          0.82,
          0.8221,
          0.8216,
          0.8206,
          0.8172,
          0.8214,
          0.8183,
          0.8159,
          0.818,
          0.8155,
          0.8252,
          0.8268,
          0.8283,
          0.8301,
          0.823,
          0.8221,
          0.816,
          0.8264,
          0.8348,
          0.8346,
          0.8299,
          0.8291,
          0.8289,
          0.8297,
          0.8401,
          0.8428,
          0.8409,
          0.8389,
          0.8332,
          0.8445,
          0.8466,
          0.8486,
          0.8479,
          0.8502,
          0.8454,
          0.846,
          0.8473,
          0.839,
          0.8389,
          0.8385,
          0.8267,
          0.8292,
          0.8421,
          0.8468,
          0.8483,
          0.8453,
          0.8495,
          0.8489,
          0.8421,
          0.8383,
          0.8379,
          0.8408,
          0.8365,
          0.8382,
          0.8343,
          0.8256,
          0.8153,
          0.8199,
          0.8211,
          0.8227,
          0.8193,
          0.8217,
          0.8237,
          0.8136,
          0.8166,
          0.8309,
          0.8318,
          0.8359,
          0.8366,
          0.8223,
          0.8348,
          0.8307,
          0.8351,
          0.8281,
          0.8289,
          0.829,
          0.8305,
          0.8261,
          0.825,
          0.8287,
          0.8289,
          0.8245,
          0.8238,
          0.815,
          0.8156,
          0.8149,
          0.8104,
          0.8084,
          0.808,
          0.813,
          0.8117,
          0.8114,
          0.8113,
          0.8066
         ],
         "low": [
          0.8017,
          0.8178,
          0.8165,
          0.8041,
          0.8052,
          0.8019,
          0.8104,
          0.8087,
          0.808,
          0.8116,
          0.808,
          0.8133,
          0.8039,
          0.8055,
          0.8061,
          0.8081,
          0.8083,
          0.8194,
          0.8187,
          0.8215,
          0.8175,
          0.8112,
          0.807,
          0.808,
          0.8241,
          0.8241,
          0.8194,
          0.818,
          0.8251,
          0.8263,
          0.8274,
          0.8349,
          0.8333,
          0.8297,
          0.8275,
          0.8323,
          0.8391,
          0.8391,
          0.8371,
          0.841,
          0.8368,
          0.8363,
          0.8342,
          0.8323,
          0.8331,
          0.825,
          0.8205,
          0.821,
          0.8238,
          0.8405,
          0.8406,
          0.8372,
          0.8379,
          0.84,
          0.8288,
          0.8302,
          0.8299,
          0.8318,
          0.8282,
          0.8312,
          0.8244,
          0.8253,
          0.8149,
          0.813,
          0.8166,
          0.8149,
          0.8123,
          0.816,
          0.8129,
          0.8102,
          0.8093,
          0.8143,
          0.8251,
          0.8252,
          0.8271,
          0.8221,
          0.8214,
          0.83,
          0.823,
          0.823,
          0.8241,
          0.8197,
          0.8203,
          0.8203,
          0.8175,
          0.8199,
          0.8192,
          0.8189,
          0.8107,
          0.8104,
          0.8107,
          0.8068,
          0.8058,
          0.8045,
          0.8039,
          0.8052,
          0.8047,
          0.8067,
          0.8023,
          0.8022
         ],
         "open": [
          0.8021,
          0.8183,
          0.8191,
          0.8195,
          0.807,
          0.8059,
          0.8117,
          0.8169,
          0.8091,
          0.8203,
          0.8151,
          0.8149,
          0.817,
          0.8071,
          0.8138,
          0.8106,
          0.8107,
          0.8241,
          0.824,
          0.8245,
          0.8224,
          0.8218,
          0.8118,
          0.8086,
          0.8255,
          0.8324,
          0.8242,
          0.8213,
          0.8273,
          0.8269,
          0.8277,
          0.837,
          0.8362,
          0.8347,
          0.8324,
          0.8328,
          0.8434,
          0.8447,
          0.8397,
          0.8467,
          0.8431,
          0.8381,
          0.8439,
          0.8354,
          0.8335,
          0.8375,
          0.826,
          0.8219,
          0.8284,
          0.8419,
          0.8453,
          0.8428,
          0.8396,
          0.8464,
          0.841,
          0.8321,
          0.8365,
          0.8321,
          0.8356,
          0.834,
          0.8326,
          0.8253,
          0.8151,
          0.8151,
          0.8169,
          0.8203,
          0.8165,
          0.8189,
          0.8183,
          0.8131,
          0.8115,
          0.8155,
          0.8303,
          0.8254,
          0.8344,
          0.8221,
          0.8221,
          0.8302,
          0.8302,
          0.8233,
          0.8255,
          0.8253,
          0.8269,
          0.8211,
          0.8214,
          0.8206,
          0.8277,
          0.8204,
          0.8224,
          0.8112,
          0.8139,
          0.8137,
          0.8085,
          0.807,
          0.8055,
          0.8055,
          0.8104,
          0.8072,
          0.8093,
          0.8036
         ],
         "type": "candlestick",
         "x": [
          "2004-03-02T00:00:00",
          "2004-03-03T00:00:00",
          "2004-03-04T00:00:00",
          "2004-03-05T00:00:00",
          "2004-03-08T00:00:00",
          "2004-03-09T00:00:00",
          "2004-03-10T00:00:00",
          "2004-03-11T00:00:00",
          "2004-03-12T00:00:00",
          "2004-03-15T00:00:00",
          "2004-03-16T00:00:00",
          "2004-03-17T00:00:00",
          "2004-03-18T00:00:00",
          "2004-03-19T00:00:00",
          "2004-03-22T00:00:00",
          "2004-03-23T00:00:00",
          "2004-03-24T00:00:00",
          "2004-03-25T00:00:00",
          "2004-03-26T00:00:00",
          "2004-03-29T00:00:00",
          "2004-03-30T00:00:00",
          "2004-03-31T00:00:00",
          "2004-04-01T00:00:00",
          "2004-04-02T00:00:00",
          "2004-04-05T00:00:00",
          "2004-04-06T00:00:00",
          "2004-04-07T00:00:00",
          "2004-04-08T00:00:00",
          "2004-04-09T00:00:00",
          "2004-04-12T00:00:00",
          "2004-04-13T00:00:00",
          "2004-04-14T00:00:00",
          "2004-04-15T00:00:00",
          "2004-04-16T00:00:00",
          "2004-04-19T00:00:00",
          "2004-04-20T00:00:00",
          "2004-04-21T00:00:00",
          "2004-04-22T00:00:00",
          "2004-04-23T00:00:00",
          "2004-04-26T00:00:00",
          "2004-04-27T00:00:00",
          "2004-04-28T00:00:00",
          "2004-04-29T00:00:00",
          "2004-04-30T00:00:00",
          "2004-05-03T00:00:00",
          "2004-05-04T00:00:00",
          "2004-05-05T00:00:00",
          "2004-05-06T00:00:00",
          "2004-05-07T00:00:00",
          "2004-05-10T00:00:00",
          "2004-05-11T00:00:00",
          "2004-05-12T00:00:00",
          "2004-05-13T00:00:00",
          "2004-05-14T00:00:00",
          "2004-05-17T00:00:00",
          "2004-05-18T00:00:00",
          "2004-05-19T00:00:00",
          "2004-05-20T00:00:00",
          "2004-05-21T00:00:00",
          "2004-05-24T00:00:00",
          "2004-05-25T00:00:00",
          "2004-05-26T00:00:00",
          "2004-05-27T00:00:00",
          "2004-05-28T00:00:00",
          "2004-05-31T00:00:00",
          "2004-06-01T00:00:00",
          "2004-06-02T00:00:00",
          "2004-06-03T00:00:00",
          "2004-06-04T00:00:00",
          "2004-06-07T00:00:00",
          "2004-06-08T00:00:00",
          "2004-06-09T00:00:00",
          "2004-06-10T00:00:00",
          "2004-06-11T00:00:00",
          "2004-06-14T00:00:00",
          "2004-06-15T00:00:00",
          "2004-06-16T00:00:00",
          "2004-06-17T00:00:00",
          "2004-06-18T00:00:00",
          "2004-06-21T00:00:00",
          "2004-06-22T00:00:00",
          "2004-06-23T00:00:00",
          "2004-06-24T00:00:00",
          "2004-06-25T00:00:00",
          "2004-06-28T00:00:00",
          "2004-06-29T00:00:00",
          "2004-06-30T00:00:00",
          "2004-07-01T00:00:00",
          "2004-07-02T00:00:00",
          "2004-07-05T00:00:00",
          "2004-07-06T00:00:00",
          "2004-07-07T00:00:00",
          "2004-07-08T00:00:00",
          "2004-07-09T00:00:00",
          "2004-07-12T00:00:00",
          "2004-07-13T00:00:00",
          "2004-07-14T00:00:00",
          "2004-07-15T00:00:00",
          "2004-07-16T00:00:00",
          "2004-07-19T00:00:00"
         ]
        }
       ],
       "layout": {
        "template": {
         "data": {
          "bar": [
           {
            "error_x": {
             "color": "#2a3f5f"
            },
            "error_y": {
             "color": "#2a3f5f"
            },
            "marker": {
             "line": {
              "color": "#E5ECF6",
              "width": 0.5
             }
            },
            "type": "bar"
           }
          ],
          "barpolar": [
           {
            "marker": {
             "line": {
              "color": "#E5ECF6",
              "width": 0.5
             }
            },
            "type": "barpolar"
           }
          ],
          "carpet": [
           {
            "aaxis": {
             "endlinecolor": "#2a3f5f",
             "gridcolor": "white",
             "linecolor": "white",
             "minorgridcolor": "white",
             "startlinecolor": "#2a3f5f"
            },
            "baxis": {
             "endlinecolor": "#2a3f5f",
             "gridcolor": "white",
             "linecolor": "white",
             "minorgridcolor": "white",
             "startlinecolor": "#2a3f5f"
            },
            "type": "carpet"
           }
          ],
          "choropleth": [
           {
            "colorbar": {
             "outlinewidth": 0,
             "ticks": ""
            },
            "type": "choropleth"
           }
          ],
          "contour": [
           {
            "colorbar": {
             "outlinewidth": 0,
             "ticks": ""
            },
            "colorscale": [
             [
              0,
              "#0d0887"
             ],
             [
              0.1111111111111111,
              "#46039f"
             ],
             [
              0.2222222222222222,
              "#7201a8"
             ],
             [
              0.3333333333333333,
              "#9c179e"
             ],
             [
              0.4444444444444444,
              "#bd3786"
             ],
             [
              0.5555555555555556,
              "#d8576b"
             ],
             [
              0.6666666666666666,
              "#ed7953"
             ],
             [
              0.7777777777777778,
              "#fb9f3a"
             ],
             [
              0.8888888888888888,
              "#fdca26"
             ],
             [
              1,
              "#f0f921"
             ]
            ],
            "type": "contour"
           }
          ],
          "contourcarpet": [
           {
            "colorbar": {
             "outlinewidth": 0,
             "ticks": ""
            },
            "type": "contourcarpet"
           }
          ],
          "heatmap": [
           {
            "colorbar": {
             "outlinewidth": 0,
             "ticks": ""
            },
            "colorscale": [
             [
              0,
              "#0d0887"
             ],
             [
              0.1111111111111111,
              "#46039f"
             ],
             [
              0.2222222222222222,
              "#7201a8"
             ],
             [
              0.3333333333333333,
              "#9c179e"
             ],
             [
              0.4444444444444444,
              "#bd3786"
             ],
             [
              0.5555555555555556,
              "#d8576b"
             ],
             [
              0.6666666666666666,
              "#ed7953"
             ],
             [
              0.7777777777777778,
              "#fb9f3a"
             ],
             [
              0.8888888888888888,
              "#fdca26"
             ],
             [
              1,
              "#f0f921"
             ]
            ],
            "type": "heatmap"
           }
          ],
          "heatmapgl": [
           {
            "colorbar": {
             "outlinewidth": 0,
             "ticks": ""
            },
            "colorscale": [
             [
              0,
              "#0d0887"
             ],
             [
              0.1111111111111111,
              "#46039f"
             ],
             [
              0.2222222222222222,
              "#7201a8"
             ],
             [
              0.3333333333333333,
              "#9c179e"
             ],
             [
              0.4444444444444444,
              "#bd3786"
             ],
             [
              0.5555555555555556,
              "#d8576b"
             ],
             [
              0.6666666666666666,
              "#ed7953"
             ],
             [
              0.7777777777777778,
              "#fb9f3a"
             ],
             [
              0.8888888888888888,
              "#fdca26"
             ],
             [
              1,
              "#f0f921"
             ]
            ],
            "type": "heatmapgl"
           }
          ],
          "histogram": [
           {
            "marker": {
             "colorbar": {
              "outlinewidth": 0,
              "ticks": ""
             }
            },
            "type": "histogram"
           }
          ],
          "histogram2d": [
           {
            "colorbar": {
             "outlinewidth": 0,
             "ticks": ""
            },
            "colorscale": [
             [
              0,
              "#0d0887"
             ],
             [
              0.1111111111111111,
              "#46039f"
             ],
             [
              0.2222222222222222,
              "#7201a8"
             ],
             [
              0.3333333333333333,
              "#9c179e"
             ],
             [
              0.4444444444444444,
              "#bd3786"
             ],
             [
              0.5555555555555556,
              "#d8576b"
             ],
             [
              0.6666666666666666,
              "#ed7953"
             ],
             [
              0.7777777777777778,
              "#fb9f3a"
             ],
             [
              0.8888888888888888,
              "#fdca26"
             ],
             [
              1,
              "#f0f921"
             ]
            ],
            "type": "histogram2d"
           }
          ],
          "histogram2dcontour": [
           {
            "colorbar": {
             "outlinewidth": 0,
             "ticks": ""
            },
            "colorscale": [
             [
              0,
              "#0d0887"
             ],
             [
              0.1111111111111111,
              "#46039f"
             ],
             [
              0.2222222222222222,
              "#7201a8"
             ],
             [
              0.3333333333333333,
              "#9c179e"
             ],
             [
              0.4444444444444444,
              "#bd3786"
             ],
             [
              0.5555555555555556,
              "#d8576b"
             ],
             [
              0.6666666666666666,
              "#ed7953"
             ],
             [
              0.7777777777777778,
              "#fb9f3a"
             ],
             [
              0.8888888888888888,
              "#fdca26"
             ],
             [
              1,
              "#f0f921"
             ]
            ],
            "type": "histogram2dcontour"
           }
          ],
          "mesh3d": [
           {
            "colorbar": {
             "outlinewidth": 0,
             "ticks": ""
            },
            "type": "mesh3d"
           }
          ],
          "parcoords": [
           {
            "line": {
             "colorbar": {
              "outlinewidth": 0,
              "ticks": ""
             }
            },
            "type": "parcoords"
           }
          ],
          "pie": [
           {
            "automargin": true,
            "type": "pie"
           }
          ],
          "scatter": [
           {
            "marker": {
             "colorbar": {
              "outlinewidth": 0,
              "ticks": ""
             }
            },
            "type": "scatter"
           }
          ],
          "scatter3d": [
           {
            "line": {
             "colorbar": {
              "outlinewidth": 0,
              "ticks": ""
             }
            },
            "marker": {
             "colorbar": {
              "outlinewidth": 0,
              "ticks": ""
             }
            },
            "type": "scatter3d"
           }
          ],
          "scattercarpet": [
           {
            "marker": {
             "colorbar": {
              "outlinewidth": 0,
              "ticks": ""
             }
            },
            "type": "scattercarpet"
           }
          ],
          "scattergeo": [
           {
            "marker": {
             "colorbar": {
              "outlinewidth": 0,
              "ticks": ""
             }
            },
            "type": "scattergeo"
           }
          ],
          "scattergl": [
           {
            "marker": {
             "colorbar": {
              "outlinewidth": 0,
              "ticks": ""
             }
            },
            "type": "scattergl"
           }
          ],
          "scattermapbox": [
           {
            "marker": {
             "colorbar": {
              "outlinewidth": 0,
              "ticks": ""
             }
            },
            "type": "scattermapbox"
           }
          ],
          "scatterpolar": [
           {
            "marker": {
             "colorbar": {
              "outlinewidth": 0,
              "ticks": ""
             }
            },
            "type": "scatterpolar"
           }
          ],
          "scatterpolargl": [
           {
            "marker": {
             "colorbar": {
              "outlinewidth": 0,
              "ticks": ""
             }
            },
            "type": "scatterpolargl"
           }
          ],
          "scatterternary": [
           {
            "marker": {
             "colorbar": {
              "outlinewidth": 0,
              "ticks": ""
             }
            },
            "type": "scatterternary"
           }
          ],
          "surface": [
           {
            "colorbar": {
             "outlinewidth": 0,
             "ticks": ""
            },
            "colorscale": [
             [
              0,
              "#0d0887"
             ],
             [
              0.1111111111111111,
              "#46039f"
             ],
             [
              0.2222222222222222,
              "#7201a8"
             ],
             [
              0.3333333333333333,
              "#9c179e"
             ],
             [
              0.4444444444444444,
              "#bd3786"
             ],
             [
              0.5555555555555556,
              "#d8576b"
             ],
             [
              0.6666666666666666,
              "#ed7953"
             ],
             [
              0.7777777777777778,
              "#fb9f3a"
             ],
             [
              0.8888888888888888,
              "#fdca26"
             ],
             [
              1,
              "#f0f921"
             ]
            ],
            "type": "surface"
           }
          ],
          "table": [
           {
            "cells": {
             "fill": {
              "color": "#EBF0F8"
             },
             "line": {
              "color": "white"
             }
            },
            "header": {
             "fill": {
              "color": "#C8D4E3"
             },
             "line": {
              "color": "white"
             }
            },
            "type": "table"
           }
          ]
         },
         "layout": {
          "annotationdefaults": {
           "arrowcolor": "#2a3f5f",
           "arrowhead": 0,
           "arrowwidth": 1
          },
          "coloraxis": {
           "colorbar": {
            "outlinewidth": 0,
            "ticks": ""
           }
          },
          "colorscale": {
           "diverging": [
            [
             0,
             "#8e0152"
            ],
            [
             0.1,
             "#c51b7d"
            ],
            [
             0.2,
             "#de77ae"
            ],
            [
             0.3,
             "#f1b6da"
            ],
            [
             0.4,
             "#fde0ef"
            ],
            [
             0.5,
             "#f7f7f7"
            ],
            [
             0.6,
             "#e6f5d0"
            ],
            [
             0.7,
             "#b8e186"
            ],
            [
             0.8,
             "#7fbc41"
            ],
            [
             0.9,
             "#4d9221"
            ],
            [
             1,
             "#276419"
            ]
           ],
           "sequential": [
            [
             0,
             "#0d0887"
            ],
            [
             0.1111111111111111,
             "#46039f"
            ],
            [
             0.2222222222222222,
             "#7201a8"
            ],
            [
             0.3333333333333333,
             "#9c179e"
            ],
            [
             0.4444444444444444,
             "#bd3786"
            ],
            [
             0.5555555555555556,
             "#d8576b"
            ],
            [
             0.6666666666666666,
             "#ed7953"
            ],
            [
             0.7777777777777778,
             "#fb9f3a"
            ],
            [
             0.8888888888888888,
             "#fdca26"
            ],
            [
             1,
             "#f0f921"
            ]
           ],
           "sequentialminus": [
            [
             0,
             "#0d0887"
            ],
            [
             0.1111111111111111,
             "#46039f"
            ],
            [
             0.2222222222222222,
             "#7201a8"
            ],
            [
             0.3333333333333333,
             "#9c179e"
            ],
            [
             0.4444444444444444,
             "#bd3786"
            ],
            [
             0.5555555555555556,
             "#d8576b"
            ],
            [
             0.6666666666666666,
             "#ed7953"
            ],
            [
             0.7777777777777778,
             "#fb9f3a"
            ],
            [
             0.8888888888888888,
             "#fdca26"
            ],
            [
             1,
             "#f0f921"
            ]
           ]
          },
          "colorway": [
           "#636efa",
           "#EF553B",
           "#00cc96",
           "#ab63fa",
           "#FFA15A",
           "#19d3f3",
           "#FF6692",
           "#B6E880",
           "#FF97FF",
           "#FECB52"
          ],
          "font": {
           "color": "#2a3f5f"
          },
          "geo": {
           "bgcolor": "white",
           "lakecolor": "white",
           "landcolor": "#E5ECF6",
           "showlakes": true,
           "showland": true,
           "subunitcolor": "white"
          },
          "hoverlabel": {
           "align": "left"
          },
          "hovermode": "closest",
          "mapbox": {
           "style": "light"
          },
          "paper_bgcolor": "white",
          "plot_bgcolor": "#E5ECF6",
          "polar": {
           "angularaxis": {
            "gridcolor": "white",
            "linecolor": "white",
            "ticks": ""
           },
           "bgcolor": "#E5ECF6",
           "radialaxis": {
            "gridcolor": "white",
            "linecolor": "white",
            "ticks": ""
           }
          },
          "scene": {
           "xaxis": {
            "backgroundcolor": "#E5ECF6",
            "gridcolor": "white",
            "gridwidth": 2,
            "linecolor": "white",
            "showbackground": true,
            "ticks": "",
            "zerolinecolor": "white"
           },
           "yaxis": {
            "backgroundcolor": "#E5ECF6",
            "gridcolor": "white",
            "gridwidth": 2,
            "linecolor": "white",
            "showbackground": true,
            "ticks": "",
            "zerolinecolor": "white"
           },
           "zaxis": {
            "backgroundcolor": "#E5ECF6",
            "gridcolor": "white",
            "gridwidth": 2,
            "linecolor": "white",
            "showbackground": true,
            "ticks": "",
            "zerolinecolor": "white"
           }
          },
          "shapedefaults": {
           "line": {
            "color": "#2a3f5f"
           }
          },
          "ternary": {
           "aaxis": {
            "gridcolor": "white",
            "linecolor": "white",
            "ticks": ""
           },
           "baxis": {
            "gridcolor": "white",
            "linecolor": "white",
            "ticks": ""
           },
           "bgcolor": "#E5ECF6",
           "caxis": {
            "gridcolor": "white",
            "linecolor": "white",
            "ticks": ""
           }
          },
          "title": {
           "x": 0.05
          },
          "xaxis": {
           "automargin": true,
           "gridcolor": "white",
           "linecolor": "white",
           "ticks": "",
           "title": {
            "standoff": 15
           },
           "zerolinecolor": "white",
           "zerolinewidth": 2
          },
          "yaxis": {
           "automargin": true,
           "gridcolor": "white",
           "linecolor": "white",
           "ticks": "",
           "title": {
            "standoff": 15
           },
           "zerolinecolor": "white",
           "zerolinewidth": 2
          }
         }
        },
        "xaxis": {
         "rangeslider": {
          "visible": false
         }
        }
       }
      },
      "text/html": [
       "<div>\n",
       "        \n",
       "        \n",
       "            <div id=\"f41ec7dd-b294-4f39-855f-7b584957ef3b\" class=\"plotly-graph-div\" style=\"height:525px; width:100%;\"></div>\n",
       "            <script type=\"text/javascript\">\n",
       "                require([\"plotly\"], function(Plotly) {\n",
       "                    window.PLOTLYENV=window.PLOTLYENV || {};\n",
       "                    \n",
       "                if (document.getElementById(\"f41ec7dd-b294-4f39-855f-7b584957ef3b\")) {\n",
       "                    Plotly.newPlot(\n",
       "                        'f41ec7dd-b294-4f39-855f-7b584957ef3b',\n",
       "                        [{\"close\": [0.8184, 0.819, 0.82, 0.8079, 0.8063, 0.8119, 0.817, 0.8098, 0.8185, 0.8151, 0.8154, 0.8172, 0.8072, 0.8148, 0.8106, 0.8112, 0.8246, 0.8244, 0.8242, 0.8224, 0.822, 0.8123, 0.8088, 0.8237, 0.832, 0.8256, 0.8215, 0.8275, 0.8274, 0.8279, 0.8369, 0.8357, 0.8346, 0.8333, 0.8323, 0.8433, 0.8443, 0.8396, 0.8441, 0.8433, 0.8383, 0.8445, 0.8356, 0.8344, 0.8383, 0.8255, 0.8221, 0.828, 0.8414, 0.845, 0.842, 0.8403, 0.8459, 0.8417, 0.8321, 0.8365, 0.8321, 0.836, 0.8314, 0.8331, 0.8259, 0.8255, 0.8151, 0.8187, 0.8206, 0.8165, 0.8188, 0.8185, 0.8153, 0.8119, 0.8155, 0.8304, 0.8259, 0.8327, 0.8297, 0.8223, 0.8329, 0.8305, 0.8237, 0.8258, 0.8256, 0.8271, 0.8213, 0.8217, 0.8206, 0.8277, 0.8206, 0.8225, 0.8113, 0.814, 0.8141, 0.8083, 0.8071, 0.8054, 0.8055, 0.8107, 0.8075, 0.8092, 0.803, 0.8038], \"high\": [0.8201, 0.8294, 0.824, 0.8214, 0.8105, 0.8146, 0.82, 0.8221, 0.8216, 0.8206, 0.8172, 0.8214, 0.8183, 0.8159, 0.818, 0.8155, 0.8252, 0.8268, 0.8283, 0.8301, 0.823, 0.8221, 0.816, 0.8264, 0.8348, 0.8346, 0.8299, 0.8291, 0.8289, 0.8297, 0.8401, 0.8428, 0.8409, 0.8389, 0.8332, 0.8445, 0.8466, 0.8486, 0.8479, 0.8502, 0.8454, 0.846, 0.8473, 0.839, 0.8389, 0.8385, 0.8267, 0.8292, 0.8421, 0.8468, 0.8483, 0.8453, 0.8495, 0.8489, 0.8421, 0.8383, 0.8379, 0.8408, 0.8365, 0.8382, 0.8343, 0.8256, 0.8153, 0.8199, 0.8211, 0.8227, 0.8193, 0.8217, 0.8237, 0.8136, 0.8166, 0.8309, 0.8318, 0.8359, 0.8366, 0.8223, 0.8348, 0.8307, 0.8351, 0.8281, 0.8289, 0.829, 0.8305, 0.8261, 0.825, 0.8287, 0.8289, 0.8245, 0.8238, 0.815, 0.8156, 0.8149, 0.8104, 0.8084, 0.808, 0.813, 0.8117, 0.8114, 0.8113, 0.8066], \"low\": [0.8017, 0.8178, 0.8165, 0.8041, 0.8052, 0.8019, 0.8104, 0.8087, 0.808, 0.8116, 0.808, 0.8133, 0.8039, 0.8055, 0.8061, 0.8081, 0.8083, 0.8194, 0.8187, 0.8215, 0.8175, 0.8112, 0.807, 0.808, 0.8241, 0.8241, 0.8194, 0.818, 0.8251, 0.8263, 0.8274, 0.8349, 0.8333, 0.8297, 0.8275, 0.8323, 0.8391, 0.8391, 0.8371, 0.841, 0.8368, 0.8363, 0.8342, 0.8323, 0.8331, 0.825, 0.8205, 0.821, 0.8238, 0.8405, 0.8406, 0.8372, 0.8379, 0.84, 0.8288, 0.8302, 0.8299, 0.8318, 0.8282, 0.8312, 0.8244, 0.8253, 0.8149, 0.813, 0.8166, 0.8149, 0.8123, 0.816, 0.8129, 0.8102, 0.8093, 0.8143, 0.8251, 0.8252, 0.8271, 0.8221, 0.8214, 0.83, 0.823, 0.823, 0.8241, 0.8197, 0.8203, 0.8203, 0.8175, 0.8199, 0.8192, 0.8189, 0.8107, 0.8104, 0.8107, 0.8068, 0.8058, 0.8045, 0.8039, 0.8052, 0.8047, 0.8067, 0.8023, 0.8022], \"open\": [0.8021, 0.8183, 0.8191, 0.8195, 0.807, 0.8059, 0.8117, 0.8169, 0.8091, 0.8203, 0.8151, 0.8149, 0.817, 0.8071, 0.8138, 0.8106, 0.8107, 0.8241, 0.824, 0.8245, 0.8224, 0.8218, 0.8118, 0.8086, 0.8255, 0.8324, 0.8242, 0.8213, 0.8273, 0.8269, 0.8277, 0.837, 0.8362, 0.8347, 0.8324, 0.8328, 0.8434, 0.8447, 0.8397, 0.8467, 0.8431, 0.8381, 0.8439, 0.8354, 0.8335, 0.8375, 0.826, 0.8219, 0.8284, 0.8419, 0.8453, 0.8428, 0.8396, 0.8464, 0.841, 0.8321, 0.8365, 0.8321, 0.8356, 0.834, 0.8326, 0.8253, 0.8151, 0.8151, 0.8169, 0.8203, 0.8165, 0.8189, 0.8183, 0.8131, 0.8115, 0.8155, 0.8303, 0.8254, 0.8344, 0.8221, 0.8221, 0.8302, 0.8302, 0.8233, 0.8255, 0.8253, 0.8269, 0.8211, 0.8214, 0.8206, 0.8277, 0.8204, 0.8224, 0.8112, 0.8139, 0.8137, 0.8085, 0.807, 0.8055, 0.8055, 0.8104, 0.8072, 0.8093, 0.8036], \"type\": \"candlestick\", \"x\": [\"2004-03-02T00:00:00\", \"2004-03-03T00:00:00\", \"2004-03-04T00:00:00\", \"2004-03-05T00:00:00\", \"2004-03-08T00:00:00\", \"2004-03-09T00:00:00\", \"2004-03-10T00:00:00\", \"2004-03-11T00:00:00\", \"2004-03-12T00:00:00\", \"2004-03-15T00:00:00\", \"2004-03-16T00:00:00\", \"2004-03-17T00:00:00\", \"2004-03-18T00:00:00\", \"2004-03-19T00:00:00\", \"2004-03-22T00:00:00\", \"2004-03-23T00:00:00\", \"2004-03-24T00:00:00\", \"2004-03-25T00:00:00\", \"2004-03-26T00:00:00\", \"2004-03-29T00:00:00\", \"2004-03-30T00:00:00\", \"2004-03-31T00:00:00\", \"2004-04-01T00:00:00\", \"2004-04-02T00:00:00\", \"2004-04-05T00:00:00\", \"2004-04-06T00:00:00\", \"2004-04-07T00:00:00\", \"2004-04-08T00:00:00\", \"2004-04-09T00:00:00\", \"2004-04-12T00:00:00\", \"2004-04-13T00:00:00\", \"2004-04-14T00:00:00\", \"2004-04-15T00:00:00\", \"2004-04-16T00:00:00\", \"2004-04-19T00:00:00\", \"2004-04-20T00:00:00\", \"2004-04-21T00:00:00\", \"2004-04-22T00:00:00\", \"2004-04-23T00:00:00\", \"2004-04-26T00:00:00\", \"2004-04-27T00:00:00\", \"2004-04-28T00:00:00\", \"2004-04-29T00:00:00\", \"2004-04-30T00:00:00\", \"2004-05-03T00:00:00\", \"2004-05-04T00:00:00\", \"2004-05-05T00:00:00\", \"2004-05-06T00:00:00\", \"2004-05-07T00:00:00\", \"2004-05-10T00:00:00\", \"2004-05-11T00:00:00\", \"2004-05-12T00:00:00\", \"2004-05-13T00:00:00\", \"2004-05-14T00:00:00\", \"2004-05-17T00:00:00\", \"2004-05-18T00:00:00\", \"2004-05-19T00:00:00\", \"2004-05-20T00:00:00\", \"2004-05-21T00:00:00\", \"2004-05-24T00:00:00\", \"2004-05-25T00:00:00\", \"2004-05-26T00:00:00\", \"2004-05-27T00:00:00\", \"2004-05-28T00:00:00\", \"2004-05-31T00:00:00\", \"2004-06-01T00:00:00\", \"2004-06-02T00:00:00\", \"2004-06-03T00:00:00\", \"2004-06-04T00:00:00\", \"2004-06-07T00:00:00\", \"2004-06-08T00:00:00\", \"2004-06-09T00:00:00\", \"2004-06-10T00:00:00\", \"2004-06-11T00:00:00\", \"2004-06-14T00:00:00\", \"2004-06-15T00:00:00\", \"2004-06-16T00:00:00\", \"2004-06-17T00:00:00\", \"2004-06-18T00:00:00\", \"2004-06-21T00:00:00\", \"2004-06-22T00:00:00\", \"2004-06-23T00:00:00\", \"2004-06-24T00:00:00\", \"2004-06-25T00:00:00\", \"2004-06-28T00:00:00\", \"2004-06-29T00:00:00\", \"2004-06-30T00:00:00\", \"2004-07-01T00:00:00\", \"2004-07-02T00:00:00\", \"2004-07-05T00:00:00\", \"2004-07-06T00:00:00\", \"2004-07-07T00:00:00\", \"2004-07-08T00:00:00\", \"2004-07-09T00:00:00\", \"2004-07-12T00:00:00\", \"2004-07-13T00:00:00\", \"2004-07-14T00:00:00\", \"2004-07-15T00:00:00\", \"2004-07-16T00:00:00\", \"2004-07-19T00:00:00\"]}],\n",
       "                        {\"template\": {\"data\": {\"bar\": [{\"error_x\": {\"color\": \"#2a3f5f\"}, \"error_y\": {\"color\": \"#2a3f5f\"}, \"marker\": {\"line\": {\"color\": \"#E5ECF6\", \"width\": 0.5}}, \"type\": \"bar\"}], \"barpolar\": [{\"marker\": {\"line\": {\"color\": \"#E5ECF6\", \"width\": 0.5}}, \"type\": \"barpolar\"}], \"carpet\": [{\"aaxis\": {\"endlinecolor\": \"#2a3f5f\", \"gridcolor\": \"white\", \"linecolor\": \"white\", \"minorgridcolor\": \"white\", \"startlinecolor\": \"#2a3f5f\"}, \"baxis\": {\"endlinecolor\": \"#2a3f5f\", \"gridcolor\": \"white\", \"linecolor\": \"white\", \"minorgridcolor\": \"white\", \"startlinecolor\": \"#2a3f5f\"}, \"type\": \"carpet\"}], \"choropleth\": [{\"colorbar\": {\"outlinewidth\": 0, \"ticks\": \"\"}, \"type\": \"choropleth\"}], \"contour\": [{\"colorbar\": {\"outlinewidth\": 0, \"ticks\": \"\"}, \"colorscale\": [[0.0, \"#0d0887\"], [0.1111111111111111, \"#46039f\"], [0.2222222222222222, \"#7201a8\"], [0.3333333333333333, \"#9c179e\"], [0.4444444444444444, \"#bd3786\"], [0.5555555555555556, \"#d8576b\"], [0.6666666666666666, \"#ed7953\"], [0.7777777777777778, \"#fb9f3a\"], [0.8888888888888888, \"#fdca26\"], [1.0, \"#f0f921\"]], \"type\": \"contour\"}], \"contourcarpet\": [{\"colorbar\": {\"outlinewidth\": 0, \"ticks\": \"\"}, \"type\": \"contourcarpet\"}], \"heatmap\": [{\"colorbar\": {\"outlinewidth\": 0, \"ticks\": \"\"}, \"colorscale\": [[0.0, \"#0d0887\"], [0.1111111111111111, \"#46039f\"], [0.2222222222222222, \"#7201a8\"], [0.3333333333333333, \"#9c179e\"], [0.4444444444444444, \"#bd3786\"], [0.5555555555555556, \"#d8576b\"], [0.6666666666666666, \"#ed7953\"], [0.7777777777777778, \"#fb9f3a\"], [0.8888888888888888, \"#fdca26\"], [1.0, \"#f0f921\"]], \"type\": \"heatmap\"}], \"heatmapgl\": [{\"colorbar\": {\"outlinewidth\": 0, \"ticks\": \"\"}, \"colorscale\": [[0.0, \"#0d0887\"], [0.1111111111111111, \"#46039f\"], [0.2222222222222222, \"#7201a8\"], [0.3333333333333333, \"#9c179e\"], [0.4444444444444444, \"#bd3786\"], [0.5555555555555556, \"#d8576b\"], [0.6666666666666666, \"#ed7953\"], [0.7777777777777778, \"#fb9f3a\"], [0.8888888888888888, \"#fdca26\"], [1.0, \"#f0f921\"]], \"type\": \"heatmapgl\"}], \"histogram\": [{\"marker\": {\"colorbar\": {\"outlinewidth\": 0, \"ticks\": \"\"}}, \"type\": \"histogram\"}], \"histogram2d\": [{\"colorbar\": {\"outlinewidth\": 0, \"ticks\": \"\"}, \"colorscale\": [[0.0, \"#0d0887\"], [0.1111111111111111, \"#46039f\"], [0.2222222222222222, \"#7201a8\"], [0.3333333333333333, \"#9c179e\"], [0.4444444444444444, \"#bd3786\"], [0.5555555555555556, \"#d8576b\"], [0.6666666666666666, \"#ed7953\"], [0.7777777777777778, \"#fb9f3a\"], [0.8888888888888888, \"#fdca26\"], [1.0, \"#f0f921\"]], \"type\": \"histogram2d\"}], \"histogram2dcontour\": [{\"colorbar\": {\"outlinewidth\": 0, \"ticks\": \"\"}, \"colorscale\": [[0.0, \"#0d0887\"], [0.1111111111111111, \"#46039f\"], [0.2222222222222222, \"#7201a8\"], [0.3333333333333333, \"#9c179e\"], [0.4444444444444444, \"#bd3786\"], [0.5555555555555556, \"#d8576b\"], [0.6666666666666666, \"#ed7953\"], [0.7777777777777778, \"#fb9f3a\"], [0.8888888888888888, \"#fdca26\"], [1.0, \"#f0f921\"]], \"type\": \"histogram2dcontour\"}], \"mesh3d\": [{\"colorbar\": {\"outlinewidth\": 0, \"ticks\": \"\"}, \"type\": \"mesh3d\"}], \"parcoords\": [{\"line\": {\"colorbar\": {\"outlinewidth\": 0, \"ticks\": \"\"}}, \"type\": \"parcoords\"}], \"pie\": [{\"automargin\": true, \"type\": \"pie\"}], \"scatter\": [{\"marker\": {\"colorbar\": {\"outlinewidth\": 0, \"ticks\": \"\"}}, \"type\": \"scatter\"}], \"scatter3d\": [{\"line\": {\"colorbar\": {\"outlinewidth\": 0, \"ticks\": \"\"}}, \"marker\": {\"colorbar\": {\"outlinewidth\": 0, \"ticks\": \"\"}}, \"type\": \"scatter3d\"}], \"scattercarpet\": [{\"marker\": {\"colorbar\": {\"outlinewidth\": 0, \"ticks\": \"\"}}, \"type\": \"scattercarpet\"}], \"scattergeo\": [{\"marker\": {\"colorbar\": {\"outlinewidth\": 0, \"ticks\": \"\"}}, \"type\": \"scattergeo\"}], \"scattergl\": [{\"marker\": {\"colorbar\": {\"outlinewidth\": 0, \"ticks\": \"\"}}, \"type\": \"scattergl\"}], \"scattermapbox\": [{\"marker\": {\"colorbar\": {\"outlinewidth\": 0, \"ticks\": \"\"}}, \"type\": \"scattermapbox\"}], \"scatterpolar\": [{\"marker\": {\"colorbar\": {\"outlinewidth\": 0, \"ticks\": \"\"}}, \"type\": \"scatterpolar\"}], \"scatterpolargl\": [{\"marker\": {\"colorbar\": {\"outlinewidth\": 0, \"ticks\": \"\"}}, \"type\": \"scatterpolargl\"}], \"scatterternary\": [{\"marker\": {\"colorbar\": {\"outlinewidth\": 0, \"ticks\": \"\"}}, \"type\": \"scatterternary\"}], \"surface\": [{\"colorbar\": {\"outlinewidth\": 0, \"ticks\": \"\"}, \"colorscale\": [[0.0, \"#0d0887\"], [0.1111111111111111, \"#46039f\"], [0.2222222222222222, \"#7201a8\"], [0.3333333333333333, \"#9c179e\"], [0.4444444444444444, \"#bd3786\"], [0.5555555555555556, \"#d8576b\"], [0.6666666666666666, \"#ed7953\"], [0.7777777777777778, \"#fb9f3a\"], [0.8888888888888888, \"#fdca26\"], [1.0, \"#f0f921\"]], \"type\": \"surface\"}], \"table\": [{\"cells\": {\"fill\": {\"color\": \"#EBF0F8\"}, \"line\": {\"color\": \"white\"}}, \"header\": {\"fill\": {\"color\": \"#C8D4E3\"}, \"line\": {\"color\": \"white\"}}, \"type\": \"table\"}]}, \"layout\": {\"annotationdefaults\": {\"arrowcolor\": \"#2a3f5f\", \"arrowhead\": 0, \"arrowwidth\": 1}, \"coloraxis\": {\"colorbar\": {\"outlinewidth\": 0, \"ticks\": \"\"}}, \"colorscale\": {\"diverging\": [[0, \"#8e0152\"], [0.1, \"#c51b7d\"], [0.2, \"#de77ae\"], [0.3, \"#f1b6da\"], [0.4, \"#fde0ef\"], [0.5, \"#f7f7f7\"], [0.6, \"#e6f5d0\"], [0.7, \"#b8e186\"], [0.8, \"#7fbc41\"], [0.9, \"#4d9221\"], [1, \"#276419\"]], \"sequential\": [[0.0, \"#0d0887\"], [0.1111111111111111, \"#46039f\"], [0.2222222222222222, \"#7201a8\"], [0.3333333333333333, \"#9c179e\"], [0.4444444444444444, \"#bd3786\"], [0.5555555555555556, \"#d8576b\"], [0.6666666666666666, \"#ed7953\"], [0.7777777777777778, \"#fb9f3a\"], [0.8888888888888888, \"#fdca26\"], [1.0, \"#f0f921\"]], \"sequentialminus\": [[0.0, \"#0d0887\"], [0.1111111111111111, \"#46039f\"], [0.2222222222222222, \"#7201a8\"], [0.3333333333333333, \"#9c179e\"], [0.4444444444444444, \"#bd3786\"], [0.5555555555555556, \"#d8576b\"], [0.6666666666666666, \"#ed7953\"], [0.7777777777777778, \"#fb9f3a\"], [0.8888888888888888, \"#fdca26\"], [1.0, \"#f0f921\"]]}, \"colorway\": [\"#636efa\", \"#EF553B\", \"#00cc96\", \"#ab63fa\", \"#FFA15A\", \"#19d3f3\", \"#FF6692\", \"#B6E880\", \"#FF97FF\", \"#FECB52\"], \"font\": {\"color\": \"#2a3f5f\"}, \"geo\": {\"bgcolor\": \"white\", \"lakecolor\": \"white\", \"landcolor\": \"#E5ECF6\", \"showlakes\": true, \"showland\": true, \"subunitcolor\": \"white\"}, \"hoverlabel\": {\"align\": \"left\"}, \"hovermode\": \"closest\", \"mapbox\": {\"style\": \"light\"}, \"paper_bgcolor\": \"white\", \"plot_bgcolor\": \"#E5ECF6\", \"polar\": {\"angularaxis\": {\"gridcolor\": \"white\", \"linecolor\": \"white\", \"ticks\": \"\"}, \"bgcolor\": \"#E5ECF6\", \"radialaxis\": {\"gridcolor\": \"white\", \"linecolor\": \"white\", \"ticks\": \"\"}}, \"scene\": {\"xaxis\": {\"backgroundcolor\": \"#E5ECF6\", \"gridcolor\": \"white\", \"gridwidth\": 2, \"linecolor\": \"white\", \"showbackground\": true, \"ticks\": \"\", \"zerolinecolor\": \"white\"}, \"yaxis\": {\"backgroundcolor\": \"#E5ECF6\", \"gridcolor\": \"white\", \"gridwidth\": 2, \"linecolor\": \"white\", \"showbackground\": true, \"ticks\": \"\", \"zerolinecolor\": \"white\"}, \"zaxis\": {\"backgroundcolor\": \"#E5ECF6\", \"gridcolor\": \"white\", \"gridwidth\": 2, \"linecolor\": \"white\", \"showbackground\": true, \"ticks\": \"\", \"zerolinecolor\": \"white\"}}, \"shapedefaults\": {\"line\": {\"color\": \"#2a3f5f\"}}, \"ternary\": {\"aaxis\": {\"gridcolor\": \"white\", \"linecolor\": \"white\", \"ticks\": \"\"}, \"baxis\": {\"gridcolor\": \"white\", \"linecolor\": \"white\", \"ticks\": \"\"}, \"bgcolor\": \"#E5ECF6\", \"caxis\": {\"gridcolor\": \"white\", \"linecolor\": \"white\", \"ticks\": \"\"}}, \"title\": {\"x\": 0.05}, \"xaxis\": {\"automargin\": true, \"gridcolor\": \"white\", \"linecolor\": \"white\", \"ticks\": \"\", \"title\": {\"standoff\": 15}, \"zerolinecolor\": \"white\", \"zerolinewidth\": 2}, \"yaxis\": {\"automargin\": true, \"gridcolor\": \"white\", \"linecolor\": \"white\", \"ticks\": \"\", \"title\": {\"standoff\": 15}, \"zerolinecolor\": \"white\", \"zerolinewidth\": 2}}}, \"xaxis\": {\"rangeslider\": {\"visible\": false}}},\n",
       "                        {\"responsive\": true}\n",
       "                    ).then(function(){\n",
       "                            \n",
       "var gd = document.getElementById('f41ec7dd-b294-4f39-855f-7b584957ef3b');\n",
       "var x = new MutationObserver(function (mutations, observer) {{\n",
       "        var display = window.getComputedStyle(gd).display;\n",
       "        if (!display || display === 'none') {{\n",
       "            console.log([gd, 'removed!']);\n",
       "            Plotly.purge(gd);\n",
       "            observer.disconnect();\n",
       "        }}\n",
       "}});\n",
       "\n",
       "// Listen for the removal of the full notebook cells\n",
       "var notebookContainer = gd.closest('#notebook-container');\n",
       "if (notebookContainer) {{\n",
       "    x.observe(notebookContainer, {childList: true});\n",
       "}}\n",
       "\n",
       "// Listen for the clearing of the current output cell\n",
       "var outputEl = gd.closest('.output');\n",
       "if (outputEl) {{\n",
       "    x.observe(outputEl, {childList: true});\n",
       "}}\n",
       "\n",
       "                        })\n",
       "                };\n",
       "                });\n",
       "            </script>\n",
       "        </div>"
      ]
     },
     "metadata": {},
     "output_type": "display_data"
    }
   ],
   "source": [
    "fig = go.Figure(data=[go.Candlestick(x=raw_p['Date'],\n",
    "                                        open=raw_p['Open'],\n",
    "                                        high=raw_p['High'],\n",
    "                                        low=raw_p['Low'],\n",
    "                                        close=raw_p['Price']\n",
    "                                            )\n",
    "                                             ])\n",
    "\n",
    "fig.update_layout(xaxis_rangeslider_visible=False) # remove range finder\n",
    "\n",
    "fig.show()"
   ]
  },
  {
   "cell_type": "code",
   "execution_count": null,
   "metadata": {},
   "outputs": [],
   "source": []
  },
  {
   "cell_type": "code",
   "execution_count": null,
   "metadata": {},
   "outputs": [],
   "source": []
  },
  {
   "cell_type": "code",
   "execution_count": null,
   "metadata": {},
   "outputs": [],
   "source": []
  },
  {
   "cell_type": "code",
   "execution_count": null,
   "metadata": {},
   "outputs": [],
   "source": []
  },
  {
   "cell_type": "code",
   "execution_count": null,
   "metadata": {},
   "outputs": [],
   "source": []
  },
  {
   "cell_type": "code",
   "execution_count": null,
   "metadata": {},
   "outputs": [],
   "source": []
  },
  {
   "cell_type": "code",
   "execution_count": null,
   "metadata": {},
   "outputs": [],
   "source": []
  },
  {
   "cell_type": "code",
   "execution_count": null,
   "metadata": {},
   "outputs": [],
   "source": []
  },
  {
   "cell_type": "code",
   "execution_count": null,
   "metadata": {},
   "outputs": [],
   "source": []
  },
  {
   "cell_type": "code",
   "execution_count": null,
   "metadata": {},
   "outputs": [],
   "source": []
  },
  {
   "cell_type": "code",
   "execution_count": null,
   "metadata": {},
   "outputs": [],
   "source": []
  },
  {
   "cell_type": "code",
   "execution_count": null,
   "metadata": {},
   "outputs": [],
   "source": []
  },
  {
   "cell_type": "code",
   "execution_count": null,
   "metadata": {},
   "outputs": [],
   "source": []
  },
  {
   "cell_type": "code",
   "execution_count": null,
   "metadata": {},
   "outputs": [],
   "source": []
  },
  {
   "cell_type": "code",
   "execution_count": null,
   "metadata": {},
   "outputs": [],
   "source": []
  },
  {
   "cell_type": "code",
   "execution_count": null,
   "metadata": {},
   "outputs": [],
   "source": []
  },
  {
   "cell_type": "code",
   "execution_count": null,
   "metadata": {},
   "outputs": [],
   "source": []
  },
  {
   "cell_type": "code",
   "execution_count": null,
   "metadata": {},
   "outputs": [],
   "source": []
  },
  {
   "cell_type": "code",
   "execution_count": null,
   "metadata": {},
   "outputs": [],
   "source": []
  },
  {
   "cell_type": "code",
   "execution_count": null,
   "metadata": {},
   "outputs": [],
   "source": []
  },
  {
   "cell_type": "code",
   "execution_count": null,
   "metadata": {},
   "outputs": [],
   "source": []
  },
  {
   "cell_type": "code",
   "execution_count": null,
   "metadata": {},
   "outputs": [],
   "source": []
  },
  {
   "cell_type": "raw",
   "metadata": {},
   "source": [
    "@app.callback(\n",
    "                [\n",
    "                    Output('scatter_trader', 'figure'),\n",
    "                    Output('slider_selection', 'children'), \n",
    "                    #Output('price_chart', 'figure'),\n",
    "                  ],\n",
    "               #Output('table_1', 'data'),  ], # Dynamic data table \n",
    "                [\n",
    "                    Input ('model_1','value'),\n",
    "                    Input ('dataset_1','value'),\n",
    "                    Input('cluster_1','value'),\n",
    "                    Input('action_1','value'), \n",
    "                    Input('forecast_1','value'),\n",
    "                    Input('date_1','value'),           \n",
    "                ]   \n",
    "            ) \n",
    "\n",
    "def plots (modelD,datasetD, clusterD, actionD, forecastD, rangeD ):  # just my names (According to order in callback)\n",
    "    \n",
    "    # Call data from SQL db\n",
    "    conn = sql.connect(database_name)\n",
    "    cur = conn.cursor()\n",
    "    df = pd.read_sql_query(\"SELECT * FROM {} \".format(datasetD), conn)  #FROM eda_data_LR\n",
    "    df[\"Date\"] = pd.DatetimeIndex(df[\"Date\"]).year\n",
    "    conn.close()    \n",
    "    \n",
    "    dataset = df[(df[\"Date\"] >= rangeD[0]) &  # Slice data according to lower year range \n",
    "                   (df[\"Date\"] <= rangeD[1]) & # Slice data according to upper year range\n",
    "                   (df[\"Cluster\"].isin(clusterD)) & # Slice data according to quarter                       \n",
    "                   (df[\"Prediction\"].isin(actionD)) &\n",
    "                   (df[\"Correct\"].isin(forecastD))# Slice data according to sector    \n",
    "                  ]  \n",
    "    \n",
    "    # ============================= 3D Scatterplot =============================== #\n",
    "    trace1 = go.Scatter3d(x = dataset[\"t-SNE_1\"],   # Exponential PCA\n",
    "                          y = dataset[\"t-SNE_2\"],\n",
    "                          z = dataset[\"Profit\"], # np.exp(dataset[\"y_return\"])*10,  #)\n",
    "                          mode = \"markers+text\",\n",
    "                          hovertext =  round(dataset[[\"Profit\",\"Confidence %\"]],2).values.tolist(), #dataset[[\"Profit\"]].values.tolist(),  #,\"Confidence %\"\n",
    "                          hoverinfo= \"text\",\n",
    "                          marker = dict(size= df[\"Confidence %\"]/4, \n",
    "                                        sizemin = 1.5,  # min size\n",
    "                                        color= dataset[\"Cluster\"],  # THIS CAN BE DIFFERENT\n",
    "                                        colorscale = \"Portland\",\n",
    "                                        colorbar = {\"thickness\": 10, \"len\": 0.5, \"x\": 0.8, \"y\": 0.6, },\n",
    "                                        symbol = list(np.where(dataset['Correct'] == 1, 'diamond', 'cross')), #square #-open\n",
    "                                        showscale = False,\n",
    "                                       ),  \n",
    "                         )\n",
    "    data_1 = [ trace1 ]    \n",
    "    layout_1 = go.Layout( \n",
    "         title = \"<b>Scatterplot Trades</b>\",\n",
    "             # UX\n",
    "             height = 850,  #1500,\n",
    "             #width = 850,  #1500,    <----- Screws with layout \n",
    "             paper_bgcolor = \"rgb(230, 230, 230)\", # background colour \"rgb(220, 235, 247)\"\n",
    "             # paper_bgcolor = \"rgb(158, 194, 217)\", # background colour \n",
    "             scene = dict( # UI\n",
    "                          aspectmode = \"cube\",  \n",
    "                          hovermode = \"closest\",\n",
    "                          dragmode = \"turntable\", #  \"orbit\" | \"turntable\" | \"zoom\" | \"pan\" | False\n",
    "                          xaxis = dict(title =\"t-SNE_1\" ),\n",
    "                          yaxis = dict(title =\"t-SNE_2\" ),\n",
    "                          zaxis = dict(title =\"t-SNE_3\"),  \n",
    "             )\n",
    "    )   \n",
    "\n",
    "    scatter_plot =( \n",
    "                    {\"data\":data_1,\n",
    "                     \"layout\":layout_1}\n",
    "                   )\n",
    "    \n",
    "    # ============================= Price Chart =============================== #\n",
    "    \n",
    "    \n",
    "#     scatter_plot =( \n",
    "#                     {\"data\":data_1,\n",
    "#                      \"layout\":layout_1}\n",
    "#                    )    \n",
    "    \n",
    "    return scatter_plot , \"Date Range {} - {}.\".format(str(rangeD[0]),str(rangeD[1])) #, price_chart\n",
    "\n",
    "# @app.callback(\n",
    "#                 [\n",
    "#                     Output('price_chart', 'figure'),\n",
    "#                   ],\n",
    "#                #Output('table_1', 'data'),  ], # Dynamic data table \n",
    "#                 [\n",
    "\n",
    "#                     Input('cluster_1','value'),\n",
    "#                     Input('action_1','value'), \n",
    "#                     Input('forecast_1','value'),\n",
    "#                     Input('date_1','value'),           \n",
    "#                 ]   \n",
    "#             ) \n",
    "# def plots_2 (modelD,datasetD, clusterD, actionD, forecastD, rangeD ):  # just my names (According to order in callback)\n",
    "    \n",
    "#     # Call data from SQL db\n",
    "#     conn = sql.connect(database_name)\n",
    "#     cur = conn.cursor()\n",
    "#     df = pd.read_sql_query(\"SELECT * FROM {} \".format(datasetD), conn)  #FROM eda_data_LR\n",
    "#     df[\"Date\"] = pd.DatetimeIndex(df[\"Date\"]).year\n",
    "#     conn.close()    \n",
    "\n",
    "if __name__ == '__main__':\n",
    "    app.run_server()"
   ]
  }
 ],
 "metadata": {
  "kernelspec": {
   "display_name": "Python 3",
   "language": "python",
   "name": "python3"
  },
  "language_info": {
   "codemirror_mode": {
    "name": "ipython",
    "version": 3
   },
   "file_extension": ".py",
   "mimetype": "text/x-python",
   "name": "python",
   "nbconvert_exporter": "python",
   "pygments_lexer": "ipython3",
   "version": "3.7.4"
  }
 },
 "nbformat": 4,
 "nbformat_minor": 2
}
