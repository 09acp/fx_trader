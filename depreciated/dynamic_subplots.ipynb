{
 "cells": [
  {
   "cell_type": "markdown",
   "metadata": {},
   "source": [
    "# Prototype price chart subplot\n",
    "- requires database from fx_trader repo\n",
    "- [Example 5 Dash](https://dash.plot.ly/interactive-graphing) \n",
    "\n",
    "### Summary \n",
    "Hypothesis:\n",
    "A trader can inspect the price movement before executing a predicted action: Buy/Sell.\n",
    "\n",
    "#1 Main Plot: model forecast confidence Vs profit per trade\n",
    "#2 Sub Plot: 100 days window Vs closing price of stock\n",
    "\n",
    "---------------------------\n",
    "Callback 1. \n",
    "~~F) create_time_series --> old subplot ~~\n",
    "F) create_time_series_subplot --> create sub plot\n",
    "F) update graph --> create main plot\n",
    "\n",
    "Callback 2.\n",
    "F) update_x_timeseries --> creates rolling window\n",
    "    - hoverData --> fixed format \n",
    "    - values --> must select range of data\n",
    "---------------------------\n"
   ]
  },
  {
   "cell_type": "code",
   "execution_count": 1,
   "metadata": {},
   "outputs": [],
   "source": [
    "import pandas as pd \n",
    "import numpy as np \n",
    "import sqlite3 as sql\n",
    "# import pickle\n",
    "# import dateutil.parser # to parse ISO date\n",
    "from datetime import datetime, timedelta\n",
    "\n",
    "# Plotly\n",
    "import plotly.graph_objects as go\n",
    "\n",
    "# Web app\n",
    "import dash\n",
    "import dash_core_components as dcc\n",
    "import dash_html_components as html\n",
    "from dash.dependencies import Input, Output, State\n",
    "import dash_table\n",
    "\n",
    "database_name = \"FX_data/database.db\"\n",
    "\n",
    "conn = sql.connect('FX_data/database.db')\n",
    "cur = conn.cursor()\n",
    "df = pd.read_sql_query(\"SELECT * FROM eda_data_LR \",conn)\n",
    "df['Date'] = pd.to_datetime(df['Date'])\n",
    "df.set_index(['Date'],inplace=True)\n",
    "conn.close()"
   ]
  },
  {
   "cell_type": "code",
   "execution_count": 2,
   "metadata": {
    "scrolled": true
   },
   "outputs": [
    {
     "data": {
      "text/html": [
       "<div>\n",
       "<style scoped>\n",
       "    .dataframe tbody tr th:only-of-type {\n",
       "        vertical-align: middle;\n",
       "    }\n",
       "\n",
       "    .dataframe tbody tr th {\n",
       "        vertical-align: top;\n",
       "    }\n",
       "\n",
       "    .dataframe thead th {\n",
       "        text-align: right;\n",
       "    }\n",
       "</style>\n",
       "<table border=\"1\" class=\"dataframe\">\n",
       "  <thead>\n",
       "    <tr style=\"text-align: right;\">\n",
       "      <th></th>\n",
       "      <th>Target</th>\n",
       "      <th>Prediction</th>\n",
       "      <th>Correct</th>\n",
       "      <th>% Buy</th>\n",
       "      <th>% Sell</th>\n",
       "      <th>Price</th>\n",
       "      <th>Open</th>\n",
       "      <th>High</th>\n",
       "      <th>Low</th>\n",
       "      <th>Close</th>\n",
       "      <th>Prob Buy</th>\n",
       "      <th>Prob Sell</th>\n",
       "      <th>Balance</th>\n",
       "      <th>Profit</th>\n",
       "      <th>comp_0</th>\n",
       "      <th>comp_1</th>\n",
       "      <th>t-SNE_1</th>\n",
       "      <th>t-SNE_2</th>\n",
       "      <th>Cluster</th>\n",
       "      <th>Confidence %</th>\n",
       "    </tr>\n",
       "    <tr>\n",
       "      <th>Date</th>\n",
       "      <th></th>\n",
       "      <th></th>\n",
       "      <th></th>\n",
       "      <th></th>\n",
       "      <th></th>\n",
       "      <th></th>\n",
       "      <th></th>\n",
       "      <th></th>\n",
       "      <th></th>\n",
       "      <th></th>\n",
       "      <th></th>\n",
       "      <th></th>\n",
       "      <th></th>\n",
       "      <th></th>\n",
       "      <th></th>\n",
       "      <th></th>\n",
       "      <th></th>\n",
       "      <th></th>\n",
       "      <th></th>\n",
       "      <th></th>\n",
       "    </tr>\n",
       "  </thead>\n",
       "  <tbody>\n",
       "    <tr>\n",
       "      <td>2004-03-01</td>\n",
       "      <td>0</td>\n",
       "      <td>1</td>\n",
       "      <td>0</td>\n",
       "      <td>37.25</td>\n",
       "      <td>62.75</td>\n",
       "      <td>0.8034</td>\n",
       "      <td>0.755824</td>\n",
       "      <td>0.762779</td>\n",
       "      <td>0.758515</td>\n",
       "      <td>0.76933</td>\n",
       "      <td>0.364423</td>\n",
       "      <td>0.635577</td>\n",
       "      <td>9903.846154</td>\n",
       "      <td>-96.153846</td>\n",
       "      <td>-0.019401</td>\n",
       "      <td>0.017532</td>\n",
       "      <td>22.393435</td>\n",
       "      <td>-12.548299</td>\n",
       "      <td>5</td>\n",
       "      <td>62.75</td>\n",
       "    </tr>\n",
       "  </tbody>\n",
       "</table>\n",
       "</div>"
      ],
      "text/plain": [
       "            Target  Prediction  Correct  % Buy  % Sell   Price      Open  \\\n",
       "Date                                                                       \n",
       "2004-03-01       0           1        0  37.25   62.75  0.8034  0.755824   \n",
       "\n",
       "                High       Low    Close  Prob Buy  Prob Sell      Balance  \\\n",
       "Date                                                                        \n",
       "2004-03-01  0.762779  0.758515  0.76933  0.364423   0.635577  9903.846154   \n",
       "\n",
       "               Profit    comp_0    comp_1    t-SNE_1    t-SNE_2  Cluster  \\\n",
       "Date                                                                       \n",
       "2004-03-01 -96.153846 -0.019401  0.017532  22.393435 -12.548299        5   \n",
       "\n",
       "            Confidence %  \n",
       "Date                      \n",
       "2004-03-01         62.75  "
      ]
     },
     "execution_count": 2,
     "metadata": {},
     "output_type": "execute_result"
    }
   ],
   "source": [
    "df.head(1)"
   ]
  },
  {
   "cell_type": "code",
   "execution_count": 3,
   "metadata": {},
   "outputs": [],
   "source": [
    "# FOR DASH APP\n",
    "year_options = pd.DatetimeIndex(df.reset_index()['Date']).year #.year"
   ]
  },
  {
   "cell_type": "code",
   "execution_count": 90,
   "metadata": {},
   "outputs": [],
   "source": [
    "external_stylesheets = ['https://codepen.io/chriddyp/pen/bWLwgP.css']\n",
    "\n",
    "\n",
    "app = dash.Dash(__name__, external_stylesheets=external_stylesheets)\n",
    "\n",
    "#available_indicators = df['Indicator Name'].unique()\n",
    "\n",
    "app.layout = html.Div([\n",
    "    \n",
    "    # DROP DOWN CLUSTER\n",
    "    html.Div([\n",
    "        html.Div([\n",
    "            dcc.Dropdown(\n",
    "                id='crossfilter-xaxis-column',\n",
    "                options=[{'label': i, 'value': i} for i in df['Cluster'].unique()],\n",
    "                value=7\n",
    "            ),\n",
    "        ],\n",
    "        style={'width': '49%', 'display': 'inline-block'}),\n",
    "\n",
    "        html.Div([\n",
    "        ], style={'width': '49%', 'float': 'right', 'display': 'inline-block'})\n",
    "    ], style={\n",
    "        'borderBottom': 'thin lightgrey solid',\n",
    "        'backgroundColor': 'rgb(250, 250, 250)',\n",
    "        'padding': '10px 5px'\n",
    "    }),\n",
    "\n",
    "    \n",
    "    # MAIN GRAPH\n",
    "    html.Div([\n",
    "        dcc.Graph(\n",
    "            id='crossfilter-indicator-scatter',\n",
    "            hoverData={'points': [{'customdata': '2007-03-01'}]}  # custom data is norm\n",
    "        )\n",
    "    ], style={'width': '49%', 'display': 'inline-block', 'padding': '0 20'}),\n",
    "    \n",
    "    \n",
    "    # SUBPLOT PRICE CHART\n",
    "    html.Div([\n",
    "        dcc.Graph(id='x-time-series'),\n",
    "    ], style={'display': 'inline-block', 'width': '49%'}),\n",
    "\n",
    "    \n",
    "    # YEAR SLIDER\n",
    "    html.Div(dcc.Slider(\n",
    "        id='crossfilter-year--slider',\n",
    "        min=year_options.min(),\n",
    "        max=year_options.max(),\n",
    "        value= 2005,\n",
    "        marks=  {i: '{}'.format(i) for i in year_options.unique().tolist()},\n",
    "        #{str(year): str(year) for year in df['Year'].unique()},\n",
    "        step=None\n",
    "    ), style={'width': '49%', 'padding': '0px 20px 20px 20px'})\n",
    "])\n",
    "\n",
    "\n"
   ]
  },
  {
   "cell_type": "code",
   "execution_count": 91,
   "metadata": {},
   "outputs": [
    {
     "name": "stdout",
     "output_type": "stream",
     "text": [
      " * Serving Flask app \"__main__\" (lazy loading)\n",
      " * Environment: production\n",
      "   WARNING: This is a development server. Do not use it in a production deployment.\n",
      "   Use a production WSGI server instead.\n",
      " * Debug mode: off\n"
     ]
    },
    {
     "name": "stderr",
     "output_type": "stream",
     "text": [
      " * Running on http://127.0.0.1:8050/ (Press CTRL+C to quit)\n",
      "127.0.0.1 - - [19/Feb/2020 12:11:30] \"\u001b[37mGET / HTTP/1.1\u001b[0m\" 200 -\n",
      "127.0.0.1 - - [19/Feb/2020 12:11:30] \"\u001b[37mGET /_dash-layout HTTP/1.1\u001b[0m\" 200 -\n",
      "127.0.0.1 - - [19/Feb/2020 12:11:31] \"\u001b[37mGET /_dash-dependencies HTTP/1.1\u001b[0m\" 200 -\n",
      "127.0.0.1 - - [19/Feb/2020 12:11:32] \"\u001b[37mPOST /_dash-update-component HTTP/1.1\u001b[0m\" 200 -\n",
      "127.0.0.1 - - [19/Feb/2020 12:11:32] \"\u001b[37mPOST /_dash-update-component HTTP/1.1\u001b[0m\" 200 -\n",
      "127.0.0.1 - - [19/Feb/2020 12:11:32] \"\u001b[37mGET /_favicon.ico?v=1.7.0 HTTP/1.1\u001b[0m\" 200 -\n"
     ]
    },
    {
     "name": "stdout",
     "output_type": "stream",
     "text": [
      "2007-03-01 00:00:00\n",
      "7\n"
     ]
    },
    {
     "name": "stderr",
     "output_type": "stream",
     "text": [
      "127.0.0.1 - - [19/Feb/2020 12:11:34] \"\u001b[37mPOST /_dash-update-component HTTP/1.1\u001b[0m\" 200 -\n"
     ]
    },
    {
     "name": "stdout",
     "output_type": "stream",
     "text": [
      "2005-09-21 00:00:00\n",
      "7\n"
     ]
    },
    {
     "name": "stderr",
     "output_type": "stream",
     "text": [
      "127.0.0.1 - - [19/Feb/2020 12:11:35] \"\u001b[37mPOST /_dash-update-component HTTP/1.1\u001b[0m\" 200 -\n"
     ]
    },
    {
     "name": "stdout",
     "output_type": "stream",
     "text": [
      "2005-08-26 00:00:00\n",
      "7\n"
     ]
    },
    {
     "name": "stderr",
     "output_type": "stream",
     "text": [
      "127.0.0.1 - - [19/Feb/2020 12:11:35] \"\u001b[37mPOST /_dash-update-component HTTP/1.1\u001b[0m\" 200 -\n"
     ]
    },
    {
     "name": "stdout",
     "output_type": "stream",
     "text": [
      "2004-04-05 00:00:00\n",
      "7\n"
     ]
    },
    {
     "name": "stderr",
     "output_type": "stream",
     "text": [
      "127.0.0.1 - - [19/Feb/2020 12:11:36] \"\u001b[37mPOST /_dash-update-component HTTP/1.1\u001b[0m\" 200 -\n",
      "127.0.0.1 - - [19/Feb/2020 12:11:36] \"\u001b[37mPOST /_dash-update-component HTTP/1.1\u001b[0m\" 200 -\n"
     ]
    },
    {
     "name": "stdout",
     "output_type": "stream",
     "text": [
      "2004-07-21 00:00:00\n",
      "7\n",
      "2005-11-14 00:00:00\n",
      "7\n"
     ]
    },
    {
     "name": "stderr",
     "output_type": "stream",
     "text": [
      "127.0.0.1 - - [19/Feb/2020 12:11:36] \"\u001b[37mPOST /_dash-update-component HTTP/1.1\u001b[0m\" 200 -\n",
      "127.0.0.1 - - [19/Feb/2020 12:11:36] \"\u001b[37mPOST /_dash-update-component HTTP/1.1\u001b[0m\" 200 -\n"
     ]
    },
    {
     "name": "stdout",
     "output_type": "stream",
     "text": [
      "2005-08-25 00:00:00\n",
      "7\n",
      "2005-12-15 00:00:00\n",
      "7\n"
     ]
    },
    {
     "name": "stderr",
     "output_type": "stream",
     "text": [
      "127.0.0.1 - - [19/Feb/2020 12:11:37] \"\u001b[37mPOST /_dash-update-component HTTP/1.1\u001b[0m\" 200 -\n"
     ]
    },
    {
     "name": "stdout",
     "output_type": "stream",
     "text": [
      "2004-09-29 00:00:00\n",
      "7\n"
     ]
    },
    {
     "name": "stderr",
     "output_type": "stream",
     "text": [
      "127.0.0.1 - - [19/Feb/2020 12:11:37] \"\u001b[37mPOST /_dash-update-component HTTP/1.1\u001b[0m\" 200 -\n",
      "127.0.0.1 - - [19/Feb/2020 12:11:38] \"\u001b[37mPOST /_dash-update-component HTTP/1.1\u001b[0m\" 200 -\n",
      "127.0.0.1 - - [19/Feb/2020 12:11:39] \"\u001b[37mPOST /_dash-update-component HTTP/1.1\u001b[0m\" 200 -\n",
      "127.0.0.1 - - [19/Feb/2020 12:11:40] \"\u001b[37mPOST /_dash-update-component HTTP/1.1\u001b[0m\" 200 -\n"
     ]
    },
    {
     "name": "stdout",
     "output_type": "stream",
     "text": [
      "2006-04-03 00:00:00\n",
      "7\n"
     ]
    },
    {
     "name": "stderr",
     "output_type": "stream",
     "text": [
      "127.0.0.1 - - [19/Feb/2020 12:11:40] \"\u001b[37mPOST /_dash-update-component HTTP/1.1\u001b[0m\" 200 -\n"
     ]
    },
    {
     "name": "stdout",
     "output_type": "stream",
     "text": [
      "2004-09-01 00:00:00\n",
      "7\n"
     ]
    },
    {
     "name": "stderr",
     "output_type": "stream",
     "text": [
      "127.0.0.1 - - [19/Feb/2020 12:11:40] \"\u001b[37mPOST /_dash-update-component HTTP/1.1\u001b[0m\" 200 -\n",
      "127.0.0.1 - - [19/Feb/2020 12:11:41] \"\u001b[37mPOST /_dash-update-component HTTP/1.1\u001b[0m\" 200 -\n",
      "127.0.0.1 - - [19/Feb/2020 12:11:41] \"\u001b[37mPOST /_dash-update-component HTTP/1.1\u001b[0m\" 200 -\n"
     ]
    },
    {
     "name": "stdout",
     "output_type": "stream",
     "text": [
      "2006-01-13 00:00:00\n",
      "7\n",
      "2005-05-27 00:00:00\n",
      "7\n",
      "2004-03-09 00:00:00\n",
      "7\n"
     ]
    },
    {
     "name": "stderr",
     "output_type": "stream",
     "text": [
      "127.0.0.1 - - [19/Feb/2020 12:11:41] \"\u001b[37mPOST /_dash-update-component HTTP/1.1\u001b[0m\" 200 -\n"
     ]
    },
    {
     "name": "stdout",
     "output_type": "stream",
     "text": [
      "2005-08-26 00:00:00\n",
      "7\n"
     ]
    },
    {
     "name": "stderr",
     "output_type": "stream",
     "text": [
      "127.0.0.1 - - [19/Feb/2020 12:11:41] \"\u001b[37mPOST /_dash-update-component HTTP/1.1\u001b[0m\" 200 -\n"
     ]
    }
   ],
   "source": [
    "@app.callback(\n",
    "    dash.dependencies.Output('crossfilter-indicator-scatter', 'figure'),\n",
    "    \n",
    "    [dash.dependencies.Input('crossfilter-xaxis-column', 'value'),\n",
    "     dash.dependencies.Input('crossfilter-year--slider', 'value')])\n",
    "\n",
    "def update_graph(xaxis_column_name, \n",
    "                 year_value):\n",
    "      \n",
    "    df[\"Date_Y\"] = pd.DatetimeIndex(df.reset_index()[\"Date\"]).year\n",
    "    dff = df[ (df[\"Date_Y\"] <= year_value) & (df['Cluster'] == xaxis_column_name)]\n",
    "\n",
    "    return {\n",
    "        'data': [dict(\n",
    "            x=dff['Confidence %'],\n",
    "            y=dff['Profit'],\n",
    "            \n",
    "            text=dff['Cluster'],  # info shown upon hovering\n",
    "            \n",
    "            customdata=dff.reset_index()[\"Date\"],\n",
    "            mode='markers',\n",
    "            marker={\n",
    "                'size': 15,\n",
    "                'opacity': 0.5,\n",
    "                'line': {'width': 0.5, 'color': 'white'}\n",
    "            }\n",
    "        )],\n",
    "        'layout': dict(\n",
    "            xaxis={\n",
    "                'title': \"Model Confidence (%) for Group: {}\".format(xaxis_column_name),\n",
    "            },\n",
    "            yaxis={\n",
    "                'title': \"Profit\",\n",
    "            },\n",
    "            margin={'l': 40, 'b': 30, 't': 10, 'r': 0},\n",
    "            height=450,\n",
    "            hovermode='closest'\n",
    "        )\n",
    "    }\n",
    "\n",
    "\" REDUNDANT \"\n",
    "# def create_time_series(dff, title):\n",
    "#     return {\n",
    "#         'data': [dict(\n",
    "#             x=dff['Confidence %'],\n",
    "#             y=dff['Profit'],\n",
    "#             mode='lines+markers'\n",
    "#         )],\n",
    "#         'layout': {\n",
    "#             'height': 225,\n",
    "#             'margin': {'l': 20, 'b': 30, 'r': 10, 't': 10},\n",
    "#             'annotations': [{\n",
    "#                 'x': 0, 'y': 0.85, 'xanchor': 'left', 'yanchor': 'bottom',\n",
    "#                 'xref': 'paper', 'yref': 'paper', 'showarrow': False,\n",
    "#                 'align': 'left', 'bgcolor': 'rgba(255, 255, 255, 0.5)',\n",
    "#                 'text': title\n",
    "#             }],\n",
    "#         }\n",
    "#     }\n",
    "    \n",
    "    \n",
    "\"\"\"\n",
    "FOR SUBPLOT \n",
    "\"\"\"\n",
    "def create_time_series_subplot(dff, title):\n",
    "    return {\n",
    "        'data': [dict(\n",
    "            x=dff['Date'],\n",
    "            y=dff['Price'],\n",
    "            mode='lines+markers'\n",
    "            \n",
    "        )],\n",
    "        'layout': {\n",
    "\n",
    "            'xaxis': {'title': \"Rolling Window -100 Days\"},\n",
    "            'yaxis': {'title': \"Closing Prices\"},\n",
    "            'height': 225,\n",
    "            'margin': {'l': 20, 'b': 30, 'r': 10, 't': 10},\n",
    "            'annotations': [{\n",
    "                'x': 0, \n",
    "                'y': 0.85, \n",
    "                'xanchor': 'left', \n",
    "                'yanchor': 'bottom',\n",
    "                'xref': 'paper', \n",
    "                'yref': 'paper', \n",
    "                'showarrow': False,\n",
    "                'align': 'left', \n",
    "                'bgcolor': 'rgba(255, 255, 255, 0.5)',\n",
    "                'text': title\n",
    "            }],\n",
    "        }\n",
    "    }\n",
    "\n",
    "@app.callback(\n",
    "    dash.dependencies.Output('x-time-series', 'figure'),\n",
    "    \n",
    "    [dash.dependencies.Input('crossfilter-indicator-scatter', 'hoverData'),\n",
    "     dash.dependencies.Input('crossfilter-xaxis-column', 'value'),\n",
    "    ])\n",
    "def update_x_timeseries(hoverData, cluster):\n",
    "    data = hoverData['points'][0]['customdata']\n",
    "    \"\"\"\n",
    "    fix format: hoverData -> datetime -> str\n",
    "    \"\"\"\n",
    "    day = str(pd.to_datetime(data))\n",
    "    print (day) # 2007-03-01  <- Date\n",
    "    print (cluster) # 7  <- Cluster\n",
    "\n",
    "    \"\"\"\n",
    "    Get 100 days of history\n",
    "    \"\"\"\n",
    "\n",
    "    try:  dff = df.reset_index().loc[(df.reset_index()['Date'] <= day) & (df.reset_index()['Cluster'] == cluster)][-100:] # max 100 days history\n",
    "    except:  dff = df.reset_index().loc[(df.reset_index()['Date'] <= day) & (df.reset_index()['Cluster'] == cluster)] # else as much as available \n",
    "    \n",
    "#     dff = df[df['Date'] == country_name]\n",
    "#     dff = dff[dff['Cluster'] == xaxis_column_name]   # <----- date ???\n",
    "    title = '<b> Price Chart for forecast: {}</b> <br> Trade Cluster: {}'.format(day[:-8],cluster ) #\n",
    "    return create_time_series_subplot(dff, title)\n",
    "\n",
    "\n",
    "\n",
    "if __name__ == '__main__':\n",
    "    app.run_server()"
   ]
  },
  {
   "cell_type": "code",
   "execution_count": null,
   "metadata": {},
   "outputs": [],
   "source": []
  },
  {
   "cell_type": "markdown",
   "metadata": {},
   "source": [
    "=======================================   END   ==============================================="
   ]
  }
 ],
 "metadata": {
  "kernelspec": {
   "display_name": "Python 3",
   "language": "python",
   "name": "python3"
  },
  "language_info": {
   "codemirror_mode": {
    "name": "ipython",
    "version": 3
   },
   "file_extension": ".py",
   "mimetype": "text/x-python",
   "name": "python",
   "nbconvert_exporter": "python",
   "pygments_lexer": "ipython3",
   "version": "3.7.4"
  }
 },
 "nbformat": 4,
 "nbformat_minor": 2
}
