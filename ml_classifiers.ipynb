{
 "cells": [
  {
   "cell_type": "markdown",
   "metadata": {},
   "source": [
    "# Model Training "
   ]
  },
  {
   "cell_type": "code",
   "execution_count": 1,
   "metadata": {},
   "outputs": [],
   "source": [
    "import pandas as pd\n",
    "import numpy as np\n",
    "import matplotlib.pyplot as plt\n",
    "import sqlite3 as sql\n",
    "import pickle"
   ]
  },
  {
   "cell_type": "markdown",
   "metadata": {},
   "source": [
    "#### <font color = \"blue\"> _To run models immedietely_ </font>"
   ]
  },
  {
   "cell_type": "code",
   "execution_count": 96,
   "metadata": {},
   "outputs": [],
   "source": [
    "def load_flat_gafs():\n",
    "    \"\"\"\n",
    "    Loads flat gadf images (2D tensor) to train and test ML models\n",
    "    - Input:  - \n",
    "    - Output: train_X, train_Y, test_X, test_Y\n",
    "    \"\"\"\n",
    "    conn = sql.connect('FX_data/database.db')\n",
    "    cur = conn.cursor()\n",
    "    train_X = pd.read_sql_query(\"SELECT * FROM gadf_flat_train_X \",conn)\n",
    "    train_Y = pd.read_sql_query(\"SELECT * FROM gadf_flat_train_Y \",conn)\n",
    "    test_X = pd.read_sql_query(\"SELECT * FROM gadf_flat_test_X \",conn)\n",
    "    test_Y = pd.read_sql_query(\"SELECT * FROM gadf_flat_test_Y \",conn)\n",
    "    conn.close()\n",
    "    return train_X, train_Y, test_X, test_Y\n",
    "\n",
    "def summarise_results(labels,predictions,probabilities,dates):\n",
    "    \"\"\"\n",
    "    DF to be used by trader \n",
    "    - Input model predictions, targets, dates  (must be an array of values 1d)\n",
    "    - Output Shape: df, Date index, Target, Prediction, Correct\n",
    "    \"\"\"\n",
    "    data= { #\"Target\":list(labels),\n",
    "            \"Target\":list(labels),\n",
    "            \"Prediction\":list(predictions)}\n",
    "    df = pd.DataFrame.from_dict(data)\n",
    "    df['Correct'] = 0 # zero when forecast in Incorrect \n",
    "    df['Correct'] = df['Correct'].where(df['Target'].values!=df['Prediction'].values, 1)\n",
    "    df = pd.concat([df,probabilities],axis=1)\n",
    "    df['Date'] = dates\n",
    "    df.set_index(['Date'],inplace=True)\n",
    "    #df.name = model_name\n",
    "    return df\n",
    "\n",
    "def binary_model_statistics(y_true, y_pred):\n",
    "    \"\"\"\n",
    "    Calculates models performance statistics \n",
    "    - Inputs: labels, predictions \n",
    "    - Outputs: accuracy, precision, recall\n",
    "    - prints results\n",
    "    \"\"\"\n",
    "    accuracy = accuracy_score(y_true, y_pred.astype('int64'))\n",
    "    precision = precision_score(y_true, y_pred.astype('int64'))\n",
    "    recall = recall_score(y_true, y_pred.astype('int64'))\n",
    "    print(' Data Accuracy (%) = ', round(accuracy*100,2))\n",
    "    print(' Data Precision (%) = ', round(precision*100,2))\n",
    "    print(' Data Recall (%) = ', round(recall*100,2))    \n",
    "    return accuracy, precision, recall"
   ]
  },
  {
   "cell_type": "markdown",
   "metadata": {},
   "source": [
    "#### Load Data"
   ]
  },
  {
   "cell_type": "code",
   "execution_count": 32,
   "metadata": {},
   "outputs": [
    {
     "data": {
      "text/plain": [
       "[(6127, 10, 10, 4), (6127,), (6127, 1), (1525, 10, 10, 4), (1525,), (1525, 1)]"
      ]
     },
     "execution_count": 32,
     "metadata": {},
     "output_type": "execute_result"
    }
   ],
   "source": [
    "# Load GADF images \n",
    "train_X, train_Y, train_dates  ,   test_X, test_Y, test_dates = pd.read_pickle('FX_data/usd_eur_gadf.pkl')\n",
    "[x.shape for x in [train_X, train_Y, train_dates, test_X, test_Y, test_dates]]"
   ]
  },
  {
   "cell_type": "markdown",
   "metadata": {},
   "source": [
    "# ML Classifiers\n",
    "[Example 1. logistic R](https://www.kaggle.com/gulsahdemiryurek/image-classification-with-logistic-regression)\n",
    "- useful for setting shape of image \n",
    "- uses numpy and cv package\n",
    "- x_train.reshape(number_of_train,x_train.shape[1]*x_train.shape[2]) \n",
    "    - transforms (6127, 10, 40) -> (6127, 400)\n",
    "- usually can use .flatten()\n",
    "\n",
    "[Example 2. TF logR](https://www.tensorflow.org/tutorials/keras/classification)\n",
    "- MLP simple tf.Keras"
   ]
  },
  {
   "cell_type": "code",
   "execution_count": 3,
   "metadata": {},
   "outputs": [],
   "source": [
    "# instances / features / height / width \n",
    "#train_X[1,:,:,:] # Four 10*10 images for a single label "
   ]
  },
  {
   "cell_type": "markdown",
   "metadata": {},
   "source": [
    "#### Prep images for ML model"
   ]
  },
  {
   "cell_type": "code",
   "execution_count": 4,
   "metadata": {},
   "outputs": [
    {
     "name": "stdout",
     "output_type": "stream",
     "text": [
      "(6127, 10, 40) (1525, 10, 40)\n"
     ]
    },
    {
     "data": {
      "image/png": "[encoded data removed]",
      "text/plain": [
       "<Figure size 1440x1008 with 1 Axes>"
      ]
     },
     "metadata": {
      "needs_background": "light"
     },
     "output_type": "display_data"
    }
   ],
   "source": [
    "\"\"\"\n",
    "Compress the ndarray into a single image by expanding horizontal axis \n",
    "- Input Shape (6127, 10, 10, 4)\n",
    "- Output Shape: (6127, 10, 40)\n",
    "- Preserves all data, but now have 6127 images of height*width 10*40\n",
    "\"\"\"\n",
    "def join_images(data):\n",
    "    l = []\n",
    "    for i in range(data.shape[-1]):\n",
    "        l.append(data[:, :, :, i])\n",
    "    return np.dstack( l )    \n",
    "\n",
    "# Create conjointed images \n",
    "features_train = join_images(train_X)\n",
    "features_test = join_images(test_X)\n",
    "\n",
    "print(features_train.shape, features_test.shape)\n",
    "# Example of the concatenated (4 features) GADF image \n",
    "fig = plt.figure(figsize=(20, 14))\n",
    "im = plt.imshow(features_train[-1], cmap='rainbow', origin='lower')\n",
    "plt.savefig(\"images/GADF_flat.png\")"
   ]
  },
  {
   "cell_type": "code",
   "execution_count": 5,
   "metadata": {
    "scrolled": true
   },
   "outputs": [
    {
     "name": "stdout",
     "output_type": "stream",
     "text": [
      "(6127, 400) (1525, 400)\n"
     ]
    }
   ],
   "source": [
    "# Flatten images for simple ML classifiers \n",
    "\"\"\"\n",
    "Simple ML classifiers cannot hadle more than 3 dimensions\n",
    "- Input Shape (6127, 10, 40)\n",
    "- Output Shape: (6127, 400)\n",
    "- Preserves data by flattening pixels for each instance \n",
    "\"\"\"\n",
    "def flatten_images(data):\n",
    "    df = pd.DataFrame(data.reshape(data.shape[0],\n",
    "                features_train.shape[1] * features_train.shape[2]))\n",
    "    df.columns = [ \"pixel_\"+str(x) for x in range(0,400)]\n",
    "    return df\n",
    "    \n",
    "train_flat = flatten_images(features_train)\n",
    "test_flat = flatten_images(features_test)\n",
    "\n",
    "print(train_flat.shape, test_flat.shape)"
   ]
  },
  {
   "cell_type": "markdown",
   "metadata": {},
   "source": [
    "#### Save GADF_flat to database"
   ]
  },
  {
   "cell_type": "code",
   "execution_count": 7,
   "metadata": {},
   "outputs": [],
   "source": [
    "conn = sql.connect('FX_data/database.db')\n",
    "cur = conn.cursor()\n",
    "train_flat.to_sql(\"gadf_flat_train_X\", conn, if_exists=\"replace\",index=False)\n",
    "pd.DataFrame(train_Y).to_sql(\"gadf_flat_train_Y\", conn, if_exists=\"replace\",index=False)\n",
    "test_flat.to_sql(\"gadf_flat_test_X\", conn, if_exists=\"replace\",index=False)\n",
    "pd.DataFrame(test_Y).to_sql(\"gadf_flat_test_Y\", conn, if_exists=\"replace\",index=False)\n",
    "conn.close()"
   ]
  },
  {
   "cell_type": "markdown",
   "metadata": {},
   "source": [
    "## M1 [Logistic Regression](https://towardsdatascience.com/building-a-logistic-regression-in-python-step-by-step-becd4d56c9c8)"
   ]
  },
  {
   "cell_type": "code",
   "execution_count": 35,
   "metadata": {},
   "outputs": [],
   "source": [
    "from sklearn.linear_model import LogisticRegression"
   ]
  },
  {
   "cell_type": "code",
   "execution_count": 36,
   "metadata": {},
   "outputs": [
    {
     "name": "stderr",
     "output_type": "stream",
     "text": [
      "C:\\Users\\09ale\\Anaconda3\\lib\\site-packages\\sklearn\\utils\\validation.py:724: DataConversionWarning: A column-vector y was passed when a 1d array was expected. Please change the shape of y to (n_samples, ), for example using ravel().\n",
      "  y = column_or_1d(y, warn=True)\n"
     ]
    }
   ],
   "source": [
    "model_name = \"LogisticRegression\" # to save to databse\n",
    "train_X, train_Y, test_X, test_Y = load_flat_gafs()\n",
    "_, _, train_dates  ,   _, _, test_dates = pd.read_pickle('FX_data/usd_eur_gadf.pkl') # load dates \n",
    "\n",
    "logreg = LogisticRegression(solver=\"newton-cg\") #'saga' did not  converge\n",
    "model = logreg.fit(train_X, train_Y)"
   ]
  },
  {
   "cell_type": "code",
   "execution_count": 100,
   "metadata": {},
   "outputs": [
    {
     "name": "stdout",
     "output_type": "stream",
     "text": [
      " Data Accuracy (%) =  49.97\n",
      " Data Precision (%) =  51.57\n",
      " Data Recall (%) =  52.03\n"
     ]
    },
    {
     "data": {
      "text/html": [
       "<div>\n",
       "<style scoped>\n",
       "    .dataframe tbody tr th:only-of-type {\n",
       "        vertical-align: middle;\n",
       "    }\n",
       "\n",
       "    .dataframe tbody tr th {\n",
       "        vertical-align: top;\n",
       "    }\n",
       "\n",
       "    .dataframe thead th {\n",
       "        text-align: right;\n",
       "    }\n",
       "</style>\n",
       "<table border=\"1\" class=\"dataframe\">\n",
       "  <thead>\n",
       "    <tr style=\"text-align: right;\">\n",
       "      <th></th>\n",
       "      <th>Target</th>\n",
       "      <th>Prediction</th>\n",
       "      <th>Correct</th>\n",
       "      <th>% Buy</th>\n",
       "      <th>% Sell</th>\n",
       "    </tr>\n",
       "    <tr>\n",
       "      <th>Date</th>\n",
       "      <th></th>\n",
       "      <th></th>\n",
       "      <th></th>\n",
       "      <th></th>\n",
       "      <th></th>\n",
       "    </tr>\n",
       "  </thead>\n",
       "  <tbody>\n",
       "    <tr>\n",
       "      <td>2004-03-01</td>\n",
       "      <td>0</td>\n",
       "      <td>1</td>\n",
       "      <td>0</td>\n",
       "      <td>37.25</td>\n",
       "      <td>62.75</td>\n",
       "    </tr>\n",
       "    <tr>\n",
       "      <td>2004-03-02</td>\n",
       "      <td>0</td>\n",
       "      <td>0</td>\n",
       "      <td>1</td>\n",
       "      <td>51.20</td>\n",
       "      <td>48.80</td>\n",
       "    </tr>\n",
       "    <tr>\n",
       "      <td>2004-03-03</td>\n",
       "      <td>0</td>\n",
       "      <td>1</td>\n",
       "      <td>0</td>\n",
       "      <td>22.13</td>\n",
       "      <td>77.87</td>\n",
       "    </tr>\n",
       "  </tbody>\n",
       "</table>\n",
       "</div>"
      ],
      "text/plain": [
       "            Target  Prediction  Correct  % Buy  % Sell\n",
       "Date                                                  \n",
       "2004-03-01       0           1        0  37.25   62.75\n",
       "2004-03-02       0           0        1  51.20   48.80\n",
       "2004-03-03       0           1        0  22.13   77.87"
      ]
     },
     "execution_count": 100,
     "metadata": {},
     "output_type": "execute_result"
    }
   ],
   "source": [
    "predictions = model.predict(test_X)\n",
    "probabilities = pd.DataFrame(np.round(model.predict_proba(test_X)*100,2), columns =[\"% Buy\",\"% Sell\"])\n",
    "df_LogR = summarise_results(test_Y['0'], predictions,probabilities,test_dates) # must be an array of values\n",
    "binary_model_statistics(test_Y, predictions) # performance statistics \n",
    "df_LogR.head(3)"
   ]
  },
  {
   "cell_type": "code",
   "execution_count": 104,
   "metadata": {},
   "outputs": [],
   "source": [
    "conn = sql.connect('FX_data/database.db')\n",
    "cur = conn.cursor()\n",
    "df_LogR.to_sql(model_name, conn, if_exists=\"replace\",index=True)\n",
    "conn.close()"
   ]
  },
  {
   "cell_type": "markdown",
   "metadata": {},
   "source": [
    "## Recursive Feature Elimination (RFE) \n",
    "<font color='red'>*TAKES A WHILE TO COMPUTE*</font>\n",
    "\n",
    "Is based on the idea to repeatedly construct a model and choose either the best or worst performing feature, setting the feature aside and then repeating the process with the rest of the features. This process is applied until all features in the dataset are exhausted. The goal of RFE is to select features by recursively considering smaller and smaller sets of features.\n",
    "\n",
    "- [Example for pixel-based evalutation](https://scikit-learn.org/stable/auto_examples/feature_selection/plot_rfe_digits.html#sphx-glr-auto-examples-feature-selection-plot-rfe-digits-py)\n"
   ]
  },
  {
   "cell_type": "code",
   "execution_count": 105,
   "metadata": {},
   "outputs": [
    {
     "data": {
      "image/png": "[encoded data removed]",
      "text/plain": [
       "<Figure size 1152x288 with 2 Axes>"
      ]
     },
     "metadata": {
      "needs_background": "light"
     },
     "output_type": "display_data"
    },
    {
     "data": {
      "text/plain": [
       "<Figure size 432x288 with 0 Axes>"
      ]
     },
     "metadata": {},
     "output_type": "display_data"
    }
   ],
   "source": [
    "\" Uses Logistic Regression \"\n",
    "from sklearn.feature_selection import RFE\n",
    "train_X, train_Y, test_X, test_Y = load_flat_gafs()\n",
    "\n",
    "rfe = RFE(estimator=logreg, n_features_to_select=1, step=1)\n",
    "rfe.fit(train_flat, train_Y)\n",
    "ranking = rfe.ranking_.reshape((10,40))\n",
    "\n",
    "# Plot pixel ranking\n",
    "fig = plt.figure(figsize=(20, 14))\n",
    "plt.matshow(ranking, cmap=plt.cm.Blues)\n",
    "plt.colorbar()\n",
    "plt.title(\"Ranking of pixels with RFE\")\n",
    "plt.savefig(\"RFE.png\")\n",
    "plt.show()\n",
    "plt.savefig(\"images/RFE.png\")"
   ]
  },
  {
   "cell_type": "markdown",
   "metadata": {},
   "source": [
    "## M1 TensorFlow implimentation\n",
    "- from book: Pramod_Singh,_Avinash_Manure: Learn_TensorFlow_2.\n",
    "- pg 43."
   ]
  },
  {
   "cell_type": "code",
   "execution_count": 4,
   "metadata": {},
   "outputs": [
    {
     "name": "stdout",
     "output_type": "stream",
     "text": [
      "TensorFlow method:  2.0.0\n"
     ]
    }
   ],
   "source": [
    "# Load TF V1 \n",
    "# import tensorflow.compat.v1 as tf\n",
    "# tf.disable_v2_behavior()\n",
    "import tensorflow as tf\n",
    "print(\"TensorFlow method: \",tf.__version__)\n",
    "      \n",
    "from tensorflow import keras\n",
    "from tensorflow.estimator import LinearClassifier\n",
    "from sklearn.metrics import accuracy_score, precision_score, recall_score\n",
    "\n",
    "# Load data\n",
    "model_name = \"LogisticRegression_TF\" # to save to databse\n",
    "train_X, train_Y, test_X, test_Y = load_flat_gafs()\n",
    "_, _, train_dates  ,   _, _, test_dates = pd.read_pickle('FX_data/usd_eur_gadf.pkl') # load dates"
   ]
  },
  {
   "cell_type": "markdown",
   "metadata": {},
   "source": [
    "#### Build the input pipeline for the TensorFlow model.\n"
   ]
  },
  {
   "cell_type": "code",
   "execution_count": 44,
   "metadata": {},
   "outputs": [],
   "source": [
    "def feed_input (features, labels, epochs=10, shuffle=False, batch_size=32 ):\n",
    "    def input_feed_function():\n",
    "        dataset = tf.data.Dataset.from_tensor_slices( (dict(features),labels) )\n",
    "        if shuffle: dataset = dataset.shuffle(2000)\n",
    "        dataset = dataset.batch(batch_size).repeat(epochs)\n",
    "        return dataset\n",
    "    return input_feed_function\n",
    "\n",
    "train_feed_input = feed_input(train_X, train_Y)\n",
    "train_feed_input_testing = feed_input(train_X,\n",
    "                                      train_Y, \n",
    "                                      epochs=1, shuffle=False)\n",
    "\n",
    "test_feed_input = feed_input(test_X, test_Y, epochs=1,shuffle=False)"
   ]
  },
  {
   "cell_type": "markdown",
   "metadata": {},
   "source": [
    "#### Model (LogR) Training"
   ]
  },
  {
   "cell_type": "code",
   "execution_count": 45,
   "metadata": {},
   "outputs": [
    {
     "name": "stdout",
     "output_type": "stream",
     "text": [
      "INFO:tensorflow:Using default config.\n",
      "WARNING:tensorflow:Using temporary folder as model directory: C:\\Users\\09ale\\AppData\\Local\\Temp\\tmpu3n9vt_r\n",
      "INFO:tensorflow:Using config: {'_model_dir': 'C:\\\\Users\\\\09ale\\\\AppData\\\\Local\\\\Temp\\\\tmpu3n9vt_r', '_tf_random_seed': None, '_save_summary_steps': 100, '_save_checkpoints_steps': None, '_save_checkpoints_secs': 600, '_session_config': allow_soft_placement: true\n",
      "graph_options {\n",
      "  rewrite_options {\n",
      "    meta_optimizer_iterations: ONE\n",
      "  }\n",
      "}\n",
      ", '_keep_checkpoint_max': 5, '_keep_checkpoint_every_n_hours': 10000, '_log_step_count_steps': 100, '_train_distribute': None, '_device_fn': None, '_protocol': None, '_eval_distribute': None, '_experimental_distribute': None, '_experimental_max_worker_delay_secs': None, '_session_creation_timeout_secs': 7200, '_service': None, '_cluster_spec': <tensorflow.python.training.server_lib.ClusterSpec object at 0x000001903F015C08>, '_task_type': 'worker', '_task_id': 0, '_global_id_in_cluster': 0, '_master': '', '_evaluation_master': '', '_is_chief': True, '_num_ps_replicas': 0, '_num_worker_replicas': 1}\n",
      "INFO:tensorflow:Calling model_fn.\n",
      "WARNING:tensorflow:From C:\\Users\\09ale\\Anaconda3\\lib\\site-packages\\tensorflow_core\\python\\ops\\resource_variable_ops.py:1630: calling BaseResourceVariable.__init__ (from tensorflow.python.ops.resource_variable_ops) with constraint is deprecated and will be removed in a future version.\n",
      "Instructions for updating:\n",
      "If using Keras pass *_constraint arguments to layers.\n",
      "WARNING:tensorflow:From C:\\Users\\09ale\\Anaconda3\\lib\\site-packages\\tensorflow_core\\python\\feature_column\\feature_column_v2.py:518: Layer.add_variable (from tensorflow.python.keras.engine.base_layer) is deprecated and will be removed in a future version.\n",
      "Instructions for updating:\n",
      "Please use `layer.add_weight` method instead.\n",
      "WARNING:tensorflow:From C:\\Users\\09ale\\Anaconda3\\lib\\site-packages\\tensorflow_estimator\\python\\estimator\\canned\\linear.py:308: to_float (from tensorflow.python.ops.math_ops) is deprecated and will be removed in a future version.\n",
      "Instructions for updating:\n",
      "Use `tf.cast` instead.\n",
      "WARNING:tensorflow:From C:\\Users\\09ale\\Anaconda3\\lib\\site-packages\\tensorflow_core\\python\\keras\\optimizer_v2\\ftrl.py:143: calling Constant.__init__ (from tensorflow.python.ops.init_ops) with dtype is deprecated and will be removed in a future version.\n",
      "Instructions for updating:\n",
      "Call initializer instance with the dtype argument instead of passing it to the constructor\n",
      "INFO:tensorflow:Done calling model_fn.\n",
      "INFO:tensorflow:Create CheckpointSaverHook.\n",
      "INFO:tensorflow:Graph was finalized.\n",
      "INFO:tensorflow:Running local_init_op.\n",
      "INFO:tensorflow:Done running local_init_op.\n",
      "INFO:tensorflow:Saving checkpoints for 0 into C:\\Users\\09ale\\AppData\\Local\\Temp\\tmpu3n9vt_r\\model.ckpt.\n",
      "INFO:tensorflow:loss = 0.6931472, step = 1\n",
      "INFO:tensorflow:global_step/sec: 2.30993\n",
      "INFO:tensorflow:loss = 0.7589842, step = 101 (43.294 sec)\n",
      "INFO:tensorflow:global_step/sec: 6.30682\n",
      "INFO:tensorflow:loss = 0.9085313, step = 201 (15.857 sec)\n",
      "INFO:tensorflow:global_step/sec: 6.85956\n",
      "INFO:tensorflow:loss = 1.055195, step = 301 (14.581 sec)\n",
      "INFO:tensorflow:global_step/sec: 6.92786\n",
      "INFO:tensorflow:loss = 1.0476537, step = 401 (14.432 sec)\n",
      "INFO:tensorflow:global_step/sec: 7.15923\n",
      "INFO:tensorflow:loss = 0.76498705, step = 501 (13.967 sec)\n",
      "INFO:tensorflow:global_step/sec: 7.04633\n",
      "INFO:tensorflow:loss = 0.78779125, step = 601 (14.192 sec)\n",
      "INFO:tensorflow:global_step/sec: 6.78499\n",
      "INFO:tensorflow:loss = 0.72070074, step = 701 (14.738 sec)\n",
      "INFO:tensorflow:global_step/sec: 7.06431\n",
      "INFO:tensorflow:loss = 0.73443985, step = 801 (14.157 sec)\n",
      "INFO:tensorflow:global_step/sec: 6.94642\n",
      "INFO:tensorflow:loss = 0.73664117, step = 901 (14.397 sec)\n",
      "INFO:tensorflow:global_step/sec: 6.82486\n",
      "INFO:tensorflow:loss = 0.6852894, step = 1001 (14.651 sec)\n",
      "INFO:tensorflow:global_step/sec: 6.8405\n",
      "INFO:tensorflow:loss = 0.767341, step = 1101 (14.618 sec)\n",
      "INFO:tensorflow:global_step/sec: 7.17884\n",
      "INFO:tensorflow:loss = 0.71917367, step = 1201 (13.940 sec)\n",
      "INFO:tensorflow:global_step/sec: 6.62622\n",
      "INFO:tensorflow:loss = 0.7622144, step = 1301 (15.083 sec)\n",
      "INFO:tensorflow:global_step/sec: 6.46395\n",
      "INFO:tensorflow:loss = 0.850003, step = 1401 (15.468 sec)\n",
      "INFO:tensorflow:global_step/sec: 6.65825\n",
      "INFO:tensorflow:loss = 0.6916017, step = 1501 (15.020 sec)\n",
      "INFO:tensorflow:global_step/sec: 6.60461\n",
      "INFO:tensorflow:loss = 0.80035985, step = 1601 (15.140 sec)\n",
      "INFO:tensorflow:global_step/sec: 6.4534\n",
      "INFO:tensorflow:loss = 0.69264287, step = 1701 (15.498 sec)\n",
      "INFO:tensorflow:global_step/sec: 6.26161\n",
      "INFO:tensorflow:loss = 0.71414816, step = 1801 (15.970 sec)\n",
      "INFO:tensorflow:global_step/sec: 6.37064\n",
      "INFO:tensorflow:loss = 0.72199047, step = 1901 (15.698 sec)\n",
      "INFO:tensorflow:Saving checkpoints for 1920 into C:\\Users\\09ale\\AppData\\Local\\Temp\\tmpu3n9vt_r\\model.ckpt.\n",
      "INFO:tensorflow:Loss for final step: 0.6155258.\n"
     ]
    },
    {
     "data": {
      "text/plain": [
       "<tensorflow_estimator.python.estimator.canned.linear.LinearClassifierV2 at 0x1903f0198c8>"
      ]
     },
     "execution_count": 45,
     "metadata": {},
     "output_type": "execute_result"
    }
   ],
   "source": [
    "feature_columns_numeric = [tf.feature_column.numeric_column(m) for m in train_X.columns]\n",
    "logistic_model = LinearClassifier (feature_columns = feature_columns_numeric)\n",
    "logistic_model.train(train_feed_input)"
   ]
  },
  {
   "cell_type": "markdown",
   "metadata": {},
   "source": [
    "#### Predictions"
   ]
  },
  {
   "cell_type": "code",
   "execution_count": 61,
   "metadata": {},
   "outputs": [],
   "source": [
    "train_pred = logistic_model.predict(train_feed_input_testing)\n",
    "test_pred = logistic_model.predict(test_feed_input)\n",
    "\n",
    "# Create df with dates / predictions / targets / correct(0 or 1)\n",
    "df_train_pred = summarise_results(pd.DataFrame([p['classes'][0].decode(\"utf-8\") for p in train_pred]),train_Y,train_dates)\n",
    "df_test_pred  = summarise_results(pd.DataFrame([p['classes'][0].decode(\"utf-8\") for p in test_pred]), test_Y, test_dates)"
   ]
  },
  {
   "cell_type": "code",
   "execution_count": 62,
   "metadata": {},
   "outputs": [
    {
     "name": "stdout",
     "output_type": "stream",
     "text": [
      "INFO:tensorflow:Calling model_fn.\n",
      "INFO:tensorflow:Done calling model_fn.\n",
      "INFO:tensorflow:Graph was finalized.\n",
      "INFO:tensorflow:Restoring parameters from C:\\Users\\09ale\\AppData\\Local\\Temp\\tmpu3n9vt_r\\model.ckpt-1920\n",
      "INFO:tensorflow:Running local_init_op.\n",
      "INFO:tensorflow:Done running local_init_op.\n"
     ]
    }
   ],
   "source": [
    "# df_train_pred = pd.DataFrame(train_pred_series, columns=['predictions'])\n",
    "# df_test_pred = pd.DataFrame(test_pred_series, columns=['predictions'])\n",
    "\n",
    "#training_labels.reset_index(drop=True, inplace=True)\n",
    "# df_train_pred.reset_index(drop=True, inplace=True)\n",
    "# test_labels.reset_index(drop=True, inplace=True)\n",
    "# test_predictions_df.reset_index(drop=True, inplace=True)\n",
    "# train_results = pd.concat([train_Y, df_train_pred], axis=1)\n",
    "# test_results = pd.concat([test_Y,df_test_pred], axis=1)"
   ]
  },
  {
   "cell_type": "markdown",
   "metadata": {},
   "source": [
    "#### Validation"
   ]
  },
  {
   "cell_type": "code",
   "execution_count": null,
   "metadata": {},
   "outputs": [],
   "source": [
    "# training data statistics \n",
    "binary_model_statistics(train_Y, train_pred)"
   ]
  },
  {
   "cell_type": "code",
   "execution_count": null,
   "metadata": {},
   "outputs": [],
   "source": [
    "# test data statistics \n",
    "binary_model_statistics(test_Y, test_pred)"
   ]
  },
  {
   "cell_type": "code",
   "execution_count": null,
   "metadata": {},
   "outputs": [],
   "source": [
    "################# FIX THE ABOVE USING THE BELOW TO GET RESULTS AND SAVE TO SQL ################"
   ]
  },
  {
   "cell_type": "code",
   "execution_count": 70,
   "metadata": {},
   "outputs": [],
   "source": [
    "predictions = model.predict(test_X)\n",
    "probabilities = pd.DataFrame(np.round(model.predict_proba(test_X)*100,2), columns =[\"% Buy\",\"% Sell\"])\n",
    "df_LogR = summarise_results(test_Y['0'], predictions,probabilities,test_dates) # must be an array of values\n",
    "binary_model_statistics(test_Y, predictions) # performance statistics "
   ]
  },
  {
   "cell_type": "code",
   "execution_count": null,
   "metadata": {},
   "outputs": [],
   "source": [
    "conn = sql.connect('FX_data/database.db')\n",
    "cur = conn.cursor()\n",
    "df_LogR.to_sql(\"logisticR\", conn, if_exists=\"replace\",index=True)\n",
    "conn.close()"
   ]
  },
  {
   "cell_type": "markdown",
   "metadata": {},
   "source": [
    "\n",
    "=====================================   END   ==============================================="
   ]
  },
  {
   "cell_type": "code",
   "execution_count": null,
   "metadata": {},
   "outputs": [],
   "source": []
  },
  {
   "cell_type": "code",
   "execution_count": null,
   "metadata": {},
   "outputs": [],
   "source": []
  }
 ],
 "metadata": {
  "kernelspec": {
   "display_name": "Python 3",
   "language": "python",
   "name": "python3"
  },
  "language_info": {
   "codemirror_mode": {
    "name": "ipython",
    "version": 3
   },
   "file_extension": ".py",
   "mimetype": "text/x-python",
   "name": "python",
   "nbconvert_exporter": "python",
   "pygments_lexer": "ipython3",
   "version": "3.7.4"
  }
 },
 "nbformat": 4,
 "nbformat_minor": 2
}
