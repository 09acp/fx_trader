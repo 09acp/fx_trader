{
 "cells": [
  {
   "cell_type": "markdown",
   "metadata": {},
   "source": [
    "# Visual Assesment of Predictions \n",
    "**CNN_S3_GAF** (Best performing trader)\n",
    "\n",
    "***RUN LAST SECTION BY LOADING DATA***\n",
    "\n",
    "- PCA features \n",
    "- 2d t-SNE them\n",
    "- encode misclassified samples\n",
    "- append Returns, Predicted probabilities, predictions, labels, date to df.\n",
    "- __apply K-Means to create groups__\n",
    "- Visualize as a 3D Scatter plot\n",
    "- Create Dash App \n",
    "\n",
    "__Key__\n",
    "- x -> misclassified \n",
    "- o -> correct \n",
    "- colour -> B/S/N probabilities predicted \n",
    "- 3rd axis -> returns \n"
   ]
  },
  {
   "cell_type": "code",
   "execution_count": 4,
   "metadata": {},
   "outputs": [],
   "source": [
    "import pandas as pd \n",
    "import numpy as np\n",
    "import matplotlib.pyplot as plt\n",
    "import pickle\n",
    "import sqlite3 as sql\n",
    "\n",
    "# PCA\n",
    "from statsmodels.multivariate.pca import PCA\n",
    "from tqdm import tqdm_notebook\n",
    "\n",
    "# VISUALIZATIONS\n",
    "import matplotlib as plt\n",
    "import plotly.express as px\n",
    "\n"
   ]
  },
  {
   "cell_type": "markdown",
   "metadata": {},
   "source": [
    "## Final DF. \n",
    "Load df from trader\n",
    "\n",
    "Append pca, t-SNE, cluster groups \n",
    "- [x] predictions \n",
    "- [x] labels \n",
    "- [x] probabilities \n",
    "- [x] trading log\n",
    "- [x] incorrect predictions\n",
    "- [x] price series\n",
    "- [ ] pca components \n",
    "- [ ] t-SNE groups \n",
    "- [ ] cluster groups"
   ]
  },
  {
   "cell_type": "code",
   "execution_count": 5,
   "metadata": {},
   "outputs": [],
   "source": [
    "conn = sql.connect('FX_data/database.db')\n",
    "cur = conn.cursor()\n",
    "df = pd.read_sql_query(\"SELECT * FROM trade_log_LogisticRegression \",conn)\n",
    "df['Close'] = df['Price'] # duplibate for trader.One of the features will be scaled. \n",
    "df['Prob Buy'] = df['% Buy'] # duplibate for trader.One of the features will be scaled. \n",
    "df['Prob Sell'] = df['% Sell'] # duplibate for trader.One of the features will be scaled. \n",
    "df['Date'] = pd.to_datetime(df['Date'])\n",
    "df.set_index(['Date'],inplace=True)\n",
    "conn.close()\n"
   ]
  },
  {
   "cell_type": "code",
   "execution_count": 6,
   "metadata": {},
   "outputs": [
    {
     "data": {
      "text/html": [
       "<div>\n",
       "<style scoped>\n",
       "    .dataframe tbody tr th:only-of-type {\n",
       "        vertical-align: middle;\n",
       "    }\n",
       "\n",
       "    .dataframe tbody tr th {\n",
       "        vertical-align: top;\n",
       "    }\n",
       "\n",
       "    .dataframe thead th {\n",
       "        text-align: right;\n",
       "    }\n",
       "</style>\n",
       "<table border=\"1\" class=\"dataframe\">\n",
       "  <thead>\n",
       "    <tr style=\"text-align: right;\">\n",
       "      <th></th>\n",
       "      <th>Target</th>\n",
       "      <th>Prediction</th>\n",
       "      <th>Correct</th>\n",
       "      <th>% Sell</th>\n",
       "      <th>% Buy</th>\n",
       "      <th>Price</th>\n",
       "      <th>Open</th>\n",
       "      <th>High</th>\n",
       "      <th>Low</th>\n",
       "      <th>Close</th>\n",
       "      <th>Prob Buy</th>\n",
       "      <th>Prob Sell</th>\n",
       "      <th>Balance</th>\n",
       "      <th>Profit</th>\n",
       "    </tr>\n",
       "    <tr>\n",
       "      <th>Date</th>\n",
       "      <th></th>\n",
       "      <th></th>\n",
       "      <th></th>\n",
       "      <th></th>\n",
       "      <th></th>\n",
       "      <th></th>\n",
       "      <th></th>\n",
       "      <th></th>\n",
       "      <th></th>\n",
       "      <th></th>\n",
       "      <th></th>\n",
       "      <th></th>\n",
       "      <th></th>\n",
       "      <th></th>\n",
       "    </tr>\n",
       "  </thead>\n",
       "  <tbody>\n",
       "    <tr>\n",
       "      <td>2004-03-01</td>\n",
       "      <td>0</td>\n",
       "      <td>1</td>\n",
       "      <td>0</td>\n",
       "      <td>37.25</td>\n",
       "      <td>62.75</td>\n",
       "      <td>0.8034</td>\n",
       "      <td>0.8003</td>\n",
       "      <td>0.8048</td>\n",
       "      <td>0.7971</td>\n",
       "      <td>0.8034</td>\n",
       "      <td>62.75</td>\n",
       "      <td>37.25</td>\n",
       "      <td>9903.846154</td>\n",
       "      <td>-96.153846</td>\n",
       "    </tr>\n",
       "    <tr>\n",
       "      <td>2004-03-02</td>\n",
       "      <td>0</td>\n",
       "      <td>0</td>\n",
       "      <td>1</td>\n",
       "      <td>51.20</td>\n",
       "      <td>48.80</td>\n",
       "      <td>0.8184</td>\n",
       "      <td>0.8021</td>\n",
       "      <td>0.8201</td>\n",
       "      <td>0.8017</td>\n",
       "      <td>0.8184</td>\n",
       "      <td>48.80</td>\n",
       "      <td>51.20</td>\n",
       "      <td>9907.401872</td>\n",
       "      <td>3.555718</td>\n",
       "    </tr>\n",
       "  </tbody>\n",
       "</table>\n",
       "</div>"
      ],
      "text/plain": [
       "            Target  Prediction  Correct  % Sell  % Buy   Price    Open  \\\n",
       "Date                                                                     \n",
       "2004-03-01       0           1        0   37.25  62.75  0.8034  0.8003   \n",
       "2004-03-02       0           0        1   51.20  48.80  0.8184  0.8021   \n",
       "\n",
       "              High     Low   Close  Prob Buy  Prob Sell      Balance  \\\n",
       "Date                                                                   \n",
       "2004-03-01  0.8048  0.7971  0.8034     62.75      37.25  9903.846154   \n",
       "2004-03-02  0.8201  0.8017  0.8184     48.80      51.20  9907.401872   \n",
       "\n",
       "               Profit  \n",
       "Date                   \n",
       "2004-03-01 -96.153846  \n",
       "2004-03-02   3.555718  "
      ]
     },
     "execution_count": 6,
     "metadata": {},
     "output_type": "execute_result"
    }
   ],
   "source": [
    "df.head(2)"
   ]
  },
  {
   "cell_type": "markdown",
   "metadata": {},
   "source": [
    "#### MinMax input features\n",
    "- use all features [Prediction\t% Buy\t% Sell\tPrice\tOpen\tHigh\tLow]\n",
    "- scale all except categprical (Prediction)"
   ]
  },
  {
   "cell_type": "code",
   "execution_count": 7,
   "metadata": {},
   "outputs": [],
   "source": [
    "features_to_scale = df[['Prob Buy','Prob Sell','Open','High','Low','Close']]"
   ]
  },
  {
   "cell_type": "code",
   "execution_count": 8,
   "metadata": {},
   "outputs": [
    {
     "name": "stdout",
     "output_type": "stream",
     "text": [
      "[97.72   98.24    0.8569  0.8591  0.8524  0.8568]\n"
     ]
    },
    {
     "data": {
      "text/html": [
       "<div>\n",
       "<style scoped>\n",
       "    .dataframe tbody tr th:only-of-type {\n",
       "        vertical-align: middle;\n",
       "    }\n",
       "\n",
       "    .dataframe tbody tr th {\n",
       "        vertical-align: top;\n",
       "    }\n",
       "\n",
       "    .dataframe thead th {\n",
       "        text-align: right;\n",
       "    }\n",
       "</style>\n",
       "<table border=\"1\" class=\"dataframe\">\n",
       "  <thead>\n",
       "    <tr style=\"text-align: right;\">\n",
       "      <th></th>\n",
       "      <th>Target</th>\n",
       "      <th>Prediction</th>\n",
       "      <th>Correct</th>\n",
       "      <th>% Sell</th>\n",
       "      <th>% Buy</th>\n",
       "      <th>Price</th>\n",
       "      <th>Open</th>\n",
       "      <th>High</th>\n",
       "      <th>Low</th>\n",
       "      <th>Close</th>\n",
       "      <th>Prob Buy</th>\n",
       "      <th>Prob Sell</th>\n",
       "      <th>Balance</th>\n",
       "      <th>Profit</th>\n",
       "    </tr>\n",
       "    <tr>\n",
       "      <th>Date</th>\n",
       "      <th></th>\n",
       "      <th></th>\n",
       "      <th></th>\n",
       "      <th></th>\n",
       "      <th></th>\n",
       "      <th></th>\n",
       "      <th></th>\n",
       "      <th></th>\n",
       "      <th></th>\n",
       "      <th></th>\n",
       "      <th></th>\n",
       "      <th></th>\n",
       "      <th></th>\n",
       "      <th></th>\n",
       "    </tr>\n",
       "  </thead>\n",
       "  <tbody>\n",
       "    <tr>\n",
       "      <td>2004-03-01</td>\n",
       "      <td>0</td>\n",
       "      <td>1</td>\n",
       "      <td>0</td>\n",
       "      <td>37.25</td>\n",
       "      <td>62.75</td>\n",
       "      <td>0.8034</td>\n",
       "      <td>0.755824</td>\n",
       "      <td>0.762779</td>\n",
       "      <td>0.758515</td>\n",
       "      <td>0.769330</td>\n",
       "      <td>0.635577</td>\n",
       "      <td>0.364423</td>\n",
       "      <td>9903.846154</td>\n",
       "      <td>-96.153846</td>\n",
       "    </tr>\n",
       "    <tr>\n",
       "      <td>2004-03-02</td>\n",
       "      <td>0</td>\n",
       "      <td>0</td>\n",
       "      <td>1</td>\n",
       "      <td>51.20</td>\n",
       "      <td>48.80</td>\n",
       "      <td>0.8184</td>\n",
       "      <td>0.763589</td>\n",
       "      <td>0.829620</td>\n",
       "      <td>0.778603</td>\n",
       "      <td>0.834125</td>\n",
       "      <td>0.490204</td>\n",
       "      <td>0.509796</td>\n",
       "      <td>9907.401872</td>\n",
       "      <td>3.555718</td>\n",
       "    </tr>\n",
       "  </tbody>\n",
       "</table>\n",
       "</div>"
      ],
      "text/plain": [
       "            Target  Prediction  Correct  % Sell  % Buy   Price      Open  \\\n",
       "Date                                                                       \n",
       "2004-03-01       0           1        0   37.25  62.75  0.8034  0.755824   \n",
       "2004-03-02       0           0        1   51.20  48.80  0.8184  0.763589   \n",
       "\n",
       "                High       Low     Close  Prob Buy  Prob Sell      Balance  \\\n",
       "Date                                                                         \n",
       "2004-03-01  0.762779  0.758515  0.769330  0.635577   0.364423  9903.846154   \n",
       "2004-03-02  0.829620  0.778603  0.834125  0.490204   0.509796  9907.401872   \n",
       "\n",
       "               Profit  \n",
       "Date                   \n",
       "2004-03-01 -96.153846  \n",
       "2004-03-02   3.555718  "
      ]
     },
     "execution_count": 8,
     "metadata": {},
     "output_type": "execute_result"
    }
   ],
   "source": [
    "# Scale continuous independent variables\n",
    "from sklearn.preprocessing import MinMaxScaler\n",
    "scaler = MinMaxScaler()\n",
    "features_scaled = pd.DataFrame(scaler.fit_transform(features_to_scale), columns = features_to_scale.columns)\n",
    "# Replace in df\n",
    "df[['Prob Buy','Prob Sell','Open','High','Low','Close']] = features_scaled.values\n",
    "print(scaler.data_max_)\n",
    "df.head(2)"
   ]
  },
  {
   "cell_type": "code",
   "execution_count": 9,
   "metadata": {},
   "outputs": [
    {
     "data": {
      "text/html": [
       "<div>\n",
       "<style scoped>\n",
       "    .dataframe tbody tr th:only-of-type {\n",
       "        vertical-align: middle;\n",
       "    }\n",
       "\n",
       "    .dataframe tbody tr th {\n",
       "        vertical-align: top;\n",
       "    }\n",
       "\n",
       "    .dataframe thead th {\n",
       "        text-align: right;\n",
       "    }\n",
       "</style>\n",
       "<table border=\"1\" class=\"dataframe\">\n",
       "  <thead>\n",
       "    <tr style=\"text-align: right;\">\n",
       "      <th></th>\n",
       "      <th>Prob Buy</th>\n",
       "      <th>Prob Sell</th>\n",
       "      <th>Open</th>\n",
       "      <th>High</th>\n",
       "      <th>Low</th>\n",
       "      <th>Close</th>\n",
       "    </tr>\n",
       "    <tr>\n",
       "      <th>Date</th>\n",
       "      <th></th>\n",
       "      <th></th>\n",
       "      <th></th>\n",
       "      <th></th>\n",
       "      <th></th>\n",
       "      <th></th>\n",
       "    </tr>\n",
       "  </thead>\n",
       "  <tbody>\n",
       "    <tr>\n",
       "      <td>2009-12-31</td>\n",
       "      <td>0.678303</td>\n",
       "      <td>0.321697</td>\n",
       "      <td>0.311475</td>\n",
       "      <td>0.300568</td>\n",
       "      <td>0.300873</td>\n",
       "      <td>0.316199</td>\n",
       "    </tr>\n",
       "    <tr>\n",
       "      <td>2010-01-01</td>\n",
       "      <td>0.853481</td>\n",
       "      <td>0.146519</td>\n",
       "      <td>0.314495</td>\n",
       "      <td>0.297510</td>\n",
       "      <td>0.324454</td>\n",
       "      <td>0.314471</td>\n",
       "    </tr>\n",
       "  </tbody>\n",
       "</table>\n",
       "</div>"
      ],
      "text/plain": [
       "            Prob Buy  Prob Sell      Open      High       Low     Close\n",
       "Date                                                                   \n",
       "2009-12-31  0.678303   0.321697  0.311475  0.300568  0.300873  0.316199\n",
       "2010-01-01  0.853481   0.146519  0.314495  0.297510  0.324454  0.314471"
      ]
     },
     "execution_count": 9,
     "metadata": {},
     "output_type": "execute_result"
    }
   ],
   "source": [
    "df[['Prob Buy','Prob Sell','Open','High','Low','Close']].tail(2)"
   ]
  },
  {
   "cell_type": "markdown",
   "metadata": {},
   "source": [
    "#### PCA"
   ]
  },
  {
   "cell_type": "code",
   "execution_count": 10,
   "metadata": {},
   "outputs": [
    {
     "data": {
      "image/png": "[encoded data removed]",
      "text/plain": [
       "<Figure size 432x288 with 1 Axes>"
      ]
     },
     "metadata": {
      "needs_background": "light"
     },
     "output_type": "display_data"
    }
   ],
   "source": [
    "pca = PCA(df[['Prob Buy','Prob Sell','Open','High','Low','Close']], ncomp=6 ) \n",
    "\"\"\"\n",
    "Used to determine the number of factors to retain in an exploratory factor analysis \n",
    "or principal components to keep in a principal component analysis\n",
    "\"\"\"\n",
    "pca.plot_scree(6,cumulative=True);"
   ]
  },
  {
   "cell_type": "code",
   "execution_count": 11,
   "metadata": {},
   "outputs": [],
   "source": [
    "pca = PCA(df[['Prob Buy','Prob Sell','Open','High','Low','Close']], ncomp=2 )"
   ]
  },
  {
   "cell_type": "code",
   "execution_count": 12,
   "metadata": {},
   "outputs": [
    {
     "data": {
      "application/vnd.jupyter.widget-view+json": {
       "model_id": "ec0e044dd39b4dfe92bccfa837c8b616",
       "version_major": 2,
       "version_minor": 0
      },
      "text/plain": [
       "HBox(children=(IntProgress(value=0, max=1), HTML(value='')))"
      ]
     },
     "metadata": {},
     "output_type": "display_data"
    },
    {
     "name": "stdout",
     "output_type": "stream",
     "text": [
      "\n",
      "t-SNE completed after 33.700479 seconds\n"
     ]
    }
   ],
   "source": [
    "#df2 = pd.concat([df, pd.DataFrame(pca.scores).iloc[:,:3]],axis=1)\n",
    "\n",
    "from sklearn.manifold import TSNE\n",
    "import time\n",
    "random_state = 100\n",
    "\n",
    "time_start = time.time()\n",
    "for i in tqdm_notebook(range(1, 2)):\n",
    "    df_tsne = TSNE(n_components=2,    # 2 NEW COMPONENTS TO BE CREATED\n",
    "                   random_state=random_state).fit_transform(pca.scores)\n",
    "df_tsne = pd.DataFrame(df_tsne,columns = [\"t-SNE_1\",\"t-SNE_2\"],index=df.index)\n",
    "print ((\"t-SNE completed after %f seconds\")%(time.time()-time_start))"
   ]
  },
  {
   "cell_type": "code",
   "execution_count": 13,
   "metadata": {},
   "outputs": [
    {
     "data": {
      "text/html": [
       "<div>\n",
       "<style scoped>\n",
       "    .dataframe tbody tr th:only-of-type {\n",
       "        vertical-align: middle;\n",
       "    }\n",
       "\n",
       "    .dataframe tbody tr th {\n",
       "        vertical-align: top;\n",
       "    }\n",
       "\n",
       "    .dataframe thead th {\n",
       "        text-align: right;\n",
       "    }\n",
       "</style>\n",
       "<table border=\"1\" class=\"dataframe\">\n",
       "  <thead>\n",
       "    <tr style=\"text-align: right;\">\n",
       "      <th></th>\n",
       "      <th>Target</th>\n",
       "      <th>Prediction</th>\n",
       "      <th>Correct</th>\n",
       "      <th>% Sell</th>\n",
       "      <th>% Buy</th>\n",
       "      <th>Price</th>\n",
       "      <th>Open</th>\n",
       "      <th>High</th>\n",
       "      <th>Low</th>\n",
       "      <th>Close</th>\n",
       "      <th>Prob Buy</th>\n",
       "      <th>Prob Sell</th>\n",
       "      <th>Balance</th>\n",
       "      <th>Profit</th>\n",
       "      <th>comp_0</th>\n",
       "      <th>comp_1</th>\n",
       "      <th>t-SNE_1</th>\n",
       "      <th>t-SNE_2</th>\n",
       "    </tr>\n",
       "    <tr>\n",
       "      <th>Date</th>\n",
       "      <th></th>\n",
       "      <th></th>\n",
       "      <th></th>\n",
       "      <th></th>\n",
       "      <th></th>\n",
       "      <th></th>\n",
       "      <th></th>\n",
       "      <th></th>\n",
       "      <th></th>\n",
       "      <th></th>\n",
       "      <th></th>\n",
       "      <th></th>\n",
       "      <th></th>\n",
       "      <th></th>\n",
       "      <th></th>\n",
       "      <th></th>\n",
       "      <th></th>\n",
       "      <th></th>\n",
       "    </tr>\n",
       "  </thead>\n",
       "  <tbody>\n",
       "    <tr>\n",
       "      <td>2004-03-01</td>\n",
       "      <td>0</td>\n",
       "      <td>1</td>\n",
       "      <td>0</td>\n",
       "      <td>37.25</td>\n",
       "      <td>62.75</td>\n",
       "      <td>0.8034</td>\n",
       "      <td>0.755824</td>\n",
       "      <td>0.762779</td>\n",
       "      <td>0.758515</td>\n",
       "      <td>0.769330</td>\n",
       "      <td>0.635577</td>\n",
       "      <td>0.364423</td>\n",
       "      <td>9903.846154</td>\n",
       "      <td>-96.153846</td>\n",
       "      <td>-0.019401</td>\n",
       "      <td>0.017532</td>\n",
       "      <td>22.393435</td>\n",
       "      <td>-12.548299</td>\n",
       "    </tr>\n",
       "    <tr>\n",
       "      <td>2004-03-02</td>\n",
       "      <td>0</td>\n",
       "      <td>0</td>\n",
       "      <td>1</td>\n",
       "      <td>51.20</td>\n",
       "      <td>48.80</td>\n",
       "      <td>0.8184</td>\n",
       "      <td>0.763589</td>\n",
       "      <td>0.829620</td>\n",
       "      <td>0.778603</td>\n",
       "      <td>0.834125</td>\n",
       "      <td>0.490204</td>\n",
       "      <td>0.509796</td>\n",
       "      <td>9907.401872</td>\n",
       "      <td>3.555718</td>\n",
       "      <td>-0.023871</td>\n",
       "      <td>-0.001502</td>\n",
       "      <td>8.196338</td>\n",
       "      <td>-28.824339</td>\n",
       "    </tr>\n",
       "    <tr>\n",
       "      <td>2004-03-03</td>\n",
       "      <td>0</td>\n",
       "      <td>1</td>\n",
       "      <td>0</td>\n",
       "      <td>22.13</td>\n",
       "      <td>77.87</td>\n",
       "      <td>0.8190</td>\n",
       "      <td>0.833477</td>\n",
       "      <td>0.870249</td>\n",
       "      <td>0.848908</td>\n",
       "      <td>0.836717</td>\n",
       "      <td>0.793143</td>\n",
       "      <td>0.206857</td>\n",
       "      <td>9901.113716</td>\n",
       "      <td>-6.288156</td>\n",
       "      <td>-0.027337</td>\n",
       "      <td>0.038859</td>\n",
       "      <td>39.148609</td>\n",
       "      <td>-18.610426</td>\n",
       "    </tr>\n",
       "  </tbody>\n",
       "</table>\n",
       "</div>"
      ],
      "text/plain": [
       "            Target  Prediction  Correct  % Sell  % Buy   Price      Open  \\\n",
       "Date                                                                       \n",
       "2004-03-01       0           1        0   37.25  62.75  0.8034  0.755824   \n",
       "2004-03-02       0           0        1   51.20  48.80  0.8184  0.763589   \n",
       "2004-03-03       0           1        0   22.13  77.87  0.8190  0.833477   \n",
       "\n",
       "                High       Low     Close  Prob Buy  Prob Sell      Balance  \\\n",
       "Date                                                                         \n",
       "2004-03-01  0.762779  0.758515  0.769330  0.635577   0.364423  9903.846154   \n",
       "2004-03-02  0.829620  0.778603  0.834125  0.490204   0.509796  9907.401872   \n",
       "2004-03-03  0.870249  0.848908  0.836717  0.793143   0.206857  9901.113716   \n",
       "\n",
       "               Profit    comp_0    comp_1    t-SNE_1    t-SNE_2  \n",
       "Date                                                             \n",
       "2004-03-01 -96.153846 -0.019401  0.017532  22.393435 -12.548299  \n",
       "2004-03-02   3.555718 -0.023871 -0.001502   8.196338 -28.824339  \n",
       "2004-03-03  -6.288156 -0.027337  0.038859  39.148609 -18.610426  "
      ]
     },
     "execution_count": 13,
     "metadata": {},
     "output_type": "execute_result"
    }
   ],
   "source": [
    "#### Combine PCA and t-SNE features\n",
    "df = pd.concat([df,pca.scores,df_tsne],axis=1)\n",
    "df.head(3)"
   ]
  },
  {
   "cell_type": "markdown",
   "metadata": {},
   "source": [
    "#### Apply K-means on PCA ouputs \n",
    "- Should not apply K-means to t-SNE outputs directly, because [algo preserves no distance nor density](https://stats.stackexchange.com/questions/263539/clustering-on-the-output-of-t-sne).\n",
    "- These groups may not be accurate when visualized with tSNE"
   ]
  },
  {
   "cell_type": "code",
   "execution_count": 14,
   "metadata": {},
   "outputs": [
    {
     "data": {
      "application/vnd.jupyter.widget-view+json": {
       "model_id": "d17857ab20fb44899117862d50460c28",
       "version_major": 2,
       "version_minor": 0
      },
      "text/plain": [
       "HBox(children=(IntProgress(value=0, max=14), HTML(value='')))"
      ]
     },
     "metadata": {},
     "output_type": "display_data"
    },
    {
     "name": "stdout",
     "output_type": "stream",
     "text": [
      "\n"
     ]
    }
   ],
   "source": [
    "from sklearn.cluster import KMeans, AgglomerativeClustering, SpectralClustering\n",
    "\n",
    "# Calculating the sum of squared distances from each point \n",
    "# to its assigned center(distortions).\n",
    "inertia = []\n",
    "for k in tqdm_notebook(range(1, 15)): # Just 3 classes, but try up to 15\n",
    "    kmeans = KMeans(n_clusters=k, n_init=100, \n",
    "                    random_state=random_state, n_jobs=1).fit(pca.scores)\n",
    "    inertia.append(np.sqrt(kmeans.inertia_))\n",
    "    \n",
    " "
   ]
  },
  {
   "cell_type": "code",
   "execution_count": 15,
   "metadata": {},
   "outputs": [
    {
     "data": {
      "text/plain": [
       "Text(0.5, 1.0, 'The Elbow Method showing the optimal k')"
      ]
     },
     "execution_count": 15,
     "metadata": {},
     "output_type": "execute_result"
    },
    {
     "data": {
      "image/png": "[encoded data removed]",
      "text/plain": [
       "<Figure size 1152x576 with 1 Axes>"
      ]
     },
     "metadata": {
      "needs_background": "light"
     },
     "output_type": "display_data"
    }
   ],
   "source": [
    "import matplotlib.pyplot as plt\n",
    "# Elbow plot\n",
    "plt.figure(figsize=(16,8))\n",
    "plt.plot(range(1, 15), inertia, marker='s');\n",
    "plt.xlabel('K clusters')\n",
    "plt.ylabel('Distortion')\n",
    "plt.title('The Elbow Method showing the optimal k')   "
   ]
  },
  {
   "cell_type": "code",
   "execution_count": 16,
   "metadata": {},
   "outputs": [],
   "source": [
    "# From \n",
    "optimal_no_cluster =10  # Subjective --> want to enough subgroups to differentiate behaviour, but large enough to trade"
   ]
  },
  {
   "cell_type": "markdown",
   "metadata": {},
   "source": [
    "##### Run K-mean with optimal cluster count "
   ]
  },
  {
   "cell_type": "code",
   "execution_count": 17,
   "metadata": {},
   "outputs": [
    {
     "data": {
      "text/html": [
       "<div>\n",
       "<style scoped>\n",
       "    .dataframe tbody tr th:only-of-type {\n",
       "        vertical-align: middle;\n",
       "    }\n",
       "\n",
       "    .dataframe tbody tr th {\n",
       "        vertical-align: top;\n",
       "    }\n",
       "\n",
       "    .dataframe thead th {\n",
       "        text-align: right;\n",
       "    }\n",
       "</style>\n",
       "<table border=\"1\" class=\"dataframe\">\n",
       "  <thead>\n",
       "    <tr style=\"text-align: right;\">\n",
       "      <th></th>\n",
       "      <th>Target</th>\n",
       "      <th>Prediction</th>\n",
       "      <th>Correct</th>\n",
       "      <th>% Sell</th>\n",
       "      <th>% Buy</th>\n",
       "      <th>Price</th>\n",
       "      <th>Open</th>\n",
       "      <th>High</th>\n",
       "      <th>Low</th>\n",
       "      <th>Close</th>\n",
       "      <th>Prob Buy</th>\n",
       "      <th>Prob Sell</th>\n",
       "      <th>Balance</th>\n",
       "      <th>Profit</th>\n",
       "      <th>comp_0</th>\n",
       "      <th>comp_1</th>\n",
       "      <th>t-SNE_1</th>\n",
       "      <th>t-SNE_2</th>\n",
       "      <th>Cluster</th>\n",
       "    </tr>\n",
       "    <tr>\n",
       "      <th>Date</th>\n",
       "      <th></th>\n",
       "      <th></th>\n",
       "      <th></th>\n",
       "      <th></th>\n",
       "      <th></th>\n",
       "      <th></th>\n",
       "      <th></th>\n",
       "      <th></th>\n",
       "      <th></th>\n",
       "      <th></th>\n",
       "      <th></th>\n",
       "      <th></th>\n",
       "      <th></th>\n",
       "      <th></th>\n",
       "      <th></th>\n",
       "      <th></th>\n",
       "      <th></th>\n",
       "      <th></th>\n",
       "      <th></th>\n",
       "    </tr>\n",
       "  </thead>\n",
       "  <tbody>\n",
       "    <tr>\n",
       "      <td>2004-03-01</td>\n",
       "      <td>0</td>\n",
       "      <td>1</td>\n",
       "      <td>0</td>\n",
       "      <td>37.25</td>\n",
       "      <td>62.75</td>\n",
       "      <td>0.8034</td>\n",
       "      <td>0.755824</td>\n",
       "      <td>0.762779</td>\n",
       "      <td>0.758515</td>\n",
       "      <td>0.769330</td>\n",
       "      <td>0.635577</td>\n",
       "      <td>0.364423</td>\n",
       "      <td>9903.846154</td>\n",
       "      <td>-96.153846</td>\n",
       "      <td>-0.019401</td>\n",
       "      <td>0.017532</td>\n",
       "      <td>22.393435</td>\n",
       "      <td>-12.548299</td>\n",
       "      <td>5</td>\n",
       "    </tr>\n",
       "    <tr>\n",
       "      <td>2004-03-02</td>\n",
       "      <td>0</td>\n",
       "      <td>0</td>\n",
       "      <td>1</td>\n",
       "      <td>51.20</td>\n",
       "      <td>48.80</td>\n",
       "      <td>0.8184</td>\n",
       "      <td>0.763589</td>\n",
       "      <td>0.829620</td>\n",
       "      <td>0.778603</td>\n",
       "      <td>0.834125</td>\n",
       "      <td>0.490204</td>\n",
       "      <td>0.509796</td>\n",
       "      <td>9907.401872</td>\n",
       "      <td>3.555718</td>\n",
       "      <td>-0.023871</td>\n",
       "      <td>-0.001502</td>\n",
       "      <td>8.196338</td>\n",
       "      <td>-28.824339</td>\n",
       "      <td>5</td>\n",
       "    </tr>\n",
       "  </tbody>\n",
       "</table>\n",
       "</div>"
      ],
      "text/plain": [
       "            Target  Prediction  Correct  % Sell  % Buy   Price      Open  \\\n",
       "Date                                                                       \n",
       "2004-03-01       0           1        0   37.25  62.75  0.8034  0.755824   \n",
       "2004-03-02       0           0        1   51.20  48.80  0.8184  0.763589   \n",
       "\n",
       "                High       Low     Close  Prob Buy  Prob Sell      Balance  \\\n",
       "Date                                                                         \n",
       "2004-03-01  0.762779  0.758515  0.769330  0.635577   0.364423  9903.846154   \n",
       "2004-03-02  0.829620  0.778603  0.834125  0.490204   0.509796  9907.401872   \n",
       "\n",
       "               Profit    comp_0    comp_1    t-SNE_1    t-SNE_2  Cluster  \n",
       "Date                                                                      \n",
       "2004-03-01 -96.153846 -0.019401  0.017532  22.393435 -12.548299        5  \n",
       "2004-03-02   3.555718 -0.023871 -0.001502   8.196338 -28.824339        5  "
      ]
     },
     "execution_count": 17,
     "metadata": {},
     "output_type": "execute_result"
    }
   ],
   "source": [
    "kmeans = KMeans(n_clusters= optimal_no_cluster, \n",
    "                n_init=100, \n",
    "                random_state=random_state, \n",
    "                n_jobs=1)\n",
    "kmeans.fit(pca.scores)\n",
    "\n",
    "# Append clusters to df \n",
    "df['Cluster'] =kmeans.labels_\n",
    "df.head(2)"
   ]
  },
  {
   "cell_type": "markdown",
   "metadata": {},
   "source": [
    "#### Save Data "
   ]
  },
  {
   "cell_type": "code",
   "execution_count": 18,
   "metadata": {},
   "outputs": [
    {
     "name": "stderr",
     "output_type": "stream",
     "text": [
      "C:\\Users\\09ale\\Anaconda3\\lib\\site-packages\\pandas\\core\\generic.py:2712: UserWarning:\n",
      "\n",
      "The spaces in these column names will not be changed. In pandas versions < 0.14, spaces were converted to underscores.\n",
      "\n"
     ]
    }
   ],
   "source": [
    "df['Confidence %'] = df[['% Buy','% Sell']].max(axis=1)\n",
    "\n",
    "conn = sql.connect('FX_data/database.db')\n",
    "cur = conn.cursor()\n",
    "df.to_sql(\"eda_data_LR\",conn,if_exists='replace')\n",
    "conn.close()"
   ]
  },
  {
   "cell_type": "markdown",
   "metadata": {},
   "source": [
    "## 3d Scatter plot"
   ]
  },
  {
   "cell_type": "code",
   "execution_count": 19,
   "metadata": {},
   "outputs": [
    {
     "data": {
      "text/html": [
       "<div>\n",
       "<style scoped>\n",
       "    .dataframe tbody tr th:only-of-type {\n",
       "        vertical-align: middle;\n",
       "    }\n",
       "\n",
       "    .dataframe tbody tr th {\n",
       "        vertical-align: top;\n",
       "    }\n",
       "\n",
       "    .dataframe thead th {\n",
       "        text-align: right;\n",
       "    }\n",
       "</style>\n",
       "<table border=\"1\" class=\"dataframe\">\n",
       "  <thead>\n",
       "    <tr style=\"text-align: right;\">\n",
       "      <th></th>\n",
       "      <th>Target</th>\n",
       "      <th>Prediction</th>\n",
       "      <th>Correct</th>\n",
       "      <th>% Sell</th>\n",
       "      <th>% Buy</th>\n",
       "      <th>Price</th>\n",
       "      <th>Open</th>\n",
       "      <th>High</th>\n",
       "      <th>Low</th>\n",
       "      <th>Close</th>\n",
       "      <th>Prob Buy</th>\n",
       "      <th>Prob Sell</th>\n",
       "      <th>Balance</th>\n",
       "      <th>Profit</th>\n",
       "      <th>comp_0</th>\n",
       "      <th>comp_1</th>\n",
       "      <th>t-SNE_1</th>\n",
       "      <th>t-SNE_2</th>\n",
       "      <th>Cluster</th>\n",
       "      <th>Confidence %</th>\n",
       "    </tr>\n",
       "    <tr>\n",
       "      <th>Date</th>\n",
       "      <th></th>\n",
       "      <th></th>\n",
       "      <th></th>\n",
       "      <th></th>\n",
       "      <th></th>\n",
       "      <th></th>\n",
       "      <th></th>\n",
       "      <th></th>\n",
       "      <th></th>\n",
       "      <th></th>\n",
       "      <th></th>\n",
       "      <th></th>\n",
       "      <th></th>\n",
       "      <th></th>\n",
       "      <th></th>\n",
       "      <th></th>\n",
       "      <th></th>\n",
       "      <th></th>\n",
       "      <th></th>\n",
       "      <th></th>\n",
       "    </tr>\n",
       "  </thead>\n",
       "  <tbody>\n",
       "    <tr>\n",
       "      <td>2004-03-01</td>\n",
       "      <td>0</td>\n",
       "      <td>1</td>\n",
       "      <td>0</td>\n",
       "      <td>37.25</td>\n",
       "      <td>62.75</td>\n",
       "      <td>0.8034</td>\n",
       "      <td>0.755824</td>\n",
       "      <td>0.762779</td>\n",
       "      <td>0.758515</td>\n",
       "      <td>0.769330</td>\n",
       "      <td>0.635577</td>\n",
       "      <td>0.364423</td>\n",
       "      <td>9903.846154</td>\n",
       "      <td>-96.153846</td>\n",
       "      <td>-0.019401</td>\n",
       "      <td>0.017532</td>\n",
       "      <td>22.393435</td>\n",
       "      <td>-12.548299</td>\n",
       "      <td>5</td>\n",
       "      <td>62.75</td>\n",
       "    </tr>\n",
       "    <tr>\n",
       "      <td>2004-03-02</td>\n",
       "      <td>0</td>\n",
       "      <td>0</td>\n",
       "      <td>1</td>\n",
       "      <td>51.20</td>\n",
       "      <td>48.80</td>\n",
       "      <td>0.8184</td>\n",
       "      <td>0.763589</td>\n",
       "      <td>0.829620</td>\n",
       "      <td>0.778603</td>\n",
       "      <td>0.834125</td>\n",
       "      <td>0.490204</td>\n",
       "      <td>0.509796</td>\n",
       "      <td>9907.401872</td>\n",
       "      <td>3.555718</td>\n",
       "      <td>-0.023871</td>\n",
       "      <td>-0.001502</td>\n",
       "      <td>8.196338</td>\n",
       "      <td>-28.824339</td>\n",
       "      <td>5</td>\n",
       "      <td>51.20</td>\n",
       "    </tr>\n",
       "  </tbody>\n",
       "</table>\n",
       "</div>"
      ],
      "text/plain": [
       "            Target  Prediction  Correct  % Sell  % Buy   Price      Open  \\\n",
       "Date                                                                       \n",
       "2004-03-01       0           1        0   37.25  62.75  0.8034  0.755824   \n",
       "2004-03-02       0           0        1   51.20  48.80  0.8184  0.763589   \n",
       "\n",
       "                High       Low     Close  Prob Buy  Prob Sell      Balance  \\\n",
       "Date                                                                         \n",
       "2004-03-01  0.762779  0.758515  0.769330  0.635577   0.364423  9903.846154   \n",
       "2004-03-02  0.829620  0.778603  0.834125  0.490204   0.509796  9907.401872   \n",
       "\n",
       "               Profit    comp_0    comp_1    t-SNE_1    t-SNE_2  Cluster  \\\n",
       "Date                                                                       \n",
       "2004-03-01 -96.153846 -0.019401  0.017532  22.393435 -12.548299        5   \n",
       "2004-03-02   3.555718 -0.023871 -0.001502   8.196338 -28.824339        5   \n",
       "\n",
       "            Confidence %  \n",
       "Date                      \n",
       "2004-03-01         62.75  \n",
       "2004-03-02         51.20  "
      ]
     },
     "execution_count": 19,
     "metadata": {},
     "output_type": "execute_result"
    }
   ],
   "source": [
    "conn = sql.connect('FX_data/database.db')\n",
    "cur = conn.cursor()\n",
    "df = pd.read_sql_query(\"SELECT * FROM eda_data_LR \",conn)\n",
    "df['Date'] = pd.to_datetime(df['Date'])\n",
    "df.set_index(['Date'],inplace=True)\n",
    "conn.close()\n",
    "\n",
    "df.head(2)"
   ]
  },
  {
   "cell_type": "markdown",
   "metadata": {},
   "source": [
    "#### PCA Vizualization of trades"
   ]
  },
  {
   "cell_type": "code",
   "execution_count": null,
   "metadata": {},
   "outputs": [],
   "source": [
    "fig = px.scatter_3d(df, # .astype(str) makes the colour map discrete\n",
    "                         x='comp_0',#\"t-SNE_1\", \n",
    "                         y='comp_1',#\"t-SNE_2\",\n",
    "                         z=\"Profit\", \n",
    "                         color=\"Confidence %\",\n",
    "                         color_continuous_scale='Inferno',\n",
    "#                              size = 'variable',   #size='petal_length', hover_data=['petal_width'])\n",
    "#                              size_max = 10,\n",
    "                         hover_name= \"Correct\",\n",
    "                         #text = df2['Predictions'],df2['Correct'],df2['Date'],\n",
    "                         hover_data = ['Profit','Cluster','Confidence %'],   #pd.DataFrame(pca.projection), #, 'mean texture', 'mean perimeter', \n",
    "                                         #'mean area','mean smoothness']],\n",
    "                         title = \" 2 Main PCs \",\n",
    "#                          width = 1000,\n",
    "#                          height = 1000,\n",
    "                        )\n",
    "fig.write_image(\"images/PCA_draft.png\") # $ conda install -c plotly plotly-orca psutil requests\n",
    "fig.show()"
   ]
  },
  {
   "cell_type": "markdown",
   "metadata": {},
   "source": [
    "#### t-SNE visualisation of trades"
   ]
  },
  {
   "cell_type": "code",
   "execution_count": null,
   "metadata": {},
   "outputs": [],
   "source": [
    "fig = px.scatter_3d(df, # .astype(str) makes the colour map discrete\n",
    "                         x= \"t-SNE_1\", \n",
    "                         y= \"t-SNE_2\",\n",
    "                         z=\"Profit\", \n",
    "                         color=\"Confidence %\",\n",
    "                         color_continuous_scale='Inferno',\n",
    "#                              size = 'variable',   #size='petal_length', hover_data=['petal_width'])\n",
    "#                              size_max = 10,\n",
    "                         hover_name= \"Correct\",\n",
    "                         #text = df2['Predictions'],df2['Correct'],df2['Date'],\n",
    "                         hover_data = ['Profit','Cluster','Confidence %'],   #pd.DataFrame(pca.projection), #, 'mean texture', 'mean perimeter', \n",
    "                                         #'mean area','mean smoothness']],\n",
    "                         title = \" 2 Main t-SNE Components \",\n",
    "#                          width = 1000,\n",
    "#                          height = 1000,\n",
    "                        )\n",
    "fig.write_image(\"images/tSNE_draft.png\") # $ conda install -c plotly plotly-orca psutil requests         \n",
    "fig.show()"
   ]
  },
  {
   "cell_type": "markdown",
   "metadata": {},
   "source": [
    "======================================   END  ========================================"
   ]
  },
  {
   "cell_type": "code",
   "execution_count": null,
   "metadata": {},
   "outputs": [],
   "source": []
  }
 ],
 "metadata": {
  "kernelspec": {
   "display_name": "Python 3",
   "language": "python",
   "name": "python3"
  },
  "language_info": {
   "codemirror_mode": {
    "name": "ipython",
    "version": 3
   },
   "file_extension": ".py",
   "mimetype": "text/x-python",
   "name": "python",
   "nbconvert_exporter": "python",
   "pygments_lexer": "ipython3",
   "version": "3.7.4"
  }
 },
 "nbformat": 4,
 "nbformat_minor": 2
}
