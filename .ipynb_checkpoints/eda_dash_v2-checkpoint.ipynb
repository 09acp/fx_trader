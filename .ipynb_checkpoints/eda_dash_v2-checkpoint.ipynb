{
 "cells": [
  {
   "cell_type": "markdown",
   "metadata": {},
   "source": [
    "# Test hybrid trading on unseen data for 2010\n",
    "- forecasted action\n",
    "- forecasted cluster"
   ]
  },
  {
   "cell_type": "code",
   "execution_count": 1,
   "metadata": {},
   "outputs": [
    {
     "data": {
      "text/html": [
       "<div>\n",
       "<style scoped>\n",
       "    .dataframe tbody tr th:only-of-type {\n",
       "        vertical-align: middle;\n",
       "    }\n",
       "\n",
       "    .dataframe tbody tr th {\n",
       "        vertical-align: top;\n",
       "    }\n",
       "\n",
       "    .dataframe thead th {\n",
       "        text-align: right;\n",
       "    }\n",
       "</style>\n",
       "<table border=\"1\" class=\"dataframe\">\n",
       "  <thead>\n",
       "    <tr style=\"text-align: right;\">\n",
       "      <th></th>\n",
       "      <th>Price</th>\n",
       "      <th>Open</th>\n",
       "      <th>High</th>\n",
       "      <th>Low</th>\n",
       "      <th>Target</th>\n",
       "      <th>Prediction</th>\n",
       "      <th>Correct</th>\n",
       "      <th>% Sell</th>\n",
       "      <th>% Buy</th>\n",
       "      <th>Close</th>\n",
       "      <th>Prob Buy</th>\n",
       "      <th>Prob Sell</th>\n",
       "      <th>comp_0</th>\n",
       "      <th>comp_1</th>\n",
       "      <th>t-SNE_1</th>\n",
       "      <th>t-SNE_2</th>\n",
       "      <th>Cluster</th>\n",
       "      <th>Confidence %</th>\n",
       "    </tr>\n",
       "    <tr>\n",
       "      <th>Date</th>\n",
       "      <th></th>\n",
       "      <th></th>\n",
       "      <th></th>\n",
       "      <th></th>\n",
       "      <th></th>\n",
       "      <th></th>\n",
       "      <th></th>\n",
       "      <th></th>\n",
       "      <th></th>\n",
       "      <th></th>\n",
       "      <th></th>\n",
       "      <th></th>\n",
       "      <th></th>\n",
       "      <th></th>\n",
       "      <th></th>\n",
       "      <th></th>\n",
       "      <th></th>\n",
       "      <th></th>\n",
       "    </tr>\n",
       "  </thead>\n",
       "  <tbody>\n",
       "    <tr>\n",
       "      <td>2010-02-05</td>\n",
       "      <td>1.3664</td>\n",
       "      <td>0.733982</td>\n",
       "      <td>0.724721</td>\n",
       "      <td>0.695688</td>\n",
       "      <td>1</td>\n",
       "      <td>0</td>\n",
       "      <td>0</td>\n",
       "      <td>57.20</td>\n",
       "      <td>42.80</td>\n",
       "      <td>0.707811</td>\n",
       "      <td>0.409544</td>\n",
       "      <td>0.590456</td>\n",
       "      <td>0.053182</td>\n",
       "      <td>-0.023915</td>\n",
       "      <td>-7.522483</td>\n",
       "      <td>4.758222</td>\n",
       "      <td>6</td>\n",
       "      <td>57.20</td>\n",
       "    </tr>\n",
       "    <tr>\n",
       "      <td>2010-09-17</td>\n",
       "      <td>1.3048</td>\n",
       "      <td>0.471208</td>\n",
       "      <td>0.482872</td>\n",
       "      <td>0.465012</td>\n",
       "      <td>1</td>\n",
       "      <td>1</td>\n",
       "      <td>1</td>\n",
       "      <td>38.73</td>\n",
       "      <td>61.27</td>\n",
       "      <td>0.458519</td>\n",
       "      <td>0.605408</td>\n",
       "      <td>0.394592</td>\n",
       "      <td>-0.016949</td>\n",
       "      <td>0.037464</td>\n",
       "      <td>2.969936</td>\n",
       "      <td>-5.338476</td>\n",
       "      <td>3</td>\n",
       "      <td>61.27</td>\n",
       "    </tr>\n",
       "    <tr>\n",
       "      <td>2010-10-06</td>\n",
       "      <td>1.3937</td>\n",
       "      <td>0.777372</td>\n",
       "      <td>0.807264</td>\n",
       "      <td>0.781937</td>\n",
       "      <td>0</td>\n",
       "      <td>1</td>\n",
       "      <td>0</td>\n",
       "      <td>44.05</td>\n",
       "      <td>55.95</td>\n",
       "      <td>0.818292</td>\n",
       "      <td>0.548993</td>\n",
       "      <td>0.451007</td>\n",
       "      <td>0.074287</td>\n",
       "      <td>0.023821</td>\n",
       "      <td>-9.253121</td>\n",
       "      <td>-2.986564</td>\n",
       "      <td>0</td>\n",
       "      <td>55.95</td>\n",
       "    </tr>\n",
       "  </tbody>\n",
       "</table>\n",
       "</div>"
      ],
      "text/plain": [
       "             Price      Open      High       Low  Target  Prediction  Correct  \\\n",
       "Date                                                                            \n",
       "2010-02-05  1.3664  0.733982  0.724721  0.695688       1           0        0   \n",
       "2010-09-17  1.3048  0.471208  0.482872  0.465012       1           1        1   \n",
       "2010-10-06  1.3937  0.777372  0.807264  0.781937       0           1        0   \n",
       "\n",
       "            % Sell  % Buy     Close  Prob Buy  Prob Sell    comp_0    comp_1  \\\n",
       "Date                                                                           \n",
       "2010-02-05   57.20  42.80  0.707811  0.409544   0.590456  0.053182 -0.023915   \n",
       "2010-09-17   38.73  61.27  0.458519  0.605408   0.394592 -0.016949  0.037464   \n",
       "2010-10-06   44.05  55.95  0.818292  0.548993   0.451007  0.074287  0.023821   \n",
       "\n",
       "             t-SNE_1   t-SNE_2  Cluster  Confidence %  \n",
       "Date                                                   \n",
       "2010-02-05 -7.522483  4.758222        6         57.20  \n",
       "2010-09-17  2.969936 -5.338476        3         61.27  \n",
       "2010-10-06 -9.253121 -2.986564        0         55.95  "
      ]
     },
     "execution_count": 1,
     "metadata": {},
     "output_type": "execute_result"
    }
   ],
   "source": [
    "import pandas as pd \n",
    "import numpy as np \n",
    "import sqlite3 as sql\n",
    "from datetime import datetime, timedelta\n",
    "\n",
    "# Plotly\n",
    "import plotly.graph_objects as go\n",
    "from FX_data.subplots import * # scipt with TA charts \n",
    "\n",
    "# Web app\n",
    "import dash\n",
    "import dash_core_components as dcc\n",
    "import dash_html_components as html\n",
    "from dash.dependencies import Input, Output, State\n",
    "import dash_table\n",
    "\n",
    "database_name = \"FX_data/test_database.db\"\n",
    "\n",
    "conn = sql.connect('FX_data/test_database.db')\n",
    "cur = conn.cursor()\n",
    "df = pd.read_sql_query(\"SELECT * FROM final_test_data WHERE Date\",conn)\n",
    "df['Date'] = pd.to_datetime(df['Date'])\n",
    "df.set_index(['Date'],inplace=True)\n",
    "conn.close()\n",
    "\n",
    "# FOR DASH APP\n",
    "cluster_options = [{'label': i, 'value': i} for i in list(df[\"Cluster\"].unique())]\n",
    "year_options = pd.DatetimeIndex(df.reset_index()['Date']).month #.year\n",
    "action_options = [{'label': k, 'value': v} for k,v in {('Sell Signal',0),('Buy Signal',1)}]#[{'label': i, 'value': i} for i in list(df[\"Prediction\"].unique())]\n",
    "forecast_options = [{'label': k, 'value': v} for k,v in {('Forecasted Wrongly',0),('Forecasted Correctly',1)}]#[{'label': i, 'value': i} for i in list(df[\"Correct\"].unique())]\n",
    "dataset_options = [{'label':'test_2010','value':'final_test_data'}]\n",
    "model_options = [{'label': k, 'value': v} for k,v in {('Logistic Regression',0),('Random Forest',1)}],\n",
    "\n",
    "#df = pd.read_sql_query(\"SELECT * FROM profitable_subgroups\", conn)\n",
    "df.sample(3)"
   ]
  },
  {
   "cell_type": "markdown",
   "metadata": {},
   "source": [
    "# Layout"
   ]
  },
  {
   "cell_type": "code",
   "execution_count": 5,
   "metadata": {},
   "outputs": [],
   "source": [
    "# DEFINE HTML TEMPLATE\n",
    "external_stylesheets = ['https://codepen.io/chriddyp/pen/bWLwgP.css']\n",
    "app = dash.Dash(__name__, external_stylesheets=external_stylesheets)\n",
    "\n",
    "\n",
    "app.layout = html.Div(\n",
    "    [\n",
    "        dcc.Store(\n",
    "            id=\"aggregate_data\", \n",
    "        ),\n",
    "        # TITLE BANNER\n",
    "        html.Div(\n",
    "            [\n",
    "                html.Div(\n",
    "                    [\n",
    "                        html.H1(\n",
    "                        \" USD/EUR TRADES \",\n",
    "                        style={\"margin-bottom\": \"0px\",\n",
    "                               #'textAlign': 'center',\n",
    "                              },\n",
    "                        ),\n",
    "                        html.H3(\n",
    "                        \"Identifying under/over performing trades for improved profitability\",\n",
    "                        #\" Model Performance Evaluation \",\n",
    "                        style={\"margin-bottom\": \"25px\",\n",
    "                               #'textAlign': 'center',\n",
    "                              },\n",
    "                        #style = {\"line-height\": \"60px\"},\n",
    "                        ),\n",
    "                    html.Hr(),\n",
    "                    ],\n",
    "                    className=\"ten columns\",\n",
    "                ),\n",
    "                html.Div(\n",
    "                    [\n",
    "                        html.Img(\n",
    "                            src=\"https://media-exp1.licdn.com/dms/image/C4D03AQEcxZXx15lL-w/profile-displayphoto-shrink_100_100/0?e=1586995200&v=beta&t=dO0XD0N3rBbGGhCBO2Ds-OZJjAvEPzpwlXZz2ps2LJI\",\n",
    "                            #\"https://s3-us-west-1.amazonaws.com/plotly-tutorials/logo/new-branding/dash-logo-by-plotly-stripe.png\",\n",
    "                            style={\n",
    "#                                 \"height\": \"60px\",\n",
    "#                                 \"width\": \"auto\",\n",
    "                                \"margin-right\": \"0px\",\n",
    "                            },\n",
    "                        ),\n",
    "                    #html.Hr(),\n",
    "                    ],className=\"two columns\",                       \n",
    "                ),           \n",
    "                #\n",
    "            ],\n",
    "            id=\"header\",\n",
    "            className = \"row flex-display\",\n",
    "            style={\"margin-bottom\": \"25px\"},\n",
    "        ),       \n",
    "        # USER OPTION PANNEL SEPARATE\n",
    "        html.Div(       \n",
    "            [\n",
    "                html.Div(\n",
    "                    [\n",
    "                        html.B(\n",
    "                            \"User Option Panel\",\n",
    "                            style={\n",
    "                                'textAlign': 'center',\n",
    "                            },           \n",
    "                        ), # name for section (Card)\n",
    "                        \n",
    "                        html.Hr(),  # underline for section \n",
    "                        #1 Model ( All trades / Profitable Subgroup)   <------------------ NOT MEANT TO WORK\n",
    "                        html.P(\n",
    "                            \"Select Forecasting Model:\",\n",
    "                            className=\"control_label\",\n",
    "                        ),\n",
    "                        dcc.Dropdown(\n",
    "                            id='model_1',\n",
    "                            options= model_options,\n",
    "                            value= 0,\n",
    "                            #style={\"display\": \"block\",\"margin-left\": \"0\",\"width\": \"40%\"},\n",
    "                            placeholder= \"Logistic Regression\", \n",
    "                            searchable=False,\n",
    "                            clearable=False,\n",
    "                            className=\"dcc_control\",\n",
    "                        ),  \n",
    "                        html.Hr(),    \n",
    "                        \n",
    "                        #2 SELECT Z AXIS ['Profit','Confidence %']\n",
    "                        html.P(\n",
    "                            \"Select All Clusters / Profitable Clusters:\",\n",
    "                            className=\"control_label\",\n",
    "                        ),\n",
    "                        dcc.Dropdown(\n",
    "                            id='axis_z',\n",
    "                            options= [{'label': i, 'value': i} for i in ['Confidence %']],\n",
    "                            value= 'Confidence %',\n",
    "                            #style={\"display\": \"block\",\"margin-left\": \"0\",\"width\": \"40%\"},\n",
    "                            placeholder= \"Select a axis feature\", \n",
    "                            searchable=False,\n",
    "                            clearable=False,\n",
    "                            className=\"dcc_control\",\n",
    "                        ),  \n",
    "                        html.Hr(),                        \n",
    "                        \n",
    "                        #3 Dataset ( All trades / Profitable Subgroup)\n",
    "                        html.P(\n",
    "                            \"Select All Clusters / Profitable Clusters:\",\n",
    "                            className=\"control_label\",\n",
    "                        ),\n",
    "                        dcc.Dropdown(\n",
    "                            id='dataset_1',\n",
    "                            options= dataset_options,\n",
    "                            value= 'final_test_data',\n",
    "                            #style={\"display\": \"block\",\"margin-left\": \"0\",\"width\": \"40%\"},\n",
    "                            placeholder= \"Select a dataset\", \n",
    "                            searchable=False,\n",
    "                            clearable=False,\n",
    "                            className=\"dcc_control\",\n",
    "                        ),  \n",
    "                        html.Hr(),\n",
    "                        \n",
    "                        #4 Cluster Dropdown \n",
    "                        html.P(\n",
    "                            \"Cluster Dropdown:\",\n",
    "                            className=\"control_panel\",\n",
    "                        ), \n",
    "                        dcc.Dropdown(\n",
    "                            id='cluster_1',\n",
    "                            options=cluster_options, \n",
    "                            multi=True,\n",
    "                            value= list(range(0,10)), #list(df[\"Cluster\"].unique().sort_values()),\n",
    "                            #style={\"display\": \"block\",\"margin-left\": \"0\",\"width\": \"70%\"},\n",
    "                            className=\"dcc_control\",                      \n",
    "                        ),  \n",
    "                        #html.Hr(),\n",
    "                        \n",
    "                        #5 Trade Actions - Buy/Sell\n",
    "                        html.P(\n",
    "                            \"Select Trade Type:\",\n",
    "                            className=\"control_panel\",\n",
    "                        ), \n",
    "                        dcc.Checklist(\n",
    "                            id='action_1',\n",
    "                            options=action_options,\n",
    "                            value= [0,1],                            \n",
    "                            style={\"display\": \"block\",\"margin-left\": \"0\",\"width\": \"30%\"},     \n",
    "                            className=\"dcc_control\",  \n",
    "                        ),\n",
    "                        html.Hr(),\n",
    "                        \n",
    "                        #6 Forecasts - Correct/Wrong\n",
    "                        html.P(\n",
    "                            \"Filter Correct/False Forecasts:\",\n",
    "                            className=\"control_panel\",\n",
    "                        ), \n",
    "                        dcc.Checklist(\n",
    "                            id='forecast_1',\n",
    "                            options=forecast_options,\n",
    "                            value= [0,1],                            \n",
    "                            #style={\"display\": \"block\",\"margin-left\": \"0\",\"width\": \"30%\"},     \n",
    "                            className=\"dcc_control\",  \n",
    "                        ),                        \n",
    "                        #html.Hr(),\n",
    "                        \n",
    "                        #7 Data range slider - Years\n",
    "                        html.P(\"Select Year:\",\n",
    "                            className=\"control_panel\",\n",
    "                        ),                     \n",
    "                        dcc.RangeSlider( \n",
    "                            id = \"date_1\",\n",
    "                            updatemode = \"drag\", \n",
    "                            min = year_options.min(),\n",
    "                            max = year_options.max(),\n",
    "                            marks = {i: '{}'.format(i) for i in year_options.unique().tolist()},\n",
    "                            value= [1,11],        \n",
    "                            className=\"dcc_control\", \n",
    "                        ), \n",
    "                        html.Hr(),\n",
    "                        html.Div(\n",
    "                            id='slider_selection',\n",
    "#                             style={\"display\": \"block\",\"margin-left\": \"auto\",\"width\": \"30%\"},\n",
    "                        ), \n",
    "                        \n",
    "                    ],\n",
    "                    id= \"cross-filter-options\",     #'slider_selection',\n",
    "                    #style={'height': '100%', 'display': 'inline-block'},\n",
    "                    className=\"pretty_container four columns\",\n",
    "                    #className=\"four columns\",\n",
    "\n",
    "                ),\n",
    "                # SCATTERPLOT SEPARATE\n",
    "                html.Div(\n",
    "                    [    \n",
    "                        html.Div(\n",
    "                            [\n",
    "                                html.B(\n",
    "                                    \"Analyze Trader Subgroups\",\n",
    "                                    style={\n",
    "                                        'textAlign': 'center',\n",
    "                                    },   \n",
    "                                ),\n",
    "                                html.Hr(),\n",
    "                                dcc.Graph(\n",
    "                                    id = \"scatter_3d\",  \n",
    "                                    #clickData = '2005-10-10', #  #df.index[100], \n",
    "                                    clickData = {'points': [{'customdata': '2010-03-01'}]},\n",
    "                                ),\n",
    "                            ],\n",
    "                            id = \"countGraphContainer\",\n",
    "                            #className=\"pretty_container\",\n",
    "                        ),\n",
    "                    ],\n",
    "                    id=\"rightCol\",\n",
    "                    #style={'width': '70%', 'display': 'inline-block'},\n",
    "                    className=\"pretty_container eight columns\",\n",
    "                ),    \n",
    "            ],\n",
    "            #className=\"row\",\n",
    "            className = \"row flex-display\",\n",
    "            #style={\"margin-bottom\": \"25px\"},\n",
    "        ),\n",
    "        \n",
    "        # DYNAMIC SUBPLOTS FOR SCATTER-PLOT 3D\n",
    "        html.Div(\n",
    "            [\n",
    "                # Header\n",
    "                html.Div(\n",
    "                    [\n",
    "                        html.Hr(),\n",
    "                        html.H3(\n",
    "                            \"TECHNICAL ANALYSIS\", #TECHNICAL ANALYSIS OF PRICE DATA\n",
    "                            style = {\n",
    "                                     \"margin-top\": \"0px\",\n",
    "                                     \"margin-bottom\": \"0px\",\n",
    "                                     'textAlign': 'center',\n",
    "                                    },\n",
    "                            #style={\"max-width\": \"100%\", \"font-size\": \"1.5rem\", \"padding\": \"1px 1px\"},\n",
    "                        ), \n",
    "                        html.H5(\"In depth analysis of price movements\",\n",
    "                            style = { \n",
    "                                     \"margin-bottom\": \"25px\",\n",
    "                                     'textAlign': 'center',\n",
    "                                    },\n",
    "                        ),\n",
    "                        html.Hr(),\n",
    "                    ],\n",
    "                ),\n",
    "                \n",
    "                # Subplot 1\n",
    "                html.Div(\n",
    "                    [\n",
    "                        dcc.Graph(\n",
    "                            id='subplot_1',    \n",
    "                            style = { \n",
    "                                     \"margin-left\": \"0\",\n",
    "                                     \"margin-bottom\": \"25px\",\n",
    "                                     },\n",
    "                            #style = { \"margin-bottom\": \"25px\",\"width\": \"70%\"}, #  <--- Adjusts graph size\n",
    "                        ), \n",
    "                    ],className=\"pretty_container five columns\", \n",
    "                ),\n",
    "                # Subplot 2                \n",
    "                html.Div(\n",
    "                    [\n",
    "                        dcc.Graph(\n",
    "                            id='subplot_2',  \n",
    "                            style = { \n",
    "                                     \"margin-right\": \"0\",\n",
    "                                     \"margin-bottom\": \"25px\",\n",
    "                                     },\n",
    "                        ), \n",
    "                    ],className=\"pretty_container six columns\", \n",
    "                ),  \n",
    "                # Subplot 3\n",
    "                html.Div(\n",
    "                    [\n",
    "                        dcc.Graph(\n",
    "                            id='subplot_3',  \n",
    "                            style = { \n",
    "                                     \"margin-left\": \"0\",\n",
    "                                     \"margin-bottom\": \"25px\",\n",
    "                                     },\n",
    "                        ), \n",
    "                    ],className=\"pretty_container five columns\", \n",
    "                ),    \n",
    "                # Subplot 4\n",
    "                html.Div(\n",
    "                    [\n",
    "                        dcc.Graph(\n",
    "                            id='subplot_4',   \n",
    "                            style = { \n",
    "                                     \"margin-right\": \"0\",\n",
    "                                     \"margin-bottom\": \"25px\",\n",
    "                                     },\n",
    "                        ), \n",
    "                    ],className=\"pretty_container six columns\", \n",
    "                ),                  \n",
    "  \n",
    "            ],\n",
    "            className=\"row\",                \n",
    "        ),  \n",
    "    ],\n",
    "    style={'backgroundColor':'rgb(240, 240, 240)'},\n",
    ")   # END \n"
   ]
  },
  {
   "cell_type": "markdown",
   "metadata": {},
   "source": [
    "### Callbacks\n",
    "- <font color=red> The price chart does not update dynamically, received None data from scatter_trader plot </font>\n",
    "- dcc.Graph component has four attributes that can change through user-interaction: <b>hoverData, clickData, selectedData, relayoutData. </b>\n",
    "\n",
    "- [Custom Hover Data](https://community.plot.ly/t/how-to-access-customdata-with-hover-action/26324/6)\n",
    "- Example 2"
   ]
  },
  {
   "cell_type": "code",
   "execution_count": 6,
   "metadata": {},
   "outputs": [
    {
     "name": "stdout",
     "output_type": "stream",
     "text": [
      " * Serving Flask app \"__main__\" (lazy loading)\n",
      " * Environment: production\n",
      "   WARNING: This is a development server. Do not use it in a production deployment.\n",
      "   Use a production WSGI server instead.\n",
      " * Debug mode: off\n"
     ]
    },
    {
     "name": "stderr",
     "output_type": "stream",
     "text": [
      " * Running on http://127.0.0.1:8050/ (Press CTRL+C to quit)\n",
      "127.0.0.1 - - [05/Mar/2020 09:36:20] \"\u001b[37mGET / HTTP/1.1\u001b[0m\" 200 -\n",
      "127.0.0.1 - - [05/Mar/2020 09:36:20] \"\u001b[37mGET /_dash-layout HTTP/1.1\u001b[0m\" 200 -\n",
      "127.0.0.1 - - [05/Mar/2020 09:36:20] \"\u001b[37mGET /_dash-dependencies HTTP/1.1\u001b[0m\" 200 -\n",
      "127.0.0.1 - - [05/Mar/2020 09:36:21] \"\u001b[37mPOST /_dash-update-component HTTP/1.1\u001b[0m\" 200 -\n",
      "127.0.0.1 - - [05/Mar/2020 09:36:30] \"\u001b[37mGET /_favicon.ico?v=1.7.0 HTTP/1.1\u001b[0m\" 200 -\n"
     ]
    },
    {
     "name": "stdout",
     "output_type": "stream",
     "text": [
      "2010-03-01 \n"
     ]
    },
    {
     "name": "stderr",
     "output_type": "stream",
     "text": [
      "127.0.0.1 - - [05/Mar/2020 09:36:32] \"\u001b[37mPOST /_dash-update-component HTTP/1.1\u001b[0m\" 200 -\n"
     ]
    },
    {
     "name": "stdout",
     "output_type": "stream",
     "text": [
      "2010-05-18 \n"
     ]
    },
    {
     "name": "stderr",
     "output_type": "stream",
     "text": [
      "127.0.0.1 - - [05/Mar/2020 09:37:26] \"\u001b[37mPOST /_dash-update-component HTTP/1.1\u001b[0m\" 200 -\n",
      "127.0.0.1 - - [05/Mar/2020 09:37:29] \"\u001b[37mPOST /_dash-update-component HTTP/1.1\u001b[0m\" 200 -\n",
      "127.0.0.1 - - [05/Mar/2020 09:37:30] \"\u001b[37mPOST /_dash-update-component HTTP/1.1\u001b[0m\" 200 -\n",
      "127.0.0.1 - - [05/Mar/2020 09:37:31] \"\u001b[37mPOST /_dash-update-component HTTP/1.1\u001b[0m\" 200 -\n",
      "127.0.0.1 - - [05/Mar/2020 09:37:31] \"\u001b[37mPOST /_dash-update-component HTTP/1.1\u001b[0m\" 200 -\n",
      "127.0.0.1 - - [05/Mar/2020 09:37:31] \"\u001b[37mPOST /_dash-update-component HTTP/1.1\u001b[0m\" 200 -\n",
      "127.0.0.1 - - [05/Mar/2020 09:37:31] \"\u001b[37mPOST /_dash-update-component HTTP/1.1\u001b[0m\" 200 -\n",
      "127.0.0.1 - - [05/Mar/2020 09:37:31] \"\u001b[37mPOST /_dash-update-component HTTP/1.1\u001b[0m\" 200 -\n",
      "127.0.0.1 - - [05/Mar/2020 09:37:31] \"\u001b[37mPOST /_dash-update-component HTTP/1.1\u001b[0m\" 200 -\n",
      "127.0.0.1 - - [05/Mar/2020 09:37:53] \"\u001b[37mPOST /_dash-update-component HTTP/1.1\u001b[0m\" 200 -\n",
      "127.0.0.1 - - [05/Mar/2020 09:50:03] \"\u001b[37mPOST /_dash-update-component HTTP/1.1\u001b[0m\" 200 -\n",
      "127.0.0.1 - - [05/Mar/2020 09:50:04] \"\u001b[37mPOST /_dash-update-component HTTP/1.1\u001b[0m\" 200 -\n",
      "127.0.0.1 - - [05/Mar/2020 09:50:05] \"\u001b[37mPOST /_dash-update-component HTTP/1.1\u001b[0m\" 200 -\n",
      "127.0.0.1 - - [05/Mar/2020 09:50:06] \"\u001b[37mPOST /_dash-update-component HTTP/1.1\u001b[0m\" 200 -\n",
      "127.0.0.1 - - [05/Mar/2020 09:50:06] \"\u001b[37mPOST /_dash-update-component HTTP/1.1\u001b[0m\" 200 -\n",
      "127.0.0.1 - - [05/Mar/2020 09:50:07] \"\u001b[37mPOST /_dash-update-component HTTP/1.1\u001b[0m\" 200 -\n",
      "127.0.0.1 - - [05/Mar/2020 09:50:11] \"\u001b[37mPOST /_dash-update-component HTTP/1.1\u001b[0m\" 200 -\n",
      "127.0.0.1 - - [05/Mar/2020 09:51:35] \"\u001b[37mPOST /_dash-update-component HTTP/1.1\u001b[0m\" 200 -\n",
      "127.0.0.1 - - [05/Mar/2020 09:51:36] \"\u001b[37mPOST /_dash-update-component HTTP/1.1\u001b[0m\" 200 -\n",
      "127.0.0.1 - - [05/Mar/2020 09:51:36] \"\u001b[37mPOST /_dash-update-component HTTP/1.1\u001b[0m\" 200 -\n",
      "127.0.0.1 - - [05/Mar/2020 09:51:36] \"\u001b[37mPOST /_dash-update-component HTTP/1.1\u001b[0m\" 200 -\n",
      "127.0.0.1 - - [05/Mar/2020 09:51:36] \"\u001b[37mPOST /_dash-update-component HTTP/1.1\u001b[0m\" 200 -\n",
      "127.0.0.1 - - [05/Mar/2020 09:51:37] \"\u001b[37mPOST /_dash-update-component HTTP/1.1\u001b[0m\" 200 -\n",
      "127.0.0.1 - - [05/Mar/2020 09:51:37] \"\u001b[37mPOST /_dash-update-component HTTP/1.1\u001b[0m\" 200 -\n",
      "127.0.0.1 - - [05/Mar/2020 09:52:02] \"\u001b[37mPOST /_dash-update-component HTTP/1.1\u001b[0m\" 200 -\n",
      "127.0.0.1 - - [05/Mar/2020 09:52:02] \"\u001b[37mPOST /_dash-update-component HTTP/1.1\u001b[0m\" 200 -\n",
      "127.0.0.1 - - [05/Mar/2020 09:52:02] \"\u001b[37mPOST /_dash-update-component HTTP/1.1\u001b[0m\" 200 -\n",
      "127.0.0.1 - - [05/Mar/2020 09:52:02] \"\u001b[37mPOST /_dash-update-component HTTP/1.1\u001b[0m\" 200 -\n",
      "127.0.0.1 - - [05/Mar/2020 09:52:03] \"\u001b[37mPOST /_dash-update-component HTTP/1.1\u001b[0m\" 200 -\n",
      "127.0.0.1 - - [05/Mar/2020 10:00:35] \"\u001b[37mPOST /_dash-update-component HTTP/1.1\u001b[0m\" 200 -\n",
      "127.0.0.1 - - [05/Mar/2020 10:00:36] \"\u001b[37mPOST /_dash-update-component HTTP/1.1\u001b[0m\" 200 -\n",
      "127.0.0.1 - - [05/Mar/2020 10:00:36] \"\u001b[37mPOST /_dash-update-component HTTP/1.1\u001b[0m\" 200 -\n",
      "127.0.0.1 - - [05/Mar/2020 10:00:36] \"\u001b[37mPOST /_dash-update-component HTTP/1.1\u001b[0m\" 200 -\n"
     ]
    },
    {
     "name": "stdout",
     "output_type": "stream",
     "text": [
      "2010-12-17 \n"
     ]
    },
    {
     "name": "stderr",
     "output_type": "stream",
     "text": [
      "127.0.0.1 - - [05/Mar/2020 10:07:24] \"\u001b[37mPOST /_dash-update-component HTTP/1.1\u001b[0m\" 200 -\n"
     ]
    },
    {
     "name": "stdout",
     "output_type": "stream",
     "text": [
      "2010-12-17 \n",
      "2010-12-17 \n"
     ]
    },
    {
     "name": "stderr",
     "output_type": "stream",
     "text": [
      "127.0.0.1 - - [05/Mar/2020 10:08:07] \"\u001b[37mPOST /_dash-update-component HTTP/1.1\u001b[0m\" 200 -\n",
      "127.0.0.1 - - [05/Mar/2020 10:08:08] \"\u001b[37mPOST /_dash-update-component HTTP/1.1\u001b[0m\" 200 -\n"
     ]
    },
    {
     "name": "stdout",
     "output_type": "stream",
     "text": [
      "2010-12-17 \n"
     ]
    },
    {
     "name": "stderr",
     "output_type": "stream",
     "text": [
      "127.0.0.1 - - [05/Mar/2020 10:27:06] \"\u001b[37mPOST /_dash-update-component HTTP/1.1\u001b[0m\" 200 -\n"
     ]
    },
    {
     "name": "stdout",
     "output_type": "stream",
     "text": [
      "2010-12-17 \n"
     ]
    },
    {
     "name": "stderr",
     "output_type": "stream",
     "text": [
      "127.0.0.1 - - [05/Mar/2020 10:27:25] \"\u001b[37mPOST /_dash-update-component HTTP/1.1\u001b[0m\" 200 -\n"
     ]
    },
    {
     "name": "stdout",
     "output_type": "stream",
     "text": [
      "2010-12-24 \n"
     ]
    },
    {
     "name": "stderr",
     "output_type": "stream",
     "text": [
      "127.0.0.1 - - [05/Mar/2020 10:27:57] \"\u001b[37mPOST /_dash-update-component HTTP/1.1\u001b[0m\" 200 -\n"
     ]
    },
    {
     "name": "stdout",
     "output_type": "stream",
     "text": [
      "2010-12-24 \n"
     ]
    },
    {
     "name": "stderr",
     "output_type": "stream",
     "text": [
      "127.0.0.1 - - [05/Mar/2020 10:28:06] \"\u001b[37mPOST /_dash-update-component HTTP/1.1\u001b[0m\" 200 -\n"
     ]
    },
    {
     "name": "stdout",
     "output_type": "stream",
     "text": [
      "2010-12-23 \n"
     ]
    },
    {
     "name": "stderr",
     "output_type": "stream",
     "text": [
      "127.0.0.1 - - [05/Mar/2020 10:28:44] \"\u001b[37mPOST /_dash-update-component HTTP/1.1\u001b[0m\" 200 -\n"
     ]
    },
    {
     "name": "stdout",
     "output_type": "stream",
     "text": [
      "2010-05-05 \n",
      "2010-05-05 \n",
      "2010-05-05 \n"
     ]
    },
    {
     "name": "stderr",
     "output_type": "stream",
     "text": [
      "127.0.0.1 - - [05/Mar/2020 10:29:22] \"\u001b[37mPOST /_dash-update-component HTTP/1.1\u001b[0m\" 200 -\n",
      "127.0.0.1 - - [05/Mar/2020 10:29:27] \"\u001b[37mPOST /_dash-update-component HTTP/1.1\u001b[0m\" 200 -\n",
      "127.0.0.1 - - [05/Mar/2020 10:29:27] \"\u001b[37mPOST /_dash-update-component HTTP/1.1\u001b[0m\" 200 -\n"
     ]
    },
    {
     "name": "stdout",
     "output_type": "stream",
     "text": [
      "2010-05-05 \n"
     ]
    },
    {
     "name": "stderr",
     "output_type": "stream",
     "text": [
      "127.0.0.1 - - [05/Mar/2020 10:29:34] \"\u001b[37mPOST /_dash-update-component HTTP/1.1\u001b[0m\" 200 -\n"
     ]
    },
    {
     "name": "stdout",
     "output_type": "stream",
     "text": [
      "2010-12-23 \n"
     ]
    },
    {
     "name": "stderr",
     "output_type": "stream",
     "text": [
      "127.0.0.1 - - [05/Mar/2020 10:29:55] \"\u001b[37mPOST /_dash-update-component HTTP/1.1\u001b[0m\" 200 -\n"
     ]
    },
    {
     "name": "stdout",
     "output_type": "stream",
     "text": [
      "2010-06-01 \n"
     ]
    },
    {
     "name": "stderr",
     "output_type": "stream",
     "text": [
      "127.0.0.1 - - [05/Mar/2020 10:30:18] \"\u001b[37mPOST /_dash-update-component HTTP/1.1\u001b[0m\" 200 -\n"
     ]
    },
    {
     "name": "stdout",
     "output_type": "stream",
     "text": [
      "2010-05-12 \n"
     ]
    },
    {
     "name": "stderr",
     "output_type": "stream",
     "text": [
      "127.0.0.1 - - [05/Mar/2020 10:31:13] \"\u001b[37mPOST /_dash-update-component HTTP/1.1\u001b[0m\" 200 -\n"
     ]
    },
    {
     "name": "stdout",
     "output_type": "stream",
     "text": [
      "2010-05-31 \n"
     ]
    },
    {
     "name": "stderr",
     "output_type": "stream",
     "text": [
      "127.0.0.1 - - [05/Mar/2020 10:31:34] \"\u001b[37mPOST /_dash-update-component HTTP/1.1\u001b[0m\" 200 -\n"
     ]
    },
    {
     "name": "stdout",
     "output_type": "stream",
     "text": [
      "2010-05-31 \n"
     ]
    },
    {
     "name": "stderr",
     "output_type": "stream",
     "text": [
      "127.0.0.1 - - [05/Mar/2020 10:31:42] \"\u001b[37mPOST /_dash-update-component HTTP/1.1\u001b[0m\" 200 -\n"
     ]
    },
    {
     "name": "stdout",
     "output_type": "stream",
     "text": [
      "2010-06-30 \n"
     ]
    },
    {
     "name": "stderr",
     "output_type": "stream",
     "text": [
      "127.0.0.1 - - [05/Mar/2020 10:32:15] \"\u001b[37mPOST /_dash-update-component HTTP/1.1\u001b[0m\" 200 -\n"
     ]
    },
    {
     "name": "stdout",
     "output_type": "stream",
     "text": [
      "2010-06-30 \n"
     ]
    },
    {
     "name": "stderr",
     "output_type": "stream",
     "text": [
      "127.0.0.1 - - [05/Mar/2020 10:32:23] \"\u001b[37mPOST /_dash-update-component HTTP/1.1\u001b[0m\" 200 -\n"
     ]
    },
    {
     "name": "stdout",
     "output_type": "stream",
     "text": [
      "2010-07-01 \n"
     ]
    },
    {
     "name": "stderr",
     "output_type": "stream",
     "text": [
      "127.0.0.1 - - [05/Mar/2020 10:33:51] \"\u001b[37mPOST /_dash-update-component HTTP/1.1\u001b[0m\" 200 -\n"
     ]
    },
    {
     "name": "stdout",
     "output_type": "stream",
     "text": [
      "2010-09-08 \n"
     ]
    },
    {
     "name": "stderr",
     "output_type": "stream",
     "text": [
      "127.0.0.1 - - [05/Mar/2020 10:34:50] \"\u001b[37mPOST /_dash-update-component HTTP/1.1\u001b[0m\" 200 -\n"
     ]
    },
    {
     "name": "stdout",
     "output_type": "stream",
     "text": [
      "2010-09-08 \n"
     ]
    },
    {
     "name": "stderr",
     "output_type": "stream",
     "text": [
      "127.0.0.1 - - [05/Mar/2020 10:41:48] \"\u001b[37mPOST /_dash-update-component HTTP/1.1\u001b[0m\" 200 -\n"
     ]
    },
    {
     "name": "stdout",
     "output_type": "stream",
     "text": [
      "2010-06-03 \n"
     ]
    },
    {
     "name": "stderr",
     "output_type": "stream",
     "text": [
      "127.0.0.1 - - [05/Mar/2020 10:42:09] \"\u001b[37mPOST /_dash-update-component HTTP/1.1\u001b[0m\" 200 -\n"
     ]
    },
    {
     "name": "stdout",
     "output_type": "stream",
     "text": [
      "2010-05-28 \n"
     ]
    },
    {
     "name": "stderr",
     "output_type": "stream",
     "text": [
      "127.0.0.1 - - [05/Mar/2020 10:42:37] \"\u001b[37mPOST /_dash-update-component HTTP/1.1\u001b[0m\" 200 -\n"
     ]
    },
    {
     "name": "stdout",
     "output_type": "stream",
     "text": [
      "2010-06-16 \n"
     ]
    },
    {
     "name": "stderr",
     "output_type": "stream",
     "text": [
      "127.0.0.1 - - [05/Mar/2020 10:43:01] \"\u001b[37mPOST /_dash-update-component HTTP/1.1\u001b[0m\" 200 -\n"
     ]
    },
    {
     "name": "stdout",
     "output_type": "stream",
     "text": [
      "2010-05-21 \n"
     ]
    },
    {
     "name": "stderr",
     "output_type": "stream",
     "text": [
      "127.0.0.1 - - [05/Mar/2020 10:43:46] \"\u001b[37mPOST /_dash-update-component HTTP/1.1\u001b[0m\" 200 -\n"
     ]
    },
    {
     "name": "stdout",
     "output_type": "stream",
     "text": [
      "2010-07-07 \n"
     ]
    },
    {
     "name": "stderr",
     "output_type": "stream",
     "text": [
      "127.0.0.1 - - [05/Mar/2020 10:44:28] \"\u001b[37mPOST /_dash-update-component HTTP/1.1\u001b[0m\" 200 -\n"
     ]
    },
    {
     "name": "stdout",
     "output_type": "stream",
     "text": [
      "2010-06-14 \n"
     ]
    },
    {
     "name": "stderr",
     "output_type": "stream",
     "text": [
      "127.0.0.1 - - [05/Mar/2020 10:44:48] \"\u001b[37mPOST /_dash-update-component HTTP/1.1\u001b[0m\" 200 -\n"
     ]
    },
    {
     "name": "stdout",
     "output_type": "stream",
     "text": [
      "2010-06-15 \n"
     ]
    },
    {
     "name": "stderr",
     "output_type": "stream",
     "text": [
      "127.0.0.1 - - [05/Mar/2020 10:45:33] \"\u001b[37mPOST /_dash-update-component HTTP/1.1\u001b[0m\" 200 -\n"
     ]
    },
    {
     "name": "stdout",
     "output_type": "stream",
     "text": [
      "2010-06-24 \n",
      "2010-06-24 \n"
     ]
    },
    {
     "name": "stderr",
     "output_type": "stream",
     "text": [
      "127.0.0.1 - - [05/Mar/2020 10:46:02] \"\u001b[37mPOST /_dash-update-component HTTP/1.1\u001b[0m\" 200 -\n",
      "127.0.0.1 - - [05/Mar/2020 10:46:03] \"\u001b[37mPOST /_dash-update-component HTTP/1.1\u001b[0m\" 200 -\n"
     ]
    },
    {
     "name": "stdout",
     "output_type": "stream",
     "text": [
      "2010-07-05 \n"
     ]
    },
    {
     "name": "stderr",
     "output_type": "stream",
     "text": [
      "127.0.0.1 - - [05/Mar/2020 10:47:09] \"\u001b[37mPOST /_dash-update-component HTTP/1.1\u001b[0m\" 200 -\n"
     ]
    },
    {
     "name": "stdout",
     "output_type": "stream",
     "text": [
      "2010-06-10 \n"
     ]
    },
    {
     "name": "stderr",
     "output_type": "stream",
     "text": [
      "127.0.0.1 - - [05/Mar/2020 10:48:17] \"\u001b[37mPOST /_dash-update-component HTTP/1.1\u001b[0m\" 200 -\n"
     ]
    },
    {
     "name": "stdout",
     "output_type": "stream",
     "text": [
      "2010-06-09 \n"
     ]
    },
    {
     "name": "stderr",
     "output_type": "stream",
     "text": [
      "127.0.0.1 - - [05/Mar/2020 10:48:57] \"\u001b[37mPOST /_dash-update-component HTTP/1.1\u001b[0m\" 200 -\n"
     ]
    },
    {
     "name": "stdout",
     "output_type": "stream",
     "text": [
      "2010-05-17 \n"
     ]
    },
    {
     "name": "stderr",
     "output_type": "stream",
     "text": [
      "127.0.0.1 - - [05/Mar/2020 10:49:21] \"\u001b[37mPOST /_dash-update-component HTTP/1.1\u001b[0m\" 200 -\n"
     ]
    },
    {
     "name": "stdout",
     "output_type": "stream",
     "text": [
      "2010-07-02 \n"
     ]
    },
    {
     "name": "stderr",
     "output_type": "stream",
     "text": [
      "127.0.0.1 - - [05/Mar/2020 10:49:55] \"\u001b[37mPOST /_dash-update-component HTTP/1.1\u001b[0m\" 200 -\n"
     ]
    },
    {
     "name": "stdout",
     "output_type": "stream",
     "text": [
      "2010-08-04 \n",
      "2010-08-04 \n",
      "2010-08-04 \n"
     ]
    },
    {
     "name": "stderr",
     "output_type": "stream",
     "text": [
      "127.0.0.1 - - [05/Mar/2020 10:50:55] \"\u001b[37mPOST /_dash-update-component HTTP/1.1\u001b[0m\" 200 -\n",
      "127.0.0.1 - - [05/Mar/2020 10:50:59] \"\u001b[37mPOST /_dash-update-component HTTP/1.1\u001b[0m\" 200 -\n",
      "127.0.0.1 - - [05/Mar/2020 10:50:59] \"\u001b[37mPOST /_dash-update-component HTTP/1.1\u001b[0m\" 200 -\n"
     ]
    },
    {
     "name": "stdout",
     "output_type": "stream",
     "text": [
      "2010-07-15 \n"
     ]
    },
    {
     "name": "stderr",
     "output_type": "stream",
     "text": [
      "127.0.0.1 - - [05/Mar/2020 10:51:49] \"\u001b[37mPOST /_dash-update-component HTTP/1.1\u001b[0m\" 200 -\n"
     ]
    },
    {
     "name": "stdout",
     "output_type": "stream",
     "text": [
      "2010-07-08 \n"
     ]
    },
    {
     "name": "stderr",
     "output_type": "stream",
     "text": [
      "127.0.0.1 - - [05/Mar/2020 10:52:35] \"\u001b[37mPOST /_dash-update-component HTTP/1.1\u001b[0m\" 200 -\n"
     ]
    },
    {
     "name": "stdout",
     "output_type": "stream",
     "text": [
      "2010-07-12 \n"
     ]
    },
    {
     "name": "stderr",
     "output_type": "stream",
     "text": [
      "127.0.0.1 - - [05/Mar/2020 10:53:11] \"\u001b[37mPOST /_dash-update-component HTTP/1.1\u001b[0m\" 200 -\n"
     ]
    },
    {
     "name": "stdout",
     "output_type": "stream",
     "text": [
      "2010-09-09 \n"
     ]
    },
    {
     "name": "stderr",
     "output_type": "stream",
     "text": [
      "127.0.0.1 - - [05/Mar/2020 10:54:01] \"\u001b[37mPOST /_dash-update-component HTTP/1.1\u001b[0m\" 200 -\n"
     ]
    },
    {
     "name": "stdout",
     "output_type": "stream",
     "text": [
      "2010-07-09 \n"
     ]
    },
    {
     "name": "stderr",
     "output_type": "stream",
     "text": [
      "127.0.0.1 - - [05/Mar/2020 10:54:09] \"\u001b[37mPOST /_dash-update-component HTTP/1.1\u001b[0m\" 200 -\n"
     ]
    },
    {
     "name": "stdout",
     "output_type": "stream",
     "text": [
      "2010-07-09 \n"
     ]
    },
    {
     "name": "stderr",
     "output_type": "stream",
     "text": [
      "127.0.0.1 - - [05/Mar/2020 10:54:14] \"\u001b[37mPOST /_dash-update-component HTTP/1.1\u001b[0m\" 200 -\n"
     ]
    },
    {
     "name": "stdout",
     "output_type": "stream",
     "text": [
      "2010-09-09 \n"
     ]
    },
    {
     "name": "stderr",
     "output_type": "stream",
     "text": [
      "127.0.0.1 - - [05/Mar/2020 10:54:35] \"\u001b[37mPOST /_dash-update-component HTTP/1.1\u001b[0m\" 200 -\n"
     ]
    },
    {
     "name": "stdout",
     "output_type": "stream",
     "text": [
      "2010-08-27 \n"
     ]
    },
    {
     "name": "stderr",
     "output_type": "stream",
     "text": [
      "127.0.0.1 - - [05/Mar/2020 10:55:09] \"\u001b[37mPOST /_dash-update-component HTTP/1.1\u001b[0m\" 200 -\n"
     ]
    },
    {
     "name": "stdout",
     "output_type": "stream",
     "text": [
      "2010-08-16 \n"
     ]
    },
    {
     "name": "stderr",
     "output_type": "stream",
     "text": [
      "127.0.0.1 - - [05/Mar/2020 10:56:13] \"\u001b[37mPOST /_dash-update-component HTTP/1.1\u001b[0m\" 200 -\n"
     ]
    },
    {
     "name": "stdout",
     "output_type": "stream",
     "text": [
      "2010-09-16 \n"
     ]
    },
    {
     "name": "stderr",
     "output_type": "stream",
     "text": [
      "127.0.0.1 - - [05/Mar/2020 10:56:41] \"\u001b[37mPOST /_dash-update-component HTTP/1.1\u001b[0m\" 200 -\n"
     ]
    },
    {
     "name": "stdout",
     "output_type": "stream",
     "text": [
      "2010-08-12 \n"
     ]
    },
    {
     "name": "stderr",
     "output_type": "stream",
     "text": [
      "127.0.0.1 - - [05/Mar/2020 10:57:20] \"\u001b[37mPOST /_dash-update-component HTTP/1.1\u001b[0m\" 200 -\n"
     ]
    },
    {
     "name": "stdout",
     "output_type": "stream",
     "text": [
      "2010-07-21 \n"
     ]
    },
    {
     "name": "stderr",
     "output_type": "stream",
     "text": [
      "127.0.0.1 - - [05/Mar/2020 10:57:37] \"\u001b[37mPOST /_dash-update-component HTTP/1.1\u001b[0m\" 200 -\n"
     ]
    },
    {
     "name": "stdout",
     "output_type": "stream",
     "text": [
      "2010-09-02 \n",
      "2010-09-02 \n",
      "2010-09-02 \n"
     ]
    },
    {
     "name": "stderr",
     "output_type": "stream",
     "text": [
      "127.0.0.1 - - [05/Mar/2020 10:58:44] \"\u001b[37mPOST /_dash-update-component HTTP/1.1\u001b[0m\" 200 -\n",
      "127.0.0.1 - - [05/Mar/2020 10:58:49] \"\u001b[37mPOST /_dash-update-component HTTP/1.1\u001b[0m\" 200 -\n",
      "127.0.0.1 - - [05/Mar/2020 10:58:50] \"\u001b[37mPOST /_dash-update-component HTTP/1.1\u001b[0m\" 200 -\n"
     ]
    },
    {
     "name": "stdout",
     "output_type": "stream",
     "text": [
      "2010-07-20 \n",
      "2010-07-20 \n",
      "2010-07-20 \n"
     ]
    },
    {
     "name": "stderr",
     "output_type": "stream",
     "text": [
      "127.0.0.1 - - [05/Mar/2020 11:00:06] \"\u001b[37mPOST /_dash-update-component HTTP/1.1\u001b[0m\" 200 -\n",
      "127.0.0.1 - - [05/Mar/2020 11:00:10] \"\u001b[37mPOST /_dash-update-component HTTP/1.1\u001b[0m\" 200 -\n",
      "127.0.0.1 - - [05/Mar/2020 11:00:10] \"\u001b[37mPOST /_dash-update-component HTTP/1.1\u001b[0m\" 200 -\n"
     ]
    },
    {
     "name": "stdout",
     "output_type": "stream",
     "text": [
      "2010-11-30 \n"
     ]
    },
    {
     "name": "stderr",
     "output_type": "stream",
     "text": [
      "127.0.0.1 - - [05/Mar/2020 11:00:42] \"\u001b[37mPOST /_dash-update-component HTTP/1.1\u001b[0m\" 200 -\n"
     ]
    },
    {
     "name": "stdout",
     "output_type": "stream",
     "text": [
      "2010-08-04 \n"
     ]
    },
    {
     "name": "stderr",
     "output_type": "stream",
     "text": [
      "127.0.0.1 - - [05/Mar/2020 11:01:17] \"\u001b[37mPOST /_dash-update-component HTTP/1.1\u001b[0m\" 200 -\n"
     ]
    },
    {
     "name": "stdout",
     "output_type": "stream",
     "text": [
      "2010-08-11 \n"
     ]
    },
    {
     "name": "stderr",
     "output_type": "stream",
     "text": [
      "127.0.0.1 - - [05/Mar/2020 11:01:26] \"\u001b[37mPOST /_dash-update-component HTTP/1.1\u001b[0m\" 200 -\n"
     ]
    },
    {
     "name": "stdout",
     "output_type": "stream",
     "text": [
      "2010-07-28 \n"
     ]
    },
    {
     "name": "stderr",
     "output_type": "stream",
     "text": [
      "127.0.0.1 - - [05/Mar/2020 11:02:03] \"\u001b[37mPOST /_dash-update-component HTTP/1.1\u001b[0m\" 200 -\n"
     ]
    },
    {
     "name": "stdout",
     "output_type": "stream",
     "text": [
      "2010-07-26 \n",
      "2010-07-26 \n",
      "2010-07-26 \n"
     ]
    },
    {
     "name": "stderr",
     "output_type": "stream",
     "text": [
      "127.0.0.1 - - [05/Mar/2020 11:02:46] \"\u001b[37mPOST /_dash-update-component HTTP/1.1\u001b[0m\" 200 -\n",
      "127.0.0.1 - - [05/Mar/2020 11:02:48] \"\u001b[37mPOST /_dash-update-component HTTP/1.1\u001b[0m\" 200 -\n",
      "127.0.0.1 - - [05/Mar/2020 11:02:49] \"\u001b[37mPOST /_dash-update-component HTTP/1.1\u001b[0m\" 200 -\n"
     ]
    },
    {
     "name": "stdout",
     "output_type": "stream",
     "text": [
      "2010-08-17 \n"
     ]
    },
    {
     "name": "stderr",
     "output_type": "stream",
     "text": [
      "127.0.0.1 - - [05/Mar/2020 11:03:28] \"\u001b[37mPOST /_dash-update-component HTTP/1.1\u001b[0m\" 200 -\n"
     ]
    },
    {
     "name": "stdout",
     "output_type": "stream",
     "text": [
      "2010-07-22 \n"
     ]
    },
    {
     "name": "stderr",
     "output_type": "stream",
     "text": [
      "127.0.0.1 - - [05/Mar/2020 11:04:07] \"\u001b[37mPOST /_dash-update-component HTTP/1.1\u001b[0m\" 200 -\n"
     ]
    },
    {
     "name": "stdout",
     "output_type": "stream",
     "text": [
      "2010-09-07 \n"
     ]
    },
    {
     "name": "stderr",
     "output_type": "stream",
     "text": [
      "127.0.0.1 - - [05/Mar/2020 11:04:31] \"\u001b[37mPOST /_dash-update-component HTTP/1.1\u001b[0m\" 200 -\n"
     ]
    },
    {
     "name": "stdout",
     "output_type": "stream",
     "text": [
      "2010-08-20 \n"
     ]
    },
    {
     "name": "stderr",
     "output_type": "stream",
     "text": [
      "127.0.0.1 - - [05/Mar/2020 11:04:50] \"\u001b[37mPOST /_dash-update-component HTTP/1.1\u001b[0m\" 200 -\n"
     ]
    },
    {
     "name": "stdout",
     "output_type": "stream",
     "text": [
      "2010-08-26 \n"
     ]
    },
    {
     "name": "stderr",
     "output_type": "stream",
     "text": [
      "127.0.0.1 - - [05/Mar/2020 11:05:13] \"\u001b[37mPOST /_dash-update-component HTTP/1.1\u001b[0m\" 200 -\n"
     ]
    },
    {
     "name": "stdout",
     "output_type": "stream",
     "text": [
      "2010-08-25 \n",
      "2010-08-25 \n",
      "2010-08-25 \n"
     ]
    },
    {
     "name": "stderr",
     "output_type": "stream",
     "text": [
      "127.0.0.1 - - [05/Mar/2020 11:05:37] \"\u001b[37mPOST /_dash-update-component HTTP/1.1\u001b[0m\" 200 -\n",
      "127.0.0.1 - - [05/Mar/2020 11:05:39] \"\u001b[37mPOST /_dash-update-component HTTP/1.1\u001b[0m\" 200 -\n",
      "127.0.0.1 - - [05/Mar/2020 11:05:39] \"\u001b[37mPOST /_dash-update-component HTTP/1.1\u001b[0m\" 200 -\n"
     ]
    },
    {
     "name": "stdout",
     "output_type": "stream",
     "text": [
      "2010-08-23 \n"
     ]
    },
    {
     "name": "stderr",
     "output_type": "stream",
     "text": [
      "127.0.0.1 - - [05/Mar/2020 11:06:08] \"\u001b[37mPOST /_dash-update-component HTTP/1.1\u001b[0m\" 200 -\n"
     ]
    },
    {
     "name": "stdout",
     "output_type": "stream",
     "text": [
      "2010-05-07 \n"
     ]
    },
    {
     "name": "stderr",
     "output_type": "stream",
     "text": [
      "127.0.0.1 - - [05/Mar/2020 11:06:29] \"\u001b[37mPOST /_dash-update-component HTTP/1.1\u001b[0m\" 200 -\n"
     ]
    },
    {
     "name": "stdout",
     "output_type": "stream",
     "text": [
      "2010-08-31 \n"
     ]
    },
    {
     "name": "stderr",
     "output_type": "stream",
     "text": [
      "127.0.0.1 - - [05/Mar/2020 11:06:53] \"\u001b[37mPOST /_dash-update-component HTTP/1.1\u001b[0m\" 200 -\n"
     ]
    },
    {
     "name": "stdout",
     "output_type": "stream",
     "text": [
      "2010-07-06 \n"
     ]
    },
    {
     "name": "stderr",
     "output_type": "stream",
     "text": [
      "127.0.0.1 - - [05/Mar/2020 11:07:34] \"\u001b[37mPOST /_dash-update-component HTTP/1.1\u001b[0m\" 200 -\n"
     ]
    },
    {
     "name": "stdout",
     "output_type": "stream",
     "text": [
      "2010-08-24 \n"
     ]
    },
    {
     "name": "stderr",
     "output_type": "stream",
     "text": [
      "127.0.0.1 - - [05/Mar/2020 11:08:01] \"\u001b[37mPOST /_dash-update-component HTTP/1.1\u001b[0m\" 200 -\n"
     ]
    },
    {
     "name": "stdout",
     "output_type": "stream",
     "text": [
      "2010-05-13 \n",
      "2010-05-13 \n",
      "2010-05-13 \n"
     ]
    },
    {
     "name": "stderr",
     "output_type": "stream",
     "text": [
      "127.0.0.1 - - [05/Mar/2020 11:08:36] \"\u001b[37mPOST /_dash-update-component HTTP/1.1\u001b[0m\" 200 -\n",
      "127.0.0.1 - - [05/Mar/2020 11:08:41] \"\u001b[37mPOST /_dash-update-component HTTP/1.1\u001b[0m\" 200 -\n",
      "127.0.0.1 - - [05/Mar/2020 11:08:41] \"\u001b[37mPOST /_dash-update-component HTTP/1.1\u001b[0m\" 200 -\n"
     ]
    }
   ],
   "source": [
    "### ============================= 3D Scatterplot =============================== #\n",
    "@app.callback(\n",
    "                [\n",
    "                    Output('scatter_3d', 'figure'),\n",
    "                    Output('slider_selection', 'children'), \n",
    "                    #Output('price_chart', 'figure'),\n",
    "                  ],\n",
    "               #Output('table_1', 'data'),  ], # Dynamic data table \n",
    "                [\n",
    "                    Input ('model_1','value'),\n",
    "                    Input ('dataset_1','value'),\n",
    "                    Input ('axis_z','value'),\n",
    "                    Input('cluster_1','value'),\n",
    "                    Input('action_1','value'), \n",
    "                    Input('forecast_1','value'),\n",
    "                    Input('date_1','value'),           \n",
    "                ]   \n",
    "            ) \n",
    "\n",
    "def plots (modelD,datasetD,axisD, clusterD, actionD, forecastD, rangeD ):  # just my names (According to order in callback)\n",
    "    \n",
    "    # Call data from SQL db\n",
    "    conn = sql.connect(database_name)\n",
    "    cur = conn.cursor()\n",
    "    df = pd.read_sql_query(\"SELECT * FROM {} \".format(datasetD), conn)  #FROM eda_data_LR\n",
    "    df[\"Date_Y\"] = pd.DatetimeIndex(df[\"Date\"]).month\n",
    "    conn.close()    \n",
    "    \n",
    "    \n",
    "    dataset = df[(df[\"Date_Y\"] >= rangeD[0]) &  # Slice data according to lower year range \n",
    "                   (df[\"Date_Y\"] <= rangeD[1]) & # Slice data according to upper year range\n",
    "                   (df[\"Cluster\"].isin(clusterD)) & # Slice data according to quarter                       \n",
    "                   (df[\"Prediction\"].isin(actionD)) &\n",
    "                   (df[\"Correct\"].isin(forecastD))# Slice data according to sector    \n",
    "                  ]  \n",
    "    \n",
    "    trace1 = go.Scatter3d(x = dataset[\"t-SNE_1\"],  \n",
    "                          y = dataset[\"t-SNE_2\"],\n",
    "                          z = dataset[axisD], \n",
    "                          #dataset[\"Profit\"], \n",
    "                          mode = \"markers+text\",\n",
    "                          customdata = dataset[\"Date\"] ,  # REQUITED FOR SUBPLOT AND HOVER ACTION!\n",
    "\n",
    "                          # WORKS - <br> NEW LINE PER FEATURE\n",
    "                          hovertext= \\\n",
    "                              [\n",
    "                              \n",
    "                               \" <br>Date: {},\\\n",
    "                                 <br>Cluster: {},\\\n",
    "                                 <br>Sell Conviction: {}%,\\\n",
    "                                 <br>Buy Conviction: {}%,\\\n",
    "                                 <br>Close: {},\\\n",
    "                                 <br>Open: {},\\\n",
    "                                 <br>High: {},\\\n",
    "                                 <br>Low: {}, \" \n",
    "                              .format(str(d)[:11],\n",
    "                                           c,\n",
    "                                           s,\n",
    "                                           b,\n",
    "                                           round(cl,2),\n",
    "                                           round(cl,2),\n",
    "                                           round(hi,2),\n",
    "                                           round(lo,2)) \n",
    "                               for d,c,s,b,cl,op,hi,lo in dataset[['Date','Cluster','% Sell','% Buy','Price','Open','High','Low']].values.tolist()],\n",
    "                          hoverinfo=\"text\", \n",
    "                          \n",
    "                         \n",
    "                          marker = dict(size= df[\"Confidence %\"]/4, \n",
    "                                        sizemin = 1.5,  # min size\n",
    "                                        color= dataset[\"Cluster\"],  # THIS CAN BE DIFFERENT\n",
    "                                        colorscale = \"Portland\",\n",
    "                                        colorbar = {\"thickness\": 10, \"len\": 0.5, \"x\": 0.8, \"y\": 0.6, },\n",
    "                                        \n",
    "                                        # Correct Column (0:Prediction Wrong, 1:Prediction Correct)\n",
    "                                        # ScatterPlot (0:Cross, 1:Diamond)\n",
    "                                        # symbol = list(np.where(dataset['Correct'] == 1, 'diamond', 'cross')), \n",
    "                                        symbol = list(np.where(dataset['Prediction'] == 1, 'diamond-open', 'circle-open')), \n",
    "                                            # Diamond -> Buy, Circle -> Sell\n",
    "                                        \n",
    "                                        \n",
    "                                        showscale = False,\n",
    "                                       ),  \n",
    "                         )\n",
    "    data_1 = [ trace1 ]    \n",
    "    layout_1 = go.Layout( \n",
    "             title = \"<b>Scatterplot Trades</b>\",\n",
    "             #clickmode = 'event+select',\n",
    "             # UX\n",
    "             height = 850,  #1500,\n",
    "             #width = 850,  #1500,    <----- Screws with layout \n",
    "             paper_bgcolor = \"rgb(230, 230, 230)\", # background colour \"rgb(220, 235, 247)\"\n",
    "             # paper_bgcolor = \"rgb(158, 194, 217)\", # background colour \n",
    "             scene = dict( # UI\n",
    "                          aspectmode = \"cube\",  \n",
    "                          hovermode = \"closest\",\n",
    "                          dragmode = \"turntable\", #  \"orbit\" | \"turntable\" | \"zoom\" | \"pan\" | False\n",
    "                          xaxis = dict(title =\"t-SNE_1\" ),\n",
    "                          yaxis = dict(title =\"t-SNE_2\" ),\n",
    "                          zaxis = dict(title =axisD),  #dict(title =\"Profit\"),  \n",
    "             )\n",
    "    )   \n",
    "\n",
    "    fig1 =( \n",
    "                    {\n",
    "                     \"data\":data_1,\n",
    "                     \"layout\":layout_1}\n",
    "                   )\n",
    "    \n",
    "    \n",
    "\n",
    "    return fig1 , \"Date Range {} - {}.\".format(str(rangeD[0]),str(rangeD[1])) #, price_chart\n",
    "\n",
    "# ============================= Price Chart =============================== #\n",
    "@app.callback(  [\n",
    "                    Output('subplot_1', 'figure'),\n",
    "                    Output('subplot_2', 'figure'),\n",
    "                    Output('subplot_3', 'figure'),\n",
    "                    Output('subplot_4', 'figure'),\n",
    "                ],\n",
    "                [\n",
    "                    Input('scatter_3d','clickData'), # Date input\n",
    "                    #Input('scatter_trader','figure'),     \n",
    "                ],\n",
    "            ) \n",
    "\n",
    "def subplots (clickData):  # just my names (According to order in callback)\n",
    "    # format: clickData -> datetime\n",
    "    date = pd.to_datetime(clickData['points'][0]['customdata'])\n",
    "    \n",
    "    # window of n historical closing prices\n",
    "    history_days = 100\n",
    "    start_date = str(date - timedelta(days=history_days))[:-8]\n",
    "    # format:  datetime -> str\n",
    "    end_date = str(date)[:-8]\n",
    "    print(end_date)\n",
    "    \n",
    "    # Retrieve Technical Analysis data from database\n",
    "    datasetD =  \"ta_series\"  # table name\n",
    "    conn = sql.connect('FX_data/test_database.db')\n",
    "    cur = conn.cursor()\n",
    "    df_ta  = pd.read_sql_query(\"SELECT * FROM {} WHERE Date>= '{}' AND Date <= '{}'\".format(datasetD,start_date,end_date), conn)\n",
    "    df_ta ['Date'] = pd.to_datetime(df_ta ['Date'])\n",
    "    df_raw_prices = pd.read_sql_query(\"SELECT * FROM raw_prices WHERE Date>= '{}' AND Date <= '{}'\".format(start_date,end_date), conn)\n",
    "    df_raw_prices ['Date'] = pd.to_datetime(df_raw_prices ['Date'])    \n",
    "    conn.close()\n",
    " \n",
    "    # Call functions that generate plotly charts from subplots.py\n",
    "    subplot_1 = adx(df_ta)\n",
    "    subplot_2 = candles_bollingerb(df_ta,df_raw_prices)\n",
    "    subplot_3 = rsi(df_ta)\n",
    "    subplot_4 = macd(df_ta)\n",
    "\n",
    "    return subplot_1, subplot_2, subplot_3, subplot_4\n",
    "\n",
    "\n",
    "if __name__ == '__main__':\n",
    "    app.run_server()"
   ]
  },
  {
   "cell_type": "markdown",
   "metadata": {},
   "source": [
    "======================================  END   ==========================================="
   ]
  }
 ],
 "metadata": {
  "kernelspec": {
   "display_name": "Python 3",
   "language": "python",
   "name": "python3"
  },
  "language_info": {
   "codemirror_mode": {
    "name": "ipython",
    "version": 3
   },
   "file_extension": ".py",
   "mimetype": "text/x-python",
   "name": "python",
   "nbconvert_exporter": "python",
   "pygments_lexer": "ipython3",
   "version": "3.7.4"
  },
  "widgets": {
   "application/vnd.jupyter.widget-state+json": {
    "state": {},
    "version_major": 2,
    "version_minor": 0
   }
  }
 },
 "nbformat": 4,
 "nbformat_minor": 2
}
