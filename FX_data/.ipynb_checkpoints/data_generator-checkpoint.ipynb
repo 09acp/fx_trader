{
 "cells": [
  {
   "cell_type": "markdown",
   "metadata": {},
   "source": [
    "# Data Cleaning -  USD/EUR 40years\n",
    "- builds 4D tensor with GADF features"
   ]
  },
  {
   "cell_type": "code",
   "execution_count": 4,
   "metadata": {},
   "outputs": [],
   "source": [
    "import pandas as pd\n",
    "import numpy as np\n",
    "import matplotlib.pyplot as plt\n",
    "import sqlite3 as sql\n",
    "import pickle\n",
    "import import_ipynb # pip install import-ipynb\n",
    "#from toolbox import * # helper functions "
   ]
  },
  {
   "cell_type": "markdown",
   "metadata": {},
   "source": [
    "#### Raw Price Data "
   ]
  },
  {
   "cell_type": "code",
   "execution_count": 5,
   "metadata": {},
   "outputs": [
    {
     "name": "stdout",
     "output_type": "stream",
     "text": [
      "(7672, 4)\n"
     ]
    },
    {
     "data": {
      "text/html": [
       "<div>\n",
       "<style scoped>\n",
       "    .dataframe tbody tr th:only-of-type {\n",
       "        vertical-align: middle;\n",
       "    }\n",
       "\n",
       "    .dataframe tbody tr th {\n",
       "        vertical-align: top;\n",
       "    }\n",
       "\n",
       "    .dataframe thead th {\n",
       "        text-align: right;\n",
       "    }\n",
       "</style>\n",
       "<table border=\"1\" class=\"dataframe\">\n",
       "  <thead>\n",
       "    <tr style=\"text-align: right;\">\n",
       "      <th></th>\n",
       "      <th>Price</th>\n",
       "      <th>Open</th>\n",
       "      <th>High</th>\n",
       "      <th>Low</th>\n",
       "    </tr>\n",
       "    <tr>\n",
       "      <th>Date</th>\n",
       "      <th></th>\n",
       "      <th></th>\n",
       "      <th></th>\n",
       "      <th></th>\n",
       "    </tr>\n",
       "  </thead>\n",
       "  <tbody>\n",
       "    <tr>\n",
       "      <td>1980-01-02</td>\n",
       "      <td>0.6601</td>\n",
       "      <td>0.6601</td>\n",
       "      <td>0.6601</td>\n",
       "      <td>0.6601</td>\n",
       "    </tr>\n",
       "    <tr>\n",
       "      <td>1980-01-03</td>\n",
       "      <td>0.6589</td>\n",
       "      <td>0.6589</td>\n",
       "      <td>0.6589</td>\n",
       "      <td>0.6589</td>\n",
       "    </tr>\n",
       "    <tr>\n",
       "      <td>1980-01-04</td>\n",
       "      <td>0.6610</td>\n",
       "      <td>0.6610</td>\n",
       "      <td>0.6610</td>\n",
       "      <td>0.6610</td>\n",
       "    </tr>\n",
       "    <tr>\n",
       "      <td>1980-01-07</td>\n",
       "      <td>0.6593</td>\n",
       "      <td>0.6593</td>\n",
       "      <td>0.6593</td>\n",
       "      <td>0.6593</td>\n",
       "    </tr>\n",
       "    <tr>\n",
       "      <td>1980-01-08</td>\n",
       "      <td>0.6619</td>\n",
       "      <td>0.6619</td>\n",
       "      <td>0.6619</td>\n",
       "      <td>0.6619</td>\n",
       "    </tr>\n",
       "  </tbody>\n",
       "</table>\n",
       "</div>"
      ],
      "text/plain": [
       "             Price    Open    High     Low\n",
       "Date                                      \n",
       "1980-01-02  0.6601  0.6601  0.6601  0.6601\n",
       "1980-01-03  0.6589  0.6589  0.6589  0.6589\n",
       "1980-01-04  0.6610  0.6610  0.6610  0.6610\n",
       "1980-01-07  0.6593  0.6593  0.6593  0.6593\n",
       "1980-01-08  0.6619  0.6619  0.6619  0.6619"
      ]
     },
     "execution_count": 5,
     "metadata": {},
     "output_type": "execute_result"
    }
   ],
   "source": [
    "l = []\n",
    "for f in range(1,4):\n",
    "    l.append(pd.read_csv(\"usd_eur_40yrs/%s.csv\"%(f),\n",
    "                     na_filter=True,\n",
    "                     parse_dates=True,\n",
    "                     index_col=\"Date\",\n",
    "                    ))\n",
    "# merge 10year csvs\n",
    "df = pd.concat(l,axis=0)\n",
    "# sort by date\n",
    "df.sort_values([\"Date\"],inplace=True)\n",
    "# needless feature\n",
    "df.drop(\"Change %\",axis=1,inplace=True)\n",
    "print (df.shape)\n",
    "df.head()"
   ]
  },
  {
   "cell_type": "code",
   "execution_count": 6,
   "metadata": {},
   "outputs": [],
   "source": [
    "# Save to database\n",
    "conn = sql.connect('database.db')\n",
    "cur = conn.cursor()\n",
    "df.to_sql(\"raw_prices\", conn, if_exists=\"replace\")\n",
    "conn.close()"
   ]
  },
  {
   "cell_type": "markdown",
   "metadata": {},
   "source": [
    "## Section for TA indicators (Future)\n",
    "\n",
    "- No volume in dataset"
   ]
  },
  {
   "cell_type": "code",
   "execution_count": null,
   "metadata": {},
   "outputs": [],
   "source": []
  },
  {
   "cell_type": "markdown",
   "metadata": {},
   "source": [
    "## Create GAF images\n",
    "- apply a 5day rolling window to create 1day step labels for supervised learning \n",
    "- independent variables for training set:  Open, High, Low\n",
    "- dependent variable: Price\n",
    "- 80-20 train/test split\n",
    "- **Just 2 classes B/S** "
   ]
  },
  {
   "cell_type": "code",
   "execution_count": 7,
   "metadata": {},
   "outputs": [],
   "source": [
    "from mpl_toolkits.axes_grid1 import ImageGrid\n",
    "from pyts.image import GramianAngularField # conda install -c conda-forge pyts\n",
    "\n",
    "# Parameters\n",
    "path = 'database.db'\n",
    "table_name = 'raw_prices'\n",
    "n_steps = 10 # 5 day rolling window \n",
    "split_threshold = 0.80 # 80-20 train-test split\n",
    "transaction_threshold = 1 # Transaction cost per trade as a % ( 1 = 1 %)"
   ]
  },
  {
   "cell_type": "markdown",
   "metadata": {},
   "source": [
    "#### Creating Labels "
   ]
  },
  {
   "cell_type": "code",
   "execution_count": 8,
   "metadata": {},
   "outputs": [
    {
     "name": "stdout",
     "output_type": "stream",
     "text": [
      "                 t     t+1  class\n",
      "Date                             \n",
      "1980-01-02  0.6601  0.6601      1\n",
      "1980-01-03  0.6589  0.6601      1\n"
     ]
    }
   ],
   "source": [
    "# Retrieve raw prices\n",
    "conn = sql.connect(path)\n",
    "cur = conn.cursor()\n",
    "df = pd.read_sql_query(\"SELECT Date,Price, Open, High, Low FROM %s\" %(table_name), conn)\n",
    "df['Date'] = pd.to_datetime(df['Date'])\n",
    "df.set_index(['Date'],inplace=True)\n",
    "\n",
    "# Create labels for supervised learning\n",
    "df_classes = pd.DataFrame()\n",
    "df_classes[\"t\"] = df['Price']\n",
    "df_classes[\"t+1\"] = df['Price'].shift(1); df_classes[\"t+1\"][0] = 0.6601 # fill original val\n",
    "df_classes[\"class\"] = 0\n",
    "df_classes[\"class\"].where(df_classes[\"t\"].values>df_classes[\"t+1\"].values,\n",
    "                          1, # if price rise -> BUY , else -> SELL\n",
    "                          inplace=True,  )\n",
    "print(df_classes.head(2))\n",
    "# Save labels to database\n",
    "df_classes.to_sql(\"classes\", conn, if_exists=\"replace\")\n",
    "conn.close()\n",
    "\n",
    "# Set as new feature in df\n",
    "df['Class'] = df_classes[\"class\"].values"
   ]
  },
  {
   "cell_type": "markdown",
   "metadata": {},
   "source": [
    "#### Creating poolar encodings"
   ]
  },
  {
   "cell_type": "code",
   "execution_count": 12,
   "metadata": {},
   "outputs": [
    {
     "name": "stdout",
     "output_type": "stream",
     "text": [
      "(6137, 5) (1535, 5)\n"
     ]
    }
   ],
   "source": [
    "# Split into train / test sets\n",
    "df_train = df.iloc[ : int(len(df) * split_threshold), : ]\n",
    "df_test = df.iloc[int(len(df) * split_threshold) : , : ]\n",
    "print (df_train.shape, df_test.shape)\n",
    "\n",
    "\"\"\"\n",
    "Inputs: independent non-categorical features. (All price data)\n",
    "Ouputs: Polar coordinates\n",
    "- Scales independent features 0-1 with MinMax\n",
    "- Uses arccos to create polar coordinates  for the subsequent GASF images\n",
    "\"\"\"\n",
    "def scale_and_polarise(train_data,test_data):\n",
    "    # def prep_data\n",
    "    \" Scale data between [ 0 , 1 ] with MinMax  \"\n",
    "    from sklearn.preprocessing import MinMaxScaler\n",
    "    scaler = MinMaxScaler()\n",
    "    #scaler2 = MinMaxScaler()\n",
    "\n",
    "    scaled_train = scaler.fit_transform(train_data)\n",
    "    #scaled_test= scaler2.fit_transform(test_data)\n",
    "    scaled_test= scaler.transform(test_data)\n",
    "    #print(np.max(scaled_train) , np.max(scaled_test)) # sanity check\n",
    "\n",
    "    \" Encode angles as Polar Coordinates  \"\n",
    "    polar_train = pd.DataFrame(np.arccos(scaled_train))\n",
    "    polar_test = pd.DataFrame(np.arccos(scaled_test))\n",
    "    #print(np.max(polar_train) , np.max(polar_test)) # sanity check\n",
    "    \n",
    "    # Set column names and index as in original\n",
    "    polar_train.columns = train_data.columns ; polar_test.columns = test_data.columns\n",
    "    polar_train.index = train_data.index ; polar_test.index = test_data.index\n",
    "    \n",
    "    # save the scaler for future use \n",
    "    pickle.dump(scaler, open('../trained_models/scaler.pkl', 'wb'))\n",
    "    \n",
    "    return polar_train, polar_test\n",
    "\n",
    "# Create Polar Coordinates forfrom independent features ( except dependent / categorical )\n",
    "polar_train, polar_test = scale_and_polarise(df_train.loc[:,df_train.columns != \"Class\"],\n",
    "                                                        df_test.loc[:, df_test.columns != \"Class\"],   )\n",
    "tranformed_train, tranformed_test = pd.concat([polar_train, df_train['Class'],], axis=1), pd.concat([polar_test, df_test['Class'],], axis=1)"
   ]
  },
  {
   "cell_type": "markdown",
   "metadata": {},
   "source": [
    "#### Creating Training / Test data"
   ]
  },
  {
   "cell_type": "code",
   "execution_count": 7,
   "metadata": {},
   "outputs": [
    {
     "data": {
      "text/plain": [
       "[(6127, 10, 4), (6127,), (6127, 1), (1525, 10, 4), (1525,), (1525, 1)]"
      ]
     },
     "execution_count": 7,
     "metadata": {},
     "output_type": "execute_result"
    }
   ],
   "source": [
    "\"\"\"\n",
    "Inputs: time-series from data subset\n",
    "Ouputs: training data & labels \n",
    "- Divides series into independent and dependent features \n",
    "- So that it can create training data and labels \n",
    "- Based on length of rolling window, and how many steps ahead the forecast is \n",
    "- **Loss of data** equal to size of window\n",
    "\"\"\"\n",
    "def split_series(df, n_steps):\n",
    "    features_indi = df.loc[:, df.columns != 'Class'].to_numpy() # exlude dependent feature\n",
    "    features_depe = df['Class'].to_numpy()\n",
    "    X, y = list(), list()\n",
    "    for i in range(len(df)):\n",
    "        end_ix = i + n_steps # find the end of this pattern\n",
    "        if end_ix > len(df)-1: # check if we are beyond the dataset\n",
    "            break\n",
    "        # gather input and output parts of the pattern\n",
    "        seq_x, seq_y = features_indi[i:end_ix, :], features_depe[end_ix] \n",
    "        X.append(seq_x) ; y.append(seq_y)\n",
    "        \n",
    "    return np.array(X), np.array(y), pd.DataFrame(df.index[n_steps:])#dates - rolling window\n",
    "\n",
    "# Split each of the train / test sets into training data and labels ( Data loss = size rolling window)\n",
    "trainX, trainY, train_dates = split_series(tranformed_train,n_steps)\n",
    "testX, testY, test_dates = split_series(tranformed_test,n_steps)\n",
    "\n",
    "\n",
    "\" FOR 1 SECURITY MAY NOT BE NEEDED \"\n",
    "# # Expand Dimensions \n",
    "# \"\"\"\n",
    "# CORRECT FORMAT: samples(datapoints),rows(window),columns(stocks),channels(features) \n",
    "# - for cnn\n",
    "# \"\"\"\n",
    "# trainX = np.expand_dims(trainX,axis=2); testX = np.expand_dims(testX,axis=2) # for features\n",
    "# trainY = np.expand_dims(trainY,axis=1); testY = np.expand_dims(testY,axis=1) # for labels\n",
    "\n",
    "# Check resulting shape of tensor\n",
    "[x.shape for x in [trainX, trainY, train_dates, testX, testY, test_dates ]]"
   ]
  },
  {
   "cell_type": "markdown",
   "metadata": {},
   "source": [
    "#### Creating GAF features"
   ]
  },
  {
   "cell_type": "code",
   "execution_count": 8,
   "metadata": {},
   "outputs": [],
   "source": [
    "def feature_tensor2GAF (ndarray, n_steps):\n",
    "    \"\"\"\n",
    "    Pass each stock in nd array,\n",
    "    - creates a 4D array\n",
    "    - For period t creates 3 images of size 10*10 for each of the 3 features\n",
    "    - need to create a 5d array for a portfolio \n",
    "    \"\"\"\n",
    "    # accepts a DF \n",
    "    ## loops over Stocks creating GSF time series\n",
    "    list_features = []\n",
    "    for feature in range(ndarray.shape[2]): \n",
    "        transformer = GramianAngularField(image_size=n_steps, method='summation') # ==> MAKES THEM INTO IMAGES\n",
    "                                                                             # image_size must be equal to window lentgh\n",
    "        transformed_feature = transformer.transform(ndarray[:,:,feature]) # these are the features \n",
    "        list_features.append(transformed_feature)\n",
    "        \n",
    "    return np.transpose((list_features), axes=(1,2,3,0)) #np.array(list_features) #np.transpose((list_features), axes=(1,0,2,3)) #axes=(1,2,3,0)"
   ]
  },
  {
   "cell_type": "code",
   "execution_count": 9,
   "metadata": {},
   "outputs": [
    {
     "data": {
      "text/plain": [
       "[(6127, 10, 10, 4), (6127,), (1525, 10, 10, 4), (1525,)]"
      ]
     },
     "execution_count": 9,
     "metadata": {},
     "output_type": "execute_result"
    }
   ],
   "source": [
    "# Convert independent variables into GAF features from train and test sets\n",
    "train_X = feature_tensor2GAF(trainX, n_steps)\n",
    "test_X = feature_tensor2GAF(testX, n_steps)\n",
    "# Rename labels\n",
    "train_Y, test_Y = trainY, testY\n",
    "\n",
    "[x.shape for x in [train_X, train_Y, test_X, test_Y]]"
   ]
  },
  {
   "cell_type": "code",
   "execution_count": 10,
   "metadata": {},
   "outputs": [
    {
     "data": {
      "image/png": "[encoded data removed]",
      "text/plain": [
       "<Figure size 1440x1008 with 12 Axes>"
      ]
     },
     "metadata": {
      "needs_background": "light"
     },
     "output_type": "display_data"
    }
   ],
   "source": [
    "train_gaf_3d = train_X # Data only for USD/EUR\n",
    "fig = plt.figure(figsize=(20, 14))\n",
    "grid = ImageGrid(fig, 111,\n",
    "                 nrows_ncols=(2, 3),\n",
    "                 axes_pad=0.15,\n",
    "                 share_all=True,\n",
    "                 cbar_location=\"right\",\n",
    "                 cbar_mode=\"single\",\n",
    "                 cbar_size=\"7%\",\n",
    "                 cbar_pad=0.3)\n",
    "\n",
    "images = [train_gaf_3d[0,  : , :, 0],\n",
    "          train_gaf_3d[0,  : , :, 1],\n",
    "          train_gaf_3d[0,  :, :, 2],\n",
    "          train_gaf_3d[-1,  : , :, 0],\n",
    "          train_gaf_3d[-1,  : , :, 1],\n",
    "          train_gaf_3d[-1,  : , :, 2] ]   # 3 first stock features, last image\n",
    " \n",
    "titles = ['First GAF Feature 1','First GAF Feature 2','First GAF Feature 3',\n",
    "          'Last GAF Feature 1','Last GAF Feature 2', 'Last GAF Feature 3']\n",
    "\n",
    "for image, title, ax in zip(images, titles, grid):\n",
    "    im = ax.imshow(image, cmap='rainbow', origin='lower')\n",
    "    ax.set_title(title, fontdict={'fontsize': 16})\n",
    "ax.cax.colorbar(im)\n",
    "ax.cax.toggle_label(True)\n",
    "\n",
    "plt.suptitle('Gramian Angular Fields', y=0.92, fontsize=20)\n",
    "plt.show()"
   ]
  },
  {
   "cell_type": "markdown",
   "metadata": {},
   "source": [
    "#### Save GAF Features for modeling"
   ]
  },
  {
   "cell_type": "code",
   "execution_count": 11,
   "metadata": {},
   "outputs": [],
   "source": [
    "''' \n",
    "4D tensor \n",
    "GADF \n",
    "10 rolling window\n",
    "1 step ahead forecast\n",
    "'''\n",
    "file = open('usd_eur_gadf.pkl', 'wb')\n",
    "pickle.dump( # dump information to that file\n",
    "    [train_X,train_Y,train_dates, # TRAIN DATA\n",
    "     test_X,test_Y, test_dates  # TEST DATA\n",
    "    ],  file)\n",
    "file.close()"
   ]
  },
  {
   "cell_type": "markdown",
   "metadata": {},
   "source": [
    "============================  END  ==========================="
   ]
  },
  {
   "cell_type": "raw",
   "metadata": {},
   "source": [
    "# Load data\n",
    "train_X, train_Y, train_dates  ,   test_X, test_Y, test_dates = pd.read_pickle('usd_eur_gadf.pkl')\n",
    "[x.shape for x in [train_X, train_Y, train_dates, test_X, test_Y, test_dates ]]"
   ]
  },
  {
   "cell_type": "code",
   "execution_count": null,
   "metadata": {},
   "outputs": [],
   "source": []
  }
 ],
 "metadata": {
  "kernelspec": {
   "display_name": "Python 3",
   "language": "python",
   "name": "python3"
  },
  "language_info": {
   "codemirror_mode": {
    "name": "ipython",
    "version": 3
   },
   "file_extension": ".py",
   "mimetype": "text/x-python",
   "name": "python",
   "nbconvert_exporter": "python",
   "pygments_lexer": "ipython3",
   "version": "3.7.4"
  }
 },
 "nbformat": 4,
 "nbformat_minor": 2
}
