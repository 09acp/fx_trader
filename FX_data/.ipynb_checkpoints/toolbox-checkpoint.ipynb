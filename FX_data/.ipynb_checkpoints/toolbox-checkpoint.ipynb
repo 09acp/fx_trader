{
 "cells": [
  {
   "cell_type": "markdown",
   "metadata": {},
   "source": [
    "# Toolbox - Script with helper functions\n"
   ]
  },
  {
   "cell_type": "code",
   "execution_count": 1,
   "metadata": {},
   "outputs": [],
   "source": [
    "import pandas as pd\n",
    "import numpy as np\n",
    "import matplotlib.pyplot as plt"
   ]
  },
  {
   "cell_type": "markdown",
   "metadata": {},
   "source": [
    "#### helper functions"
   ]
  },
  {
   "cell_type": "code",
   "execution_count": 2,
   "metadata": {},
   "outputs": [],
   "source": [
    "def create_classes(var,transaction_threshold):\n",
    "    \"\"\"\n",
    "    Generates buy / sell / hold labels for classification models.\n",
    "    Factors for transaction costs with threshold set in 'transaction_threshold'\n",
    "    - Input a series (Close prices)\n",
    "    - Output \n",
    "        - if price rise and profit > transaction cost: buy : 1\n",
    "        - if price fall and profit > transaction cost: sell : 2\n",
    "        - else 0 (stay put)\n",
    "    \"\"\"\n",
    "    val_list = []\n",
    "    var = np.exp(var)\n",
    "    for index in var.index:\n",
    "        # fix bias 1st nan\n",
    "        # t-1 value\n",
    "        if not index == 0:\n",
    "            val_past = (var.values[index - 1]) \n",
    "        else: \n",
    "            val_past = (var.values[index])    \n",
    "        # t value \n",
    "        val_now = (var.values[index]) \n",
    "        # Hard Bound Thresholds \n",
    "        if val_now == val_past: val_now = 0 # not profitable aka neutral\n",
    "        elif val_now > val_past: \n",
    "            profit = (val_now - val_past)*100 # expect price rise  \n",
    "            if profit > transaction_threshold: val_now=1 # buy\n",
    "            else: val_now = 0 # not profitable\n",
    "        elif val_now < val_past:   #sell\n",
    "            profit = (val_past - val_now)*100 # expect price fall\n",
    "            if profit > transaction_threshold: val_now= 2 # sell\n",
    "            else: val_now = 0 # not profitable\n",
    "        val_now = int(val_now)\n",
    "        val_list.append(val_now) \n",
    "    return val_list  \n"
   ]
  },
  {
   "cell_type": "markdown",
   "metadata": {},
   "source": [
    "#### GAF images"
   ]
  },
  {
   "cell_type": "code",
   "execution_count": 9,
   "metadata": {},
   "outputs": [],
   "source": [
    "\"\"\"\n",
    "# FUNCTIONS GENERATES LABELS FROM A TIME SERIES \n",
    "# EVERY n_steps (ROLLING WINDOW)\n",
    "# train_X are the features , train_Y are the price labels \n",
    "\"\"\"\n",
    "class pre_processing ():\n",
    "    def __init__(self, df, n_steps , split_threshold):\n",
    "        self.df = df\n",
    "        self.n_steps = n_steps # the size of the sliding window\n",
    "        self.split_threshold = split_threshold  # the ratio for the train:test split\n",
    "        self.df_train = None\n",
    "        self.df_test = None\n",
    "    def split_data(self):\n",
    "        # 80 - 20 data split \n",
    "        self.df_train = self.df.iloc[ : int(len(self.df)*self.split_threshold), : ]\n",
    "        self.df_test = self.df.iloc[ int(len(self.df)*self.split_threshold):, : ]         \n",
    "        return self.df_train, self.df_test        \n",
    "    def tensor_samples_labels (self,df_train,df_test,table):\n",
    "        # create training data and labels for the time_series\n",
    "        def split_time_series(dfx):\n",
    "            dfx_train = dfx.loc[:, dfx.columns != 'Price']\n",
    "            dfx_train = dfx_train.to_numpy()\n",
    "            dfx_labels = dfx['Price']\n",
    "            dfx_labels = dfx_labels.to_numpy()\n",
    "            X, y = list(), list()\n",
    "            for i in range(len(dfx_train)):\n",
    "                # find the end of this pattern\n",
    "                end_ix = i + self.n_steps\n",
    "                # check if we are beyond the dataset\n",
    "                if end_ix > len(dfx_train)-1:\n",
    "                    break\n",
    "                # gather input and output parts of the pattern\n",
    "                seq_x, seq_y = dfx_train[i:end_ix, :], dfx_labels[end_ix] \n",
    "                X.append(seq_x)\n",
    "                y.append(seq_y)\n",
    "            return array(X), array(y) \n",
    "        # convert into input/output\n",
    "        train_X, train_Y = split_time_series(df_train)\n",
    "        val_X, val_Y = split_time_series(df_test)\n",
    "        return train_X, train_Y , val_X, val_Y"
   ]
  },
  {
   "cell_type": "code",
   "execution_count": 8,
   "metadata": {},
   "outputs": [],
   "source": [
    "def scale_and_polarise(train_data,test_data):\n",
    "    # def prep_data\n",
    "    \" Scale data between [ 0 , 1 ] with MinMax  \"\n",
    "    from sklearn.preprocessing import MinMaxScaler\n",
    "    scaler1 = MinMaxScaler()\n",
    "    scaler2 = MinMaxScaler()\n",
    "\n",
    "    scaled_train = scaler1.fit_transform(train_data)\n",
    "    scaled_test= scaler2.fit_transform(test_data)\n",
    "    #print(np.max(scaled_train) , np.max(scaled_test)) # sanity check\n",
    "\n",
    "    \" Encode angles as Polar Coordinates  \"\n",
    "    polar_train = np.arccos(scaled_train)\n",
    "    polar_test = np.arccos(scaled_test)\n",
    "    #print(np.max(polar_train) , np.max(polar_test)) # sanity check\n",
    "\n",
    "    return pd.DataFrame(polar_train), pd.DataFrame(polar_test) "
   ]
  },
  {
   "cell_type": "code",
   "execution_count": null,
   "metadata": {},
   "outputs": [],
   "source": []
  },
  {
   "cell_type": "code",
   "execution_count": null,
   "metadata": {},
   "outputs": [],
   "source": []
  },
  {
   "cell_type": "code",
   "execution_count": null,
   "metadata": {},
   "outputs": [],
   "source": []
  },
  {
   "cell_type": "code",
   "execution_count": null,
   "metadata": {},
   "outputs": [],
   "source": []
  },
  {
   "cell_type": "code",
   "execution_count": null,
   "metadata": {},
   "outputs": [],
   "source": []
  }
 ],
 "metadata": {
  "kernelspec": {
   "display_name": "Python 3",
   "language": "python",
   "name": "python3"
  },
  "language_info": {
   "codemirror_mode": {
    "name": "ipython",
    "version": 3
   },
   "file_extension": ".py",
   "mimetype": "text/x-python",
   "name": "python",
   "nbconvert_exporter": "python",
   "pygments_lexer": "ipython3",
   "version": "3.7.4"
  }
 },
 "nbformat": 4,
 "nbformat_minor": 2
}
