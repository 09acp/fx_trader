{
 "cells": [
  {
   "cell_type": "markdown",
   "metadata": {},
   "source": [
    "# TA Time-Series\n",
    "- creates technical analysis time-series\n",
    "- stores in \"database\""
   ]
  },
  {
   "cell_type": "code",
   "execution_count": 1,
   "metadata": {},
   "outputs": [],
   "source": [
    "import pandas as pd\n",
    "import numpy as np\n",
    "import sqlite3 as sql\n",
    "import ta "
   ]
  },
  {
   "cell_type": "code",
   "execution_count": 2,
   "metadata": {},
   "outputs": [],
   "source": [
    "# Load price data \n",
    "database_name = \"database.db\"\n",
    "conn = sql.connect(database_name)\n",
    "cur = conn.cursor()\n",
    "\n",
    "df = pd.read_sql_query(\"SELECT * FROM raw_prices\", conn)  #FROM eda_data_LR\n",
    "df['Date']=pd.to_datetime(df['Date'])\n",
    "#df.set_index(['Date'],inplace=True)\n",
    "conn.close() \n"
   ]
  },
  {
   "cell_type": "markdown",
   "metadata": {},
   "source": [
    "## TA Indicators\n",
    "\n",
    "#### Bollinger Bands\n",
    "#### RSI\n",
    "- This is a momentum indicator plotted on a separate scale. There’s a single line scaled from 0 to 100 that identifies overbought and oversold conditions in the market.\n",
    "\n",
    "- Readings over 70 indicate an overbought market, and readings below 30 indicate an oversold market.\n",
    "\n",
    "- The whole idea behind RSI is to pick the tops and bottoms, to get into a market as the trend is reversing.\n",
    "\n",
    "-  If RSI is above the 50 level, the market is probably in an uptrend. Conversely, if the line is below 50, the market is probably in a downtrend.\n",
    "\n",
    "#### MACD\n",
    "- This is a trend indicator and it consists of a fast line, slow line, and a histogram. \n",
    "- The MACD fast line is a moving of the moving average of the difference between MA-fast and MA-slow.\n",
    "- The MACD slow line is a moving average of the MACD fast line. The number of periods is defined by MA-period.\n",
    "- The histogram shows the difference between the MACD fast and slow lines.\n",
    "\n",
    "\n",
    "- When a new trend is forming, the MACD lines will converge, eventually they’ll crossover (indicating that the trend has reversed), and the lines then start to diverge. At the point of crossover, the histogram will disappear because the difference between the lines is 0.\n",
    "\n",
    "\n",
    "- Lags behind price quite a lot. Great for confirming trends.\n",
    "\n",
    "#### Average Directional Index (ADX)\n",
    "- The Average Directional Index (ADX) is in turn derived from the smoothed averages of the difference between +DI and -DI, and measures the strength of the trend (regardless of direction) over time.\n",
    "\n",
    "- Average Directional Index (ADX) values range from 0 to 100, and is intended to give you a signal of trend strength.\n",
    "\n",
    "- If ADX is below 20, the trend is weak. If it’s above 50, the trend is strong. Bear in mind though, that ADX doesn’t tell you the direction of the trend, just the streng"
   ]
  },
  {
   "cell_type": "code",
   "execution_count": 3,
   "metadata": {},
   "outputs": [
    {
     "name": "stderr",
     "output_type": "stream",
     "text": [
      "C:\\Users\\09ale\\Anaconda3\\lib\\site-packages\\ta\\trend.py:543: RuntimeWarning: invalid value encountered in double_scalars\n",
      "  dip[i] = 100 * (self._dip[i]/self._trs[i])\n",
      "C:\\Users\\09ale\\Anaconda3\\lib\\site-packages\\ta\\trend.py:547: RuntimeWarning: invalid value encountered in double_scalars\n",
      "  din[i] = 100 * (self._din[i]/self._trs[i])\n"
     ]
    }
   ],
   "source": [
    "df_ta = pd.DataFrame()\n",
    "# Features\n",
    "df_ta['Date'] = df.Date\n",
    "df_ta['Close'] = df.Price\n",
    "# RSI\n",
    "df_ta['RSI'] = ta.momentum.RSIIndicator(df['Price'], n=12).rsi()\n",
    "# MACD\n",
    "df_ta['MACD_Line'] =  ta.trend.MACD(df['Price'], \n",
    "                                   n_slow=26, \n",
    "                                   n_fast=12, \n",
    "                                   n_sign=9,).macd()\n",
    "df_ta['MACD_Histogram'] =  ta.trend.MACD(df['Price'], \n",
    "                                   n_slow=26, \n",
    "                                   n_fast=12, \n",
    "                                   n_sign=9,).macd_diff()\n",
    "df_ta['MACD_Signal'] =  ta.trend.MACD(df['Price'], \n",
    "                                   n_slow=26, \n",
    "                                   n_fast=12, \n",
    "                                   n_sign=9,).macd_signal()\n",
    "# Bollinger Bands\n",
    "df_ta['BollingerB_High'] = ta.volatility.BollingerBands(df['Price'], \n",
    "                                   n=20, \n",
    "                                   ndev=2).bollinger_hband()\n",
    "\n",
    "df_ta['BollingerB_Low'] = ta.volatility.BollingerBands(df['Price'], \n",
    "                                   n=20, \n",
    "                                   ndev=2).bollinger_lband()\n",
    "df_ta['BollingerB_Middle'] = ta.volatility.BollingerBands(df['Price'], \n",
    "                                   n=20, \n",
    "                                   ndev=2).bollinger_mavg()\n",
    "# Average Directional Index (ADX)\n",
    "df_ta['ADX'] = ta.trend.adx(df['High'], df['Low'], df['Price'], n=14) #.psar()"
   ]
  },
  {
   "cell_type": "markdown",
   "metadata": {},
   "source": [
    "### Impute and Save data"
   ]
  },
  {
   "cell_type": "code",
   "execution_count": 4,
   "metadata": {},
   "outputs": [
    {
     "data": {
      "text/html": [
       "<div>\n",
       "<style scoped>\n",
       "    .dataframe tbody tr th:only-of-type {\n",
       "        vertical-align: middle;\n",
       "    }\n",
       "\n",
       "    .dataframe tbody tr th {\n",
       "        vertical-align: top;\n",
       "    }\n",
       "\n",
       "    .dataframe thead th {\n",
       "        text-align: right;\n",
       "    }\n",
       "</style>\n",
       "<table border=\"1\" class=\"dataframe\">\n",
       "  <thead>\n",
       "    <tr style=\"text-align: right;\">\n",
       "      <th></th>\n",
       "      <th>Date</th>\n",
       "      <th>Close</th>\n",
       "      <th>RSI</th>\n",
       "      <th>MACD_Line</th>\n",
       "      <th>MACD_Histogram</th>\n",
       "      <th>MACD_Signal</th>\n",
       "      <th>BollingerB_High</th>\n",
       "      <th>BollingerB_Low</th>\n",
       "      <th>BollingerB_Middle</th>\n",
       "      <th>ADX</th>\n",
       "    </tr>\n",
       "  </thead>\n",
       "  <tbody>\n",
       "    <tr>\n",
       "      <td>0</td>\n",
       "      <td>1980-01-02</td>\n",
       "      <td>0.6601</td>\n",
       "      <td>100.000000</td>\n",
       "      <td>0.002027</td>\n",
       "      <td>-0.000309</td>\n",
       "      <td>0.001505</td>\n",
       "      <td>0.660100</td>\n",
       "      <td>0.660100</td>\n",
       "      <td>0.660100</td>\n",
       "      <td>0.0</td>\n",
       "    </tr>\n",
       "    <tr>\n",
       "      <td>1</td>\n",
       "      <td>1980-01-03</td>\n",
       "      <td>0.6589</td>\n",
       "      <td>0.000000</td>\n",
       "      <td>0.002027</td>\n",
       "      <td>-0.000309</td>\n",
       "      <td>0.001505</td>\n",
       "      <td>0.660700</td>\n",
       "      <td>0.658300</td>\n",
       "      <td>0.659500</td>\n",
       "      <td>0.0</td>\n",
       "    </tr>\n",
       "    <tr>\n",
       "      <td>2</td>\n",
       "      <td>1980-01-04</td>\n",
       "      <td>0.6610</td>\n",
       "      <td>65.625000</td>\n",
       "      <td>0.002027</td>\n",
       "      <td>-0.000309</td>\n",
       "      <td>0.001505</td>\n",
       "      <td>0.661720</td>\n",
       "      <td>0.658280</td>\n",
       "      <td>0.660000</td>\n",
       "      <td>0.0</td>\n",
       "    </tr>\n",
       "    <tr>\n",
       "      <td>3</td>\n",
       "      <td>1980-01-07</td>\n",
       "      <td>0.6593</td>\n",
       "      <td>41.546763</td>\n",
       "      <td>0.002027</td>\n",
       "      <td>-0.000309</td>\n",
       "      <td>0.001505</td>\n",
       "      <td>0.661434</td>\n",
       "      <td>0.658216</td>\n",
       "      <td>0.659825</td>\n",
       "      <td>0.0</td>\n",
       "    </tr>\n",
       "    <tr>\n",
       "      <td>4</td>\n",
       "      <td>1980-01-08</td>\n",
       "      <td>0.6619</td>\n",
       "      <td>63.742394</td>\n",
       "      <td>0.002027</td>\n",
       "      <td>-0.000309</td>\n",
       "      <td>0.001505</td>\n",
       "      <td>0.662437</td>\n",
       "      <td>0.658043</td>\n",
       "      <td>0.660240</td>\n",
       "      <td>0.0</td>\n",
       "    </tr>\n",
       "  </tbody>\n",
       "</table>\n",
       "</div>"
      ],
      "text/plain": [
       "        Date   Close         RSI  MACD_Line  MACD_Histogram  MACD_Signal  \\\n",
       "0 1980-01-02  0.6601  100.000000   0.002027       -0.000309     0.001505   \n",
       "1 1980-01-03  0.6589    0.000000   0.002027       -0.000309     0.001505   \n",
       "2 1980-01-04  0.6610   65.625000   0.002027       -0.000309     0.001505   \n",
       "3 1980-01-07  0.6593   41.546763   0.002027       -0.000309     0.001505   \n",
       "4 1980-01-08  0.6619   63.742394   0.002027       -0.000309     0.001505   \n",
       "\n",
       "   BollingerB_High  BollingerB_Low  BollingerB_Middle  ADX  \n",
       "0         0.660100        0.660100           0.660100  0.0  \n",
       "1         0.660700        0.658300           0.659500  0.0  \n",
       "2         0.661720        0.658280           0.660000  0.0  \n",
       "3         0.661434        0.658216           0.659825  0.0  \n",
       "4         0.662437        0.658043           0.660240  0.0  "
      ]
     },
     "execution_count": 4,
     "metadata": {},
     "output_type": "execute_result"
    }
   ],
   "source": [
    "# Replace NaNs with 0s / Backfill\n",
    "df_ta.fillna(method='bfill',inplace=True)\n",
    "df_ta.head()"
   ]
  },
  {
   "cell_type": "code",
   "execution_count": 5,
   "metadata": {},
   "outputs": [],
   "source": [
    "# Save to database\n",
    "conn = sql.connect('database.db')\n",
    "cur = conn.cursor()\n",
    "df_ta.to_sql(\"ta_series\", conn, if_exists=\"replace\",index=False)\n",
    "conn.close()"
   ]
  },
  {
   "cell_type": "markdown",
   "metadata": {},
   "source": [
    "=====================   END   ==================="
   ]
  }
 ],
 "metadata": {
  "kernelspec": {
   "display_name": "Python 3",
   "language": "python",
   "name": "python3"
  },
  "language_info": {
   "codemirror_mode": {
    "name": "ipython",
    "version": 3
   },
   "file_extension": ".py",
   "mimetype": "text/x-python",
   "name": "python",
   "nbconvert_exporter": "python",
   "pygments_lexer": "ipython3",
   "version": "3.7.4"
  }
 },
 "nbformat": 4,
 "nbformat_minor": 2
}
